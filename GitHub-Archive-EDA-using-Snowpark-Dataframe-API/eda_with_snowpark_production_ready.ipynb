{
 "cells": [
  {
   "cell_type": "code",
   "execution_count": 1,
   "id": "fc20e994",
   "metadata": {},
   "outputs": [],
   "source": [
    "# Snowpark for Python\n",
    "from snowflake.snowpark.session import Session\n",
    "from snowflake.snowpark.functions import month,year,col,sum,row_number\n",
    "from snowflake.snowpark.version import VERSION\n",
    "from snowflake.snowpark import Window\n",
    "\n",
    "# Misc\n",
    "import json\n",
    "import logging \n",
    "logger = logging.getLogger(\"snowflake.snowpark.session\")\n",
    "logger.setLevel(logging.ERROR)"
   ]
  },
  {
   "cell_type": "code",
   "execution_count": 2,
   "id": "c6d2066a",
   "metadata": {},
   "outputs": [
    {
     "name": "stdout",
     "output_type": "stream",
     "text": [
      "User                        : VINOD\n",
      "Role                        : \"ACCOUNTADMIN\"\n",
      "Database                    : \"GITHUB_ARCHIVE_EVENTS\"\n",
      "Schema                      : \"CYBERSYN\"\n",
      "Warehouse                   : \"VINO_L\"\n",
      "Snowflake version           : 7.29.1\n",
      "Snowpark for Python version : 1.5.1\n"
     ]
    }
   ],
   "source": [
    "# Create Snowflake Session object\n",
    "connection_parameters = json.load(open('connection.json'))\n",
    "session = Session.builder.configs(connection_parameters).create()\n",
    "session.sql_simplifier_enabled = True\n",
    "\n",
    "snowflake_environment = session.sql('select current_user(), current_version()').collect()\n",
    "snowpark_version = VERSION\n",
    "\n",
    "# Current Environment Details\n",
    "print('User                        : {}'.format(snowflake_environment[0][0]))\n",
    "print('Role                        : {}'.format(session.get_current_role()))\n",
    "print('Database                    : {}'.format(session.get_current_database()))\n",
    "print('Schema                      : {}'.format(session.get_current_schema()))\n",
    "print('Warehouse                   : {}'.format(session.get_current_warehouse()))\n",
    "print('Snowflake version           : {}'.format(snowflake_environment[0][1]))\n",
    "print('Snowpark for Python version : {}.{}.{}'.format(snowpark_version[0],snowpark_version[1],snowpark_version[2]))"
   ]
  },
  {
   "cell_type": "code",
   "execution_count": 3,
   "id": "aa2c796c",
   "metadata": {},
   "outputs": [],
   "source": [
    "# create dataframe objects from snowflake tables\n",
    "events_df = session.table(\"github_archive_events.cybersyn.gh_events\")\n",
    "repos_df = session.table(\"github_archive_events.cybersyn.gh_repos\")\n",
    "stars_df = session.table(\"github_archive_events.cybersyn.gh_stars\")"
   ]
  },
  {
   "cell_type": "code",
   "execution_count": 4,
   "id": "03645a9d",
   "metadata": {},
   "outputs": [
    {
     "data": {
      "text/plain": [
       "StructType([StructField('ID', StringType(16777216), nullable=True), StructField('CREATED_AT', StringType(16777216), nullable=True), StructField('ACTOR_AVATAR_URL', StringType(16777216), nullable=True), StructField('ACTOR_DISPLAY_LOGIN', StringType(16777216), nullable=True), StructField('ACTOR_GRAVATAR_ID', StringType(16777216), nullable=True), StructField('ACTOR_ID', LongType(), nullable=True), StructField('ACTOR_LOGIN', StringType(16777216), nullable=True), StructField('ACTOR_URL', StringType(16777216), nullable=True), StructField('ORG_AVATAR_URL', StringType(16777216), nullable=True), StructField('ORG_GRAVATAR_ID', StringType(16777216), nullable=True), StructField('ORG_ID', LongType(), nullable=True), StructField('ORG_LOGIN', StringType(16777216), nullable=True), StructField('ORG_URL', StringType(16777216), nullable=True), StructField('PAYLOAD', VariantType(), nullable=True), StructField('PAYLOAD_ACTION', StringType(16777216), nullable=True), StructField('PAYLOAD_DESCRIPTION', StringType(16777216), nullable=True), StructField('PAYLOAD_COMMENT', StringType(16777216), nullable=True), StructField('PAYLOAD_MASTER_BRANCH', StringType(16777216), nullable=True), StructField('PAYLOAD_PULL_REQUEST', StringType(16777216), nullable=True), StructField('PAYLOAD_PUSHER_TYPE', StringType(16777216), nullable=True), StructField('PAYLOAD_PUSH_ID', LongType(), nullable=True), StructField('PAYLOAD_HEAD', StringType(16777216), nullable=True), StructField('PAYLOAD_REF', StringType(16777216), nullable=True), StructField('PAYLOAD_REF_TYPE', StringType(16777216), nullable=True), StructField('PAYLOAD_ISSUE_ID', LongType(), nullable=True), StructField('PAYLOAD_ISSUE', VariantType(), nullable=True), StructField('PAYLOAD_BODY', StringType(16777216), nullable=True), StructField('PAYLOAD_COMMIT_ID', StringType(16777216), nullable=True), StructField('PAYLOAD_CREATED_AT', StringType(16777216), nullable=True), StructField('PAYLOAD_USER_ID', LongType(), nullable=True), StructField('PAYLOAD_USER_LOGIN', StringType(16777216), nullable=True), StructField('ISSUE', VariantType(), nullable=True), StructField('ISSUE_ACTIVE_LOCK_REASON', StringType(16777216), nullable=True), StructField('ISSUE_ASSIGNEE', StringType(16777216), nullable=True), StructField('ISSUE_ASSIGNEES', VariantType(), nullable=True), StructField('ISSUE_AUTHOR_ASSOCIATION', StringType(16777216), nullable=True), StructField('ISSUE_BODY', StringType(16777216), nullable=True), StructField('ISSUE_CLOSED_AT', StringType(16777216), nullable=True), StructField('ISSUE_COMMENTS', LongType(), nullable=True), StructField('ISSUE_COMMENTS_URL', StringType(16777216), nullable=True), StructField('ISSUE_CREATED_AT', StringType(16777216), nullable=True), StructField('ISSUE_DRAFT', BooleanType(), nullable=True), StructField('ISSUE_EVENTS_URL', StringType(16777216), nullable=True), StructField('ISSUE_HTML_URL', StringType(16777216), nullable=True), StructField('ISSUE_ID', LongType(), nullable=True), StructField('ISSUE_LABELS', VariantType(), nullable=True), StructField('ISSUE_LABELS_URL', StringType(16777216), nullable=True), StructField('ISSUE_LOCKED', BooleanType(), nullable=True), StructField('ISSUE_MILESTONE', StringType(16777216), nullable=True), StructField('ISSUE_NODE_ID', StringType(16777216), nullable=True), StructField('ISSUE_NUMBER', LongType(), nullable=True), StructField('ISSUE_PERFORMED_VIA_GITHUB_APP', StringType(16777216), nullable=True), StructField('ISSUE_PULL_REQUEST', VariantType(), nullable=True), StructField('ISSUE_REACTIONS', VariantType(), nullable=True), StructField('ISSUE_REPOSITORY_URL', StringType(16777216), nullable=True), StructField('ISSUE_STATE', StringType(16777216), nullable=True), StructField('ISSUE_TIMELINE_URL', StringType(16777216), nullable=True), StructField('ISSUE_TITLE', StringType(16777216), nullable=True), StructField('ISSUE_UPDATED_AT', StringType(16777216), nullable=True), StructField('ISSUE_URL', StringType(16777216), nullable=True), StructField('ISSUE_USER_ID', LongType(), nullable=True), StructField('ISSUE_USER_LOGIN', StringType(16777216), nullable=True), StructField('ISSUE_USER_TYPE', StringType(16777216), nullable=True), StructField('PUBLIC', BooleanType(), nullable=True), StructField('REPO_ID', LongType(), nullable=True), StructField('REPO_NAME', StringType(16777216), nullable=True), StructField('REPO_URL', StringType(16777216), nullable=True), StructField('TYPE', StringType(16777216), nullable=True), StructField('LOAD_DATE', StringType(10), nullable=True), StructField('CREATED_AT_TIMESTAMP', TimestampType(), nullable=True)])"
      ]
     },
     "execution_count": 4,
     "metadata": {},
     "output_type": "execute_result"
    }
   ],
   "source": [
    "events_df.schema"
   ]
  },
  {
   "cell_type": "code",
   "execution_count": 5,
   "id": "56f5f414",
   "metadata": {},
   "outputs": [
    {
     "data": {
      "text/plain": [
       "StructType([StructField('REPO_ID', LongType(), nullable=True), StructField('REPO_NAME', StringType(16777216), nullable=True), StructField('FIRST_SEEN', DateType(), nullable=True)])"
      ]
     },
     "execution_count": 5,
     "metadata": {},
     "output_type": "execute_result"
    }
   ],
   "source": [
    "repos_df.schema"
   ]
  },
  {
   "cell_type": "code",
   "execution_count": 6,
   "id": "5321a4a1",
   "metadata": {},
   "outputs": [
    {
     "data": {
      "text/plain": [
       "['REPO_ID', 'REPO_NAME', 'FIRST_SEEN']"
      ]
     },
     "execution_count": 6,
     "metadata": {},
     "output_type": "execute_result"
    }
   ],
   "source": [
    "repos_df_columns = repos_df.schema.names\n",
    "repos_df_columns"
   ]
  },
  {
   "cell_type": "code",
   "execution_count": 9,
   "id": "54462208",
   "metadata": {},
   "outputs": [
    {
     "data": {
      "text/plain": [
       "StructType([StructField('REPO_ID', LongType(), nullable=True), StructField('DATE', DateType(), nullable=True), StructField('COUNT', LongType(), nullable=True)])"
      ]
     },
     "execution_count": 9,
     "metadata": {},
     "output_type": "execute_result"
    }
   ],
   "source": [
    "stars_df.schema"
   ]
  },
  {
   "cell_type": "markdown",
   "id": "f67d08d9",
   "metadata": {},
   "source": [
    " # Let's analyze `stars_df` dataframe"
   ]
  },
  {
   "cell_type": "markdown",
   "id": "841e30d6",
   "metadata": {},
   "source": [
    "For each repository, for every year, what is the total number of stars added?"
   ]
  },
  {
   "cell_type": "code",
   "execution_count": 10,
   "id": "dc903858",
   "metadata": {},
   "outputs": [],
   "source": [
    "total_stars_by_repo_year = stars_df.group_by(\"REPO_ID\", year(\"DATE\"))\\\n",
    "                                .agg(sum(\"COUNT\"))\\\n",
    "                                .with_column_renamed('\"SUM(COUNT)\"', \"sum_of_stars\")\\\n",
    "                                .with_column_renamed('\"YEAR(DATE)\"', \"year\")\\\n",
    "                                .sort(\"sum_of_stars\", ascending=False)"
   ]
  },
  {
   "cell_type": "code",
   "execution_count": 11,
   "id": "800dedad",
   "metadata": {},
   "outputs": [
    {
     "name": "stdout",
     "output_type": "stream",
     "text": [
      "---------------------------------------------------------------------------\n",
      "|\"SUMMARY\"  |\"REPO_ID\"           |\"YEAR\"             |\"SUM_OF_STARS\"      |\n",
      "---------------------------------------------------------------------------\n",
      "|max        |681399568.0         |2023.0             |345750.0            |\n",
      "|mean       |241157453.879243    |2020.129013        |8.292049            |\n",
      "|count      |44712281.0          |44712281.0         |44712281.0          |\n",
      "|min        |1.0                 |2011.0             |1.0                 |\n",
      "|stddev     |188549228.93505043  |2.428608449297663  |150.60252150611555  |\n",
      "---------------------------------------------------------------------------\n",
      "\n"
     ]
    }
   ],
   "source": [
    "total_stars_by_repo_year.describe().show()"
   ]
  },
  {
   "cell_type": "code",
   "execution_count": null,
   "id": "9403307e",
   "metadata": {},
   "outputs": [],
   "source": [
    "# total_stars_by_repo_year.describe().show()\n",
    "\"\"\"\n",
    "SELECT  *  \n",
    "FROM \n",
    "(\n",
    "      ( SELECT 'count' AS \"SUMMARY\", \n",
    "                \"COUNT(REPO_ID)\" AS \"REPO_ID\", \n",
    "                \"COUNT(YEAR)\" AS \"YEAR\", \n",
    "                \"COUNT(SUM_OF_STARS)\" AS \"SUM_OF_STARS\" \n",
    "        FROM ( SELECT count(\"REPO_ID\") AS \"COUNT(REPO_ID)\", \n",
    "                    count(\"YEAR\") AS \"COUNT(YEAR)\", \n",
    "                    count(\"SUM_OF_STARS\") AS \"COUNT(SUM_OF_STARS)\" \n",
    "                FROM ( SELECT  *  \n",
    "                        FROM ( SELECT \"REPO_ID\", \n",
    "                                        \"YEAR(DATE)\" AS \"YEAR\", \n",
    "                                        \"SUM(COUNT)\" AS \"SUM_OF_STARS\" \n",
    "                                FROM ( SELECT \"REPO_ID\", \n",
    "                                                year(\"DATE\") AS \"YEAR(DATE)\", \n",
    "                                                sum(\"COUNT\") AS \"SUM(COUNT)\"\n",
    "                                        FROM ( SELECT  *  \n",
    "                                                FROM github_archive_events.cybersyn.gh_stars\n",
    "                                             ) \n",
    "                                        GROUP BY \"REPO_ID\", year(\"DATE\")\n",
    "                                      )\n",
    "                             )\n",
    "                        ORDER BY \"SUM_OF_STARS\" DESC NULLS LAST\n",
    "                     ) \n",
    "                LIMIT 1\n",
    "            )\n",
    "        ) \n",
    "        \n",
    "        UNION \n",
    "        \n",
    "        ( SELECT 'mean' AS \"SUMMARY\", \n",
    "                \"AVG(REPO_ID)\" AS \"REPO_ID\", \n",
    "                \"AVG(YEAR)\" AS \"YEAR\", \n",
    "                \"AVG(SUM_OF_STARS)\" AS \"SUM_OF_STARS\" \n",
    "            FROM ( SELECT avg(\"REPO_ID\") AS \"AVG(REPO_ID)\", \n",
    "                            avg(\"YEAR\") AS \"AVG(YEAR)\", \n",
    "                            avg(\"SUM_OF_STARS\") AS \"AVG(SUM_OF_STARS)\" \n",
    "                    FROM ( SELECT  *  \n",
    "                            FROM ( SELECT \"REPO_ID\", \n",
    "                                            \"YEAR(DATE)\" AS \"YEAR\", \n",
    "                                            \"SUM(COUNT)\" AS \"SUM_OF_STARS\" \n",
    "                                    FROM ( SELECT \"REPO_ID\", \n",
    "                                                    year(\"DATE\") AS \"YEAR(DATE)\", \n",
    "                                                    sum(\"COUNT\") AS \"SUM(COUNT)\" \n",
    "                                            FROM ( SELECT  *  \n",
    "                                                    FROM github_archive_events.cybersyn.gh_stars\n",
    "                                                 ) \n",
    "                                            GROUP BY \"REPO_ID\", year(\"DATE\")\n",
    "                                         )\n",
    "                                 ) ORDER BY \"SUM_OF_STARS\" DESC NULLS LAST\n",
    "                         ) \n",
    "                    LIMIT 1\n",
    "                )\n",
    "        ) \n",
    "        \n",
    "        UNION \n",
    "        \n",
    "        ( SELECT 'stddev' AS \"SUMMARY\", \n",
    "                    \"STDDEV(REPO_ID)\" AS \"REPO_ID\", \n",
    "                    \"STDDEV(YEAR)\" AS \"YEAR\", \n",
    "                    \"STDDEV(SUM_OF_STARS)\" AS \"SUM_OF_STARS\" \n",
    "            FROM ( SELECT stddev(\"REPO_ID\") AS \"STDDEV(REPO_ID)\", \n",
    "                            stddev(\"YEAR\") AS \"STDDEV(YEAR)\", \n",
    "                            stddev(\"SUM_OF_STARS\") AS \"STDDEV(SUM_OF_STARS)\" \n",
    "                    FROM ( SELECT  *  \n",
    "                            FROM ( SELECT \"REPO_ID\", \n",
    "                                            \"YEAR(DATE)\" AS \"YEAR\", \n",
    "                                            \"SUM(COUNT)\" AS \"SUM_OF_STARS\" \n",
    "                                    FROM ( SELECT \"REPO_ID\", \n",
    "                                                    year(\"DATE\") AS \"YEAR(DATE)\", \n",
    "                                                    sum(\"COUNT\") AS \"SUM(COUNT)\" \n",
    "                                            FROM ( SELECT  *  \n",
    "                                                    FROM github_archive_events.cybersyn.gh_stars\n",
    "                                                 ) \n",
    "                                            GROUP BY \"REPO_ID\", year(\"DATE\")\n",
    "                                         )\n",
    "                                 ) ORDER BY \"SUM_OF_STARS\" DESC NULLS LAST\n",
    "                         ) \n",
    "                    LIMIT 1\n",
    "                )\n",
    "        ) \n",
    "        \n",
    "        UNION \n",
    "        \n",
    "        ( SELECT 'min' AS \"SUMMARY\", \n",
    "                    \"MIN(REPO_ID)\" AS \"REPO_ID\", \n",
    "                    \"MIN(YEAR)\" AS \"YEAR\", \n",
    "                    \"MIN(SUM_OF_STARS)\" AS \"SUM_OF_STARS\" \n",
    "         FROM ( SELECT min(\"REPO_ID\") AS \"MIN(REPO_ID)\", \n",
    "                         min(\"YEAR\") AS \"MIN(YEAR)\", \n",
    "                         min(\"SUM_OF_STARS\") AS \"MIN(SUM_OF_STARS)\" \n",
    "                FROM ( SELECT  *  \n",
    "                        FROM ( SELECT \"REPO_ID\", \n",
    "                                        \"YEAR(DATE)\" AS \"YEAR\", \n",
    "                                        \"SUM(COUNT)\" AS \"SUM_OF_STARS\" \n",
    "                                FROM ( SELECT \"REPO_ID\", \n",
    "                                                year(\"DATE\") AS \"YEAR(DATE)\", \n",
    "                                                sum(\"COUNT\") AS \"SUM(COUNT)\" \n",
    "                                        FROM ( SELECT  *  \n",
    "                                                FROM github_archive_events.cybersyn.gh_stars\n",
    "                                             ) \n",
    "                                        GROUP BY \"REPO_ID\", year(\"DATE\")\n",
    "                                     )\n",
    "                             ) ORDER BY \"SUM_OF_STARS\" DESC NULLS LAST\n",
    "                    ) \n",
    "                LIMIT 1\n",
    "                )\n",
    "        ) \n",
    "        \n",
    "        UNION \n",
    "        \n",
    "        ( SELECT 'max' AS \"SUMMARY\", \n",
    "                    \"MAX(REPO_ID)\" AS \"REPO_ID\", \n",
    "                    \"MAX(YEAR)\" AS \"YEAR\", \n",
    "                    \"MAX(SUM_OF_STARS)\" AS \"SUM_OF_STARS\"\n",
    "          FROM ( SELECT max(\"REPO_ID\") AS \"MAX(REPO_ID)\", \n",
    "                          max(\"YEAR\") AS \"MAX(YEAR)\", \n",
    "                          max(\"SUM_OF_STARS\") AS \"MAX(SUM_OF_STARS)\" \n",
    "                  FROM ( SELECT  *  \n",
    "                          FROM ( SELECT \"REPO_ID\", \n",
    "                                          \"YEAR(DATE)\" AS \"YEAR\", \n",
    "                                          \"SUM(COUNT)\" AS \"SUM_OF_STARS\" \n",
    "                                 FROM ( SELECT \"REPO_ID\", \n",
    "                                                 year(\"DATE\") AS \"YEAR(DATE)\", \n",
    "                                                 sum(\"COUNT\") AS \"SUM(COUNT)\" \n",
    "                                        FROM ( SELECT  *  \n",
    "                                                FROM github_archive_events.cybersyn.gh_stars\n",
    "                                             ) \n",
    "                                        GROUP BY \"REPO_ID\", year(\"DATE\")\n",
    "                                        )\n",
    "                                ) ORDER BY \"SUM_OF_STARS\" DESC NULLS LAST\n",
    "                        ) \n",
    "                 LIMIT 1\n",
    "                 )\n",
    "        )\n",
    ") \n",
    "LIMIT 10\n",
    "\"\"\""
   ]
  },
  {
   "cell_type": "markdown",
   "id": "4414d102",
   "metadata": {},
   "source": [
    "### NOTE:\n",
    "1. `describe()` is a very expensive operation. Use sparingly.\n",
    "\n",
    "2. Even if we include a specific column in the `describe()` argument, it is still an expensive operation. So, beware!"
   ]
  },
  {
   "cell_type": "code",
   "execution_count": 12,
   "id": "b3cc77ed",
   "metadata": {},
   "outputs": [
    {
     "name": "stdout",
     "output_type": "stream",
     "text": [
      "---------------------------------\n",
      "|\"SUMMARY\"  |\"YEAR\"             |\n",
      "---------------------------------\n",
      "|stddev     |2.428608449297663  |\n",
      "|mean       |2020.129013        |\n",
      "|max        |2023.0             |\n",
      "|min        |2011.0             |\n",
      "|count      |44712281.0         |\n",
      "---------------------------------\n",
      "\n"
     ]
    }
   ],
   "source": [
    "total_stars_by_repo_year.describe(\"year\").show()"
   ]
  },
  {
   "cell_type": "code",
   "execution_count": 13,
   "id": "3228f8b8",
   "metadata": {},
   "outputs": [
    {
     "name": "stdout",
     "output_type": "stream",
     "text": [
      "----------\n",
      "|\"YEAR\"  |\n",
      "----------\n",
      "|2011    |\n",
      "|2017    |\n",
      "|2020    |\n",
      "|2021    |\n",
      "|2019    |\n",
      "|2022    |\n",
      "|2015    |\n",
      "|2023    |\n",
      "|2012    |\n",
      "|2018    |\n",
      "----------\n",
      "\n"
     ]
    }
   ],
   "source": [
    "total_stars_by_repo_year.select('year').distinct().show()"
   ]
  },
  {
   "cell_type": "code",
   "execution_count": null,
   "id": "76f0c3c4",
   "metadata": {},
   "outputs": [],
   "source": [
    "# total_stars_by_repo_year.select('year').distinct().show()\n",
    "\n",
    "\"\"\"\n",
    "SELECT  *  \n",
    "FROM ( SELECT \"YEAR\" \n",
    "        FROM ( SELECT \"YEAR\" \n",
    "                FROM ( SELECT \"REPO_ID\", \n",
    "                                \"YEAR(DATE)\" AS \"YEAR\", \n",
    "                                \"SUM(COUNT)\" AS \"SUM_OF_STARS\" \n",
    "                        FROM ( SELECT \"REPO_ID\", \n",
    "                                        year(\"DATE\") AS \"YEAR(DATE)\", \n",
    "                                        sum(\"COUNT\") AS \"SUM(COUNT)\" \n",
    "                                FROM ( SELECT  *  \n",
    "                                        FROM github_archive_events.cybersyn.gh_stars\n",
    "                                     ) \n",
    "                                GROUP BY \"REPO_ID\", year(\"DATE\")\n",
    "                             )\n",
    "                     ) \n",
    "                 ORDER BY \"SUM_OF_STARS\" DESC NULLS LAST\n",
    "             ) \n",
    "        GROUP BY \"YEAR\"\n",
    "    ) \n",
    "LIMIT 10\n",
    "\"\"\""
   ]
  },
  {
   "cell_type": "markdown",
   "id": "6bb9ed60",
   "metadata": {},
   "source": [
    "# Caching the dataframe for faster querying\n",
    "\n",
    "Since Snowpark executes its commands lazily, there are times when the same transformation on a DataFrame is used multiple times. In this instance, the Snowpark DataFrame can be cached. In the background, Snowpark will create a temporary table and load the transformed data into that table. When that base DataFrame is used, later on, that table will be used instead of recalculating the transformations.\n",
    "\n",
    "In the above example, we are performing multiple operations on the `total_stars_by_repo_year` dataframe. However, since we are not caching the dataframe, you can see in the SQL query that the same set of operations are being done repeatedly everytime we run transformations on the dataframe."
   ]
  },
  {
   "cell_type": "code",
   "execution_count": 14,
   "id": "a9feadc0",
   "metadata": {},
   "outputs": [
    {
     "ename": "SnowparkSQLException",
     "evalue": "(1304): 01ae7b4d-0603-7de8-001e-2483015af6b6: 003540 (42501): SQL execution error: Creating table on shared database 'GITHUB_ARCHIVE_EVENTS' is not allowed.",
     "output_type": "error",
     "traceback": [
      "\u001b[0;31m---------------------------------------------------------------------------\u001b[0m",
      "\u001b[0;31mSnowparkSQLException\u001b[0m                      Traceback (most recent call last)",
      "Cell \u001b[0;32mIn[14], line 1\u001b[0m\n\u001b[0;32m----> 1\u001b[0m total_stars_by_repo_year \u001b[38;5;241m=\u001b[39m \u001b[43mtotal_stars_by_repo_year\u001b[49m\u001b[38;5;241;43m.\u001b[39;49m\u001b[43mcache_result\u001b[49m\u001b[43m(\u001b[49m\u001b[43m)\u001b[49m\n",
      "File \u001b[0;32m~/miniconda3/envs/gha-eda/lib/python3.9/site-packages/snowflake/snowpark/_internal/telemetry.py:139\u001b[0m, in \u001b[0;36mdf_collect_api_telemetry.<locals>.wrap\u001b[0;34m(*args, **kwargs)\u001b[0m\n\u001b[1;32m    136\u001b[0m \u001b[38;5;129m@functools\u001b[39m\u001b[38;5;241m.\u001b[39mwraps(func)\n\u001b[1;32m    137\u001b[0m \u001b[38;5;28;01mdef\u001b[39;00m \u001b[38;5;21mwrap\u001b[39m(\u001b[38;5;241m*\u001b[39margs, \u001b[38;5;241m*\u001b[39m\u001b[38;5;241m*\u001b[39mkwargs):\n\u001b[1;32m    138\u001b[0m     \u001b[38;5;28;01mwith\u001b[39;00m args[\u001b[38;5;241m0\u001b[39m]\u001b[38;5;241m.\u001b[39m_session\u001b[38;5;241m.\u001b[39mquery_history() \u001b[38;5;28;01mas\u001b[39;00m query_history:\n\u001b[0;32m--> 139\u001b[0m         result \u001b[38;5;241m=\u001b[39m \u001b[43mfunc\u001b[49m\u001b[43m(\u001b[49m\u001b[38;5;241;43m*\u001b[39;49m\u001b[43margs\u001b[49m\u001b[43m,\u001b[49m\u001b[43m \u001b[49m\u001b[38;5;241;43m*\u001b[39;49m\u001b[38;5;241;43m*\u001b[39;49m\u001b[43mkwargs\u001b[49m\u001b[43m)\u001b[49m\n\u001b[1;32m    140\u001b[0m     plan \u001b[38;5;241m=\u001b[39m args[\u001b[38;5;241m0\u001b[39m]\u001b[38;5;241m.\u001b[39m_select_statement \u001b[38;5;129;01mor\u001b[39;00m args[\u001b[38;5;241m0\u001b[39m]\u001b[38;5;241m.\u001b[39m_plan\n\u001b[1;32m    141\u001b[0m     api_calls \u001b[38;5;241m=\u001b[39m [\n\u001b[1;32m    142\u001b[0m         \u001b[38;5;241m*\u001b[39mplan\u001b[38;5;241m.\u001b[39mapi_calls,\n\u001b[1;32m    143\u001b[0m         {TelemetryField\u001b[38;5;241m.\u001b[39mNAME\u001b[38;5;241m.\u001b[39mvalue: \u001b[38;5;124mf\u001b[39m\u001b[38;5;124m\"\u001b[39m\u001b[38;5;124mDataFrame.\u001b[39m\u001b[38;5;132;01m{\u001b[39;00mfunc\u001b[38;5;241m.\u001b[39m\u001b[38;5;18m__name__\u001b[39m\u001b[38;5;132;01m}\u001b[39;00m\u001b[38;5;124m\"\u001b[39m},\n\u001b[1;32m    144\u001b[0m     ]\n",
      "File \u001b[0;32m~/miniconda3/envs/gha-eda/lib/python3.9/site-packages/snowflake/snowpark/dataframe.py:3496\u001b[0m, in \u001b[0;36mDataFrame.cache_result\u001b[0;34m(self, statement_params)\u001b[0m\n\u001b[1;32m   3489\u001b[0m temp_table_name \u001b[38;5;241m=\u001b[39m random_name_for_temp_object(TempObjectType\u001b[38;5;241m.\u001b[39mTABLE)\n\u001b[1;32m   3490\u001b[0m create_temp_table \u001b[38;5;241m=\u001b[39m \u001b[38;5;28mself\u001b[39m\u001b[38;5;241m.\u001b[39m_session\u001b[38;5;241m.\u001b[39m_plan_builder\u001b[38;5;241m.\u001b[39mcreate_temp_table(\n\u001b[1;32m   3491\u001b[0m     temp_table_name,\n\u001b[1;32m   3492\u001b[0m     \u001b[38;5;28mself\u001b[39m\u001b[38;5;241m.\u001b[39m_plan,\n\u001b[1;32m   3493\u001b[0m     use_scoped_temp_objects\u001b[38;5;241m=\u001b[39m\u001b[38;5;28mself\u001b[39m\u001b[38;5;241m.\u001b[39m_session\u001b[38;5;241m.\u001b[39m_use_scoped_temp_objects,\n\u001b[1;32m   3494\u001b[0m     is_generated\u001b[38;5;241m=\u001b[39m\u001b[38;5;28;01mTrue\u001b[39;00m,\n\u001b[1;32m   3495\u001b[0m )\n\u001b[0;32m-> 3496\u001b[0m \u001b[38;5;28;43mself\u001b[39;49m\u001b[38;5;241;43m.\u001b[39;49m\u001b[43m_session\u001b[49m\u001b[38;5;241;43m.\u001b[39;49m\u001b[43m_conn\u001b[49m\u001b[38;5;241;43m.\u001b[39;49m\u001b[43mexecute\u001b[49m\u001b[43m(\u001b[49m\n\u001b[1;32m   3497\u001b[0m \u001b[43m    \u001b[49m\u001b[43mcreate_temp_table\u001b[49m\u001b[43m,\u001b[49m\n\u001b[1;32m   3498\u001b[0m \u001b[43m    \u001b[49m\u001b[43m_statement_params\u001b[49m\u001b[38;5;241;43m=\u001b[39;49m\u001b[43mcreate_or_update_statement_params_with_query_tag\u001b[49m\u001b[43m(\u001b[49m\n\u001b[1;32m   3499\u001b[0m \u001b[43m        \u001b[49m\u001b[43mstatement_params\u001b[49m\u001b[43m \u001b[49m\u001b[38;5;129;43;01mor\u001b[39;49;00m\u001b[43m \u001b[49m\u001b[38;5;28;43mself\u001b[39;49m\u001b[38;5;241;43m.\u001b[39;49m\u001b[43m_statement_params\u001b[49m\u001b[43m,\u001b[49m\n\u001b[1;32m   3500\u001b[0m \u001b[43m        \u001b[49m\u001b[38;5;28;43mself\u001b[39;49m\u001b[38;5;241;43m.\u001b[39;49m\u001b[43m_session\u001b[49m\u001b[38;5;241;43m.\u001b[39;49m\u001b[43mquery_tag\u001b[49m\u001b[43m,\u001b[49m\n\u001b[1;32m   3501\u001b[0m \u001b[43m        \u001b[49m\u001b[43mSKIP_LEVELS_TWO\u001b[49m\u001b[43m,\u001b[49m\n\u001b[1;32m   3502\u001b[0m \u001b[43m    \u001b[49m\u001b[43m)\u001b[49m\u001b[43m,\u001b[49m\n\u001b[1;32m   3503\u001b[0m \u001b[43m\u001b[49m\u001b[43m)\u001b[49m\n\u001b[1;32m   3504\u001b[0m cached_df \u001b[38;5;241m=\u001b[39m \u001b[38;5;28mself\u001b[39m\u001b[38;5;241m.\u001b[39m_session\u001b[38;5;241m.\u001b[39mtable(temp_table_name)\n\u001b[1;32m   3505\u001b[0m cached_df\u001b[38;5;241m.\u001b[39mis_cached \u001b[38;5;241m=\u001b[39m \u001b[38;5;28;01mTrue\u001b[39;00m\n",
      "File \u001b[0;32m~/miniconda3/envs/gha-eda/lib/python3.9/site-packages/snowflake/snowpark/_internal/server_connection.py:442\u001b[0m, in \u001b[0;36mServerConnection.execute\u001b[0;34m(self, plan, to_pandas, to_iter, block, data_type, log_on_exception, case_sensitive, **kwargs)\u001b[0m\n\u001b[1;32m    438\u001b[0m \u001b[38;5;28;01mif\u001b[39;00m is_in_stored_procedure() \u001b[38;5;129;01mand\u001b[39;00m \u001b[38;5;129;01mnot\u001b[39;00m block:  \u001b[38;5;66;03m# pragma: no cover\u001b[39;00m\n\u001b[1;32m    439\u001b[0m     \u001b[38;5;28;01mraise\u001b[39;00m \u001b[38;5;167;01mNotImplementedError\u001b[39;00m(\n\u001b[1;32m    440\u001b[0m         \u001b[38;5;124m\"\u001b[39m\u001b[38;5;124mAsync query is not supported in stored procedure yet\u001b[39m\u001b[38;5;124m\"\u001b[39m\n\u001b[1;32m    441\u001b[0m     )\n\u001b[0;32m--> 442\u001b[0m result_set, result_meta \u001b[38;5;241m=\u001b[39m \u001b[38;5;28;43mself\u001b[39;49m\u001b[38;5;241;43m.\u001b[39;49m\u001b[43mget_result_set\u001b[49m\u001b[43m(\u001b[49m\n\u001b[1;32m    443\u001b[0m \u001b[43m    \u001b[49m\u001b[43mplan\u001b[49m\u001b[43m,\u001b[49m\n\u001b[1;32m    444\u001b[0m \u001b[43m    \u001b[49m\u001b[43mto_pandas\u001b[49m\u001b[43m,\u001b[49m\n\u001b[1;32m    445\u001b[0m \u001b[43m    \u001b[49m\u001b[43mto_iter\u001b[49m\u001b[43m,\u001b[49m\n\u001b[1;32m    446\u001b[0m \u001b[43m    \u001b[49m\u001b[38;5;241;43m*\u001b[39;49m\u001b[38;5;241;43m*\u001b[39;49m\u001b[43mkwargs\u001b[49m\u001b[43m,\u001b[49m\n\u001b[1;32m    447\u001b[0m \u001b[43m    \u001b[49m\u001b[43mblock\u001b[49m\u001b[38;5;241;43m=\u001b[39;49m\u001b[43mblock\u001b[49m\u001b[43m,\u001b[49m\n\u001b[1;32m    448\u001b[0m \u001b[43m    \u001b[49m\u001b[43mdata_type\u001b[49m\u001b[38;5;241;43m=\u001b[39;49m\u001b[43mdata_type\u001b[49m\u001b[43m,\u001b[49m\n\u001b[1;32m    449\u001b[0m \u001b[43m    \u001b[49m\u001b[43mlog_on_exception\u001b[49m\u001b[38;5;241;43m=\u001b[39;49m\u001b[43mlog_on_exception\u001b[49m\u001b[43m,\u001b[49m\n\u001b[1;32m    450\u001b[0m \u001b[43m    \u001b[49m\u001b[43mcase_sensitive\u001b[49m\u001b[38;5;241;43m=\u001b[39;49m\u001b[43mcase_sensitive\u001b[49m\u001b[43m,\u001b[49m\n\u001b[1;32m    451\u001b[0m \u001b[43m\u001b[49m\u001b[43m)\u001b[49m\n\u001b[1;32m    452\u001b[0m \u001b[38;5;28;01mif\u001b[39;00m \u001b[38;5;129;01mnot\u001b[39;00m block:\n\u001b[1;32m    453\u001b[0m     \u001b[38;5;28;01mreturn\u001b[39;00m result_set\n",
      "File \u001b[0;32m~/miniconda3/envs/gha-eda/lib/python3.9/site-packages/snowflake/snowpark/_internal/analyzer/snowflake_plan.py:180\u001b[0m, in \u001b[0;36mSnowflakePlan.Decorator.wrap_exception.<locals>.wrap\u001b[0;34m(*args, **kwargs)\u001b[0m\n\u001b[1;32m    176\u001b[0m \u001b[38;5;28;01melse\u001b[39;00m:\n\u001b[1;32m    177\u001b[0m     ne \u001b[38;5;241m=\u001b[39m SnowparkClientExceptionMessages\u001b[38;5;241m.\u001b[39mSQL_EXCEPTION_FROM_PROGRAMMING_ERROR(\n\u001b[1;32m    178\u001b[0m         e\n\u001b[1;32m    179\u001b[0m     )\n\u001b[0;32m--> 180\u001b[0m     \u001b[38;5;28;01mraise\u001b[39;00m ne\u001b[38;5;241m.\u001b[39mwith_traceback(tb) \u001b[38;5;28;01mfrom\u001b[39;00m \u001b[38;5;28;01mNone\u001b[39;00m\n",
      "File \u001b[0;32m~/miniconda3/envs/gha-eda/lib/python3.9/site-packages/snowflake/snowpark/_internal/analyzer/snowflake_plan.py:110\u001b[0m, in \u001b[0;36mSnowflakePlan.Decorator.wrap_exception.<locals>.wrap\u001b[0;34m(*args, **kwargs)\u001b[0m\n\u001b[1;32m    108\u001b[0m \u001b[38;5;28;01mdef\u001b[39;00m \u001b[38;5;21mwrap\u001b[39m(\u001b[38;5;241m*\u001b[39margs, \u001b[38;5;241m*\u001b[39m\u001b[38;5;241m*\u001b[39mkwargs):\n\u001b[1;32m    109\u001b[0m     \u001b[38;5;28;01mtry\u001b[39;00m:\n\u001b[0;32m--> 110\u001b[0m         \u001b[38;5;28;01mreturn\u001b[39;00m \u001b[43mfunc\u001b[49m\u001b[43m(\u001b[49m\u001b[38;5;241;43m*\u001b[39;49m\u001b[43margs\u001b[49m\u001b[43m,\u001b[49m\u001b[43m \u001b[49m\u001b[38;5;241;43m*\u001b[39;49m\u001b[38;5;241;43m*\u001b[39;49m\u001b[43mkwargs\u001b[49m\u001b[43m)\u001b[49m\n\u001b[1;32m    111\u001b[0m     \u001b[38;5;28;01mexcept\u001b[39;00m snowflake\u001b[38;5;241m.\u001b[39mconnector\u001b[38;5;241m.\u001b[39merrors\u001b[38;5;241m.\u001b[39mProgrammingError \u001b[38;5;28;01mas\u001b[39;00m e:\n\u001b[1;32m    112\u001b[0m         query \u001b[38;5;241m=\u001b[39m \u001b[38;5;28;01mNone\u001b[39;00m\n",
      "File \u001b[0;32m~/miniconda3/envs/gha-eda/lib/python3.9/site-packages/snowflake/snowpark/_internal/server_connection.py:550\u001b[0m, in \u001b[0;36mServerConnection.get_result_set\u001b[0;34m(self, plan, to_pandas, to_iter, block, data_type, log_on_exception, case_sensitive, **kwargs)\u001b[0m\n\u001b[1;32m    548\u001b[0m \u001b[38;5;28;01mfor\u001b[39;00m holder, id_ \u001b[38;5;129;01min\u001b[39;00m placeholders\u001b[38;5;241m.\u001b[39mitems():\n\u001b[1;32m    549\u001b[0m     final_query \u001b[38;5;241m=\u001b[39m final_query\u001b[38;5;241m.\u001b[39mreplace(holder, id_)\n\u001b[0;32m--> 550\u001b[0m result \u001b[38;5;241m=\u001b[39m \u001b[38;5;28;43mself\u001b[39;49m\u001b[38;5;241;43m.\u001b[39;49m\u001b[43mrun_query\u001b[49m\u001b[43m(\u001b[49m\n\u001b[1;32m    551\u001b[0m \u001b[43m    \u001b[49m\u001b[43mfinal_query\u001b[49m\u001b[43m,\u001b[49m\n\u001b[1;32m    552\u001b[0m \u001b[43m    \u001b[49m\u001b[43mto_pandas\u001b[49m\u001b[43m,\u001b[49m\n\u001b[1;32m    553\u001b[0m \u001b[43m    \u001b[49m\u001b[43mto_iter\u001b[49m\u001b[43m \u001b[49m\u001b[38;5;129;43;01mand\u001b[39;49;00m\u001b[43m \u001b[49m\u001b[43m(\u001b[49m\u001b[43mi\u001b[49m\u001b[43m \u001b[49m\u001b[38;5;241;43m==\u001b[39;49m\u001b[43m \u001b[49m\u001b[38;5;28;43mlen\u001b[39;49m\u001b[43m(\u001b[49m\u001b[43mplan\u001b[49m\u001b[38;5;241;43m.\u001b[39;49m\u001b[43mqueries\u001b[49m\u001b[43m)\u001b[49m\u001b[43m \u001b[49m\u001b[38;5;241;43m-\u001b[39;49m\u001b[43m \u001b[49m\u001b[38;5;241;43m1\u001b[39;49m\u001b[43m)\u001b[49m\u001b[43m,\u001b[49m\n\u001b[1;32m    554\u001b[0m \u001b[43m    \u001b[49m\u001b[43mis_ddl_on_temp_object\u001b[49m\u001b[38;5;241;43m=\u001b[39;49m\u001b[43mquery\u001b[49m\u001b[38;5;241;43m.\u001b[39;49m\u001b[43mis_ddl_on_temp_object\u001b[49m\u001b[43m,\u001b[49m\n\u001b[1;32m    555\u001b[0m \u001b[43m    \u001b[49m\u001b[43mblock\u001b[49m\u001b[38;5;241;43m=\u001b[39;49m\u001b[38;5;129;43;01mnot\u001b[39;49;00m\u001b[43m \u001b[49m\u001b[43mis_last\u001b[49m\u001b[43m,\u001b[49m\n\u001b[1;32m    556\u001b[0m \u001b[43m    \u001b[49m\u001b[43mdata_type\u001b[49m\u001b[38;5;241;43m=\u001b[39;49m\u001b[43mdata_type\u001b[49m\u001b[43m,\u001b[49m\n\u001b[1;32m    557\u001b[0m \u001b[43m    \u001b[49m\u001b[43masync_job_plan\u001b[49m\u001b[38;5;241;43m=\u001b[39;49m\u001b[43mplan\u001b[49m\u001b[43m,\u001b[49m\n\u001b[1;32m    558\u001b[0m \u001b[43m    \u001b[49m\u001b[43mlog_on_exception\u001b[49m\u001b[38;5;241;43m=\u001b[39;49m\u001b[43mlog_on_exception\u001b[49m\u001b[43m,\u001b[49m\n\u001b[1;32m    559\u001b[0m \u001b[43m    \u001b[49m\u001b[43mcase_sensitive\u001b[49m\u001b[38;5;241;43m=\u001b[39;49m\u001b[43mcase_sensitive\u001b[49m\u001b[43m,\u001b[49m\n\u001b[1;32m    560\u001b[0m \u001b[43m    \u001b[49m\u001b[43mparams\u001b[49m\u001b[38;5;241;43m=\u001b[39;49m\u001b[43mquery\u001b[49m\u001b[38;5;241;43m.\u001b[39;49m\u001b[43mparams\u001b[49m\u001b[43m,\u001b[49m\n\u001b[1;32m    561\u001b[0m \u001b[43m    \u001b[49m\u001b[38;5;241;43m*\u001b[39;49m\u001b[38;5;241;43m*\u001b[39;49m\u001b[43mkwargs\u001b[49m\u001b[43m,\u001b[49m\n\u001b[1;32m    562\u001b[0m \u001b[43m\u001b[49m\u001b[43m)\u001b[49m\n\u001b[1;32m    563\u001b[0m placeholders[query\u001b[38;5;241m.\u001b[39mquery_id_place_holder] \u001b[38;5;241m=\u001b[39m (\n\u001b[1;32m    564\u001b[0m     result[\u001b[38;5;124m\"\u001b[39m\u001b[38;5;124msfqid\u001b[39m\u001b[38;5;124m\"\u001b[39m] \u001b[38;5;28;01mif\u001b[39;00m \u001b[38;5;129;01mnot\u001b[39;00m is_last \u001b[38;5;28;01melse\u001b[39;00m result\u001b[38;5;241m.\u001b[39mquery_id\n\u001b[1;32m    565\u001b[0m )\n\u001b[1;32m    566\u001b[0m result_meta \u001b[38;5;241m=\u001b[39m \u001b[38;5;28mself\u001b[39m\u001b[38;5;241m.\u001b[39m_cursor\u001b[38;5;241m.\u001b[39mdescription\n",
      "File \u001b[0;32m~/miniconda3/envs/gha-eda/lib/python3.9/site-packages/snowflake/snowpark/_internal/server_connection.py:102\u001b[0m, in \u001b[0;36mServerConnection._Decorator.wrap_exception.<locals>.wrap\u001b[0;34m(*args, **kwargs)\u001b[0m\n\u001b[1;32m     98\u001b[0m     \u001b[38;5;28;01mraise\u001b[39;00m SnowparkClientExceptionMessages\u001b[38;5;241m.\u001b[39mSERVER_SESSION_EXPIRED(\n\u001b[1;32m     99\u001b[0m         ex\u001b[38;5;241m.\u001b[39mcause\n\u001b[1;32m    100\u001b[0m     )\n\u001b[1;32m    101\u001b[0m \u001b[38;5;28;01mexcept\u001b[39;00m \u001b[38;5;167;01mException\u001b[39;00m \u001b[38;5;28;01mas\u001b[39;00m ex:\n\u001b[0;32m--> 102\u001b[0m     \u001b[38;5;28;01mraise\u001b[39;00m ex\n",
      "File \u001b[0;32m~/miniconda3/envs/gha-eda/lib/python3.9/site-packages/snowflake/snowpark/_internal/server_connection.py:96\u001b[0m, in \u001b[0;36mServerConnection._Decorator.wrap_exception.<locals>.wrap\u001b[0;34m(*args, **kwargs)\u001b[0m\n\u001b[1;32m     94\u001b[0m     \u001b[38;5;28;01mraise\u001b[39;00m SnowparkClientExceptionMessages\u001b[38;5;241m.\u001b[39mSERVER_SESSION_HAS_BEEN_CLOSED()\n\u001b[1;32m     95\u001b[0m \u001b[38;5;28;01mtry\u001b[39;00m:\n\u001b[0;32m---> 96\u001b[0m     \u001b[38;5;28;01mreturn\u001b[39;00m \u001b[43mfunc\u001b[49m\u001b[43m(\u001b[49m\u001b[38;5;241;43m*\u001b[39;49m\u001b[43margs\u001b[49m\u001b[43m,\u001b[49m\u001b[43m \u001b[49m\u001b[38;5;241;43m*\u001b[39;49m\u001b[38;5;241;43m*\u001b[39;49m\u001b[43mkwargs\u001b[49m\u001b[43m)\u001b[49m\n\u001b[1;32m     97\u001b[0m \u001b[38;5;28;01mexcept\u001b[39;00m ReauthenticationRequest \u001b[38;5;28;01mas\u001b[39;00m ex:\n\u001b[1;32m     98\u001b[0m     \u001b[38;5;28;01mraise\u001b[39;00m SnowparkClientExceptionMessages\u001b[38;5;241m.\u001b[39mSERVER_SESSION_EXPIRED(\n\u001b[1;32m     99\u001b[0m         ex\u001b[38;5;241m.\u001b[39mcause\n\u001b[1;32m    100\u001b[0m     )\n",
      "File \u001b[0;32m~/miniconda3/envs/gha-eda/lib/python3.9/site-packages/snowflake/snowpark/_internal/server_connection.py:365\u001b[0m, in \u001b[0;36mServerConnection.run_query\u001b[0;34m(self, query, to_pandas, to_iter, is_ddl_on_temp_object, block, data_type, async_job_plan, log_on_exception, case_sensitive, params, **kwargs)\u001b[0m\n\u001b[1;32m    363\u001b[0m         query_id_log \u001b[38;5;241m=\u001b[39m \u001b[38;5;124mf\u001b[39m\u001b[38;5;124m\"\u001b[39m\u001b[38;5;124m [queryID: \u001b[39m\u001b[38;5;132;01m{\u001b[39;00mex\u001b[38;5;241m.\u001b[39msfqid\u001b[38;5;132;01m}\u001b[39;00m\u001b[38;5;124m]\u001b[39m\u001b[38;5;124m\"\u001b[39m \u001b[38;5;28;01mif\u001b[39;00m \u001b[38;5;28mhasattr\u001b[39m(ex, \u001b[38;5;124m\"\u001b[39m\u001b[38;5;124msfqid\u001b[39m\u001b[38;5;124m\"\u001b[39m) \u001b[38;5;28;01melse\u001b[39;00m \u001b[38;5;124m\"\u001b[39m\u001b[38;5;124m\"\u001b[39m\n\u001b[1;32m    364\u001b[0m         logger\u001b[38;5;241m.\u001b[39merror(\u001b[38;5;124mf\u001b[39m\u001b[38;5;124m\"\u001b[39m\u001b[38;5;124mFailed to execute query\u001b[39m\u001b[38;5;132;01m{\u001b[39;00mquery_id_log\u001b[38;5;132;01m}\u001b[39;00m\u001b[38;5;124m \u001b[39m\u001b[38;5;132;01m{\u001b[39;00mquery\u001b[38;5;132;01m}\u001b[39;00m\u001b[38;5;130;01m\\n\u001b[39;00m\u001b[38;5;132;01m{\u001b[39;00mex\u001b[38;5;132;01m}\u001b[39;00m\u001b[38;5;124m\"\u001b[39m)\n\u001b[0;32m--> 365\u001b[0m     \u001b[38;5;28;01mraise\u001b[39;00m ex\n\u001b[1;32m    367\u001b[0m \u001b[38;5;66;03m# fetch_pandas_all/batches() only works for SELECT statements\u001b[39;00m\n\u001b[1;32m    368\u001b[0m \u001b[38;5;66;03m# We call fetchall() if fetch_pandas_all/batches() fails,\u001b[39;00m\n\u001b[1;32m    369\u001b[0m \u001b[38;5;66;03m# because when the query plan has multiple queries, it will\u001b[39;00m\n\u001b[1;32m    370\u001b[0m \u001b[38;5;66;03m# have non-select statements, and it shouldn't fail if the user\u001b[39;00m\n\u001b[1;32m    371\u001b[0m \u001b[38;5;66;03m# calls to_pandas() to execute the query.\u001b[39;00m\n\u001b[1;32m    372\u001b[0m \u001b[38;5;28;01mif\u001b[39;00m block:\n",
      "File \u001b[0;32m~/miniconda3/envs/gha-eda/lib/python3.9/site-packages/snowflake/snowpark/_internal/server_connection.py:346\u001b[0m, in \u001b[0;36mServerConnection.run_query\u001b[0;34m(self, query, to_pandas, to_iter, is_ddl_on_temp_object, block, data_type, async_job_plan, log_on_exception, case_sensitive, params, **kwargs)\u001b[0m\n\u001b[1;32m    344\u001b[0m     kwargs[\u001b[38;5;124m\"\u001b[39m\u001b[38;5;124m_statement_params\u001b[39m\u001b[38;5;124m\"\u001b[39m][\u001b[38;5;124m\"\u001b[39m\u001b[38;5;124mSNOWPARK_SKIP_TXN_COMMIT_IN_DDL\u001b[39m\u001b[38;5;124m\"\u001b[39m] \u001b[38;5;241m=\u001b[39m \u001b[38;5;28;01mTrue\u001b[39;00m\n\u001b[1;32m    345\u001b[0m \u001b[38;5;28;01mif\u001b[39;00m block:\n\u001b[0;32m--> 346\u001b[0m     results_cursor \u001b[38;5;241m=\u001b[39m \u001b[38;5;28;43mself\u001b[39;49m\u001b[38;5;241;43m.\u001b[39;49m\u001b[43m_cursor\u001b[49m\u001b[38;5;241;43m.\u001b[39;49m\u001b[43mexecute\u001b[49m\u001b[43m(\u001b[49m\u001b[43mquery\u001b[49m\u001b[43m,\u001b[49m\u001b[43m \u001b[49m\u001b[43mparams\u001b[49m\u001b[38;5;241;43m=\u001b[39;49m\u001b[43mparams\u001b[49m\u001b[43m,\u001b[49m\u001b[43m \u001b[49m\u001b[38;5;241;43m*\u001b[39;49m\u001b[38;5;241;43m*\u001b[39;49m\u001b[43mkwargs\u001b[49m\u001b[43m)\u001b[49m\n\u001b[1;32m    347\u001b[0m     \u001b[38;5;28mself\u001b[39m\u001b[38;5;241m.\u001b[39mnotify_query_listeners(\n\u001b[1;32m    348\u001b[0m         QueryRecord(results_cursor\u001b[38;5;241m.\u001b[39msfqid, results_cursor\u001b[38;5;241m.\u001b[39mquery)\n\u001b[1;32m    349\u001b[0m     )\n\u001b[1;32m    350\u001b[0m     logger\u001b[38;5;241m.\u001b[39mdebug(\u001b[38;5;124mf\u001b[39m\u001b[38;5;124m\"\u001b[39m\u001b[38;5;124mExecute query [queryID: \u001b[39m\u001b[38;5;132;01m{\u001b[39;00mresults_cursor\u001b[38;5;241m.\u001b[39msfqid\u001b[38;5;132;01m}\u001b[39;00m\u001b[38;5;124m] \u001b[39m\u001b[38;5;132;01m{\u001b[39;00mquery\u001b[38;5;132;01m}\u001b[39;00m\u001b[38;5;124m\"\u001b[39m)\n",
      "File \u001b[0;32m~/miniconda3/envs/gha-eda/lib/python3.9/site-packages/snowflake/connector/cursor.py:904\u001b[0m, in \u001b[0;36mSnowflakeCursor.execute\u001b[0;34m(self, command, params, _bind_stage, timeout, _exec_async, _no_retry, _do_reset, _put_callback, _put_azure_callback, _put_callback_output_stream, _get_callback, _get_azure_callback, _get_callback_output_stream, _show_progress_bar, _statement_params, _is_internal, _describe_only, _no_results, _is_put_get, _raise_put_get_error, _force_put_overwrite, _skip_upload_on_content_match, file_stream, num_statements)\u001b[0m\n\u001b[1;32m    900\u001b[0m     is_integrity_error \u001b[38;5;241m=\u001b[39m (\n\u001b[1;32m    901\u001b[0m         code \u001b[38;5;241m==\u001b[39m \u001b[38;5;124m\"\u001b[39m\u001b[38;5;124m100072\u001b[39m\u001b[38;5;124m\"\u001b[39m\n\u001b[1;32m    902\u001b[0m     )  \u001b[38;5;66;03m# NULL result in a non-nullable column\u001b[39;00m\n\u001b[1;32m    903\u001b[0m     error_class \u001b[38;5;241m=\u001b[39m IntegrityError \u001b[38;5;28;01mif\u001b[39;00m is_integrity_error \u001b[38;5;28;01melse\u001b[39;00m ProgrammingError\n\u001b[0;32m--> 904\u001b[0m     \u001b[43mError\u001b[49m\u001b[38;5;241;43m.\u001b[39;49m\u001b[43merrorhandler_wrapper\u001b[49m\u001b[43m(\u001b[49m\u001b[38;5;28;43mself\u001b[39;49m\u001b[38;5;241;43m.\u001b[39;49m\u001b[43mconnection\u001b[49m\u001b[43m,\u001b[49m\u001b[43m \u001b[49m\u001b[38;5;28;43mself\u001b[39;49m\u001b[43m,\u001b[49m\u001b[43m \u001b[49m\u001b[43merror_class\u001b[49m\u001b[43m,\u001b[49m\u001b[43m \u001b[49m\u001b[43merrvalue\u001b[49m\u001b[43m)\u001b[49m\n\u001b[1;32m    905\u001b[0m \u001b[38;5;28;01mreturn\u001b[39;00m \u001b[38;5;28mself\u001b[39m\n",
      "File \u001b[0;32m~/miniconda3/envs/gha-eda/lib/python3.9/site-packages/snowflake/connector/errors.py:290\u001b[0m, in \u001b[0;36mError.errorhandler_wrapper\u001b[0;34m(connection, cursor, error_class, error_value)\u001b[0m\n\u001b[1;32m    267\u001b[0m \u001b[38;5;129m@staticmethod\u001b[39m\n\u001b[1;32m    268\u001b[0m \u001b[38;5;28;01mdef\u001b[39;00m \u001b[38;5;21merrorhandler_wrapper\u001b[39m(\n\u001b[1;32m    269\u001b[0m     connection: SnowflakeConnection \u001b[38;5;241m|\u001b[39m \u001b[38;5;28;01mNone\u001b[39;00m,\n\u001b[0;32m   (...)\u001b[0m\n\u001b[1;32m    272\u001b[0m     error_value: \u001b[38;5;28mdict\u001b[39m[\u001b[38;5;28mstr\u001b[39m, Any],\n\u001b[1;32m    273\u001b[0m ) \u001b[38;5;241m-\u001b[39m\u001b[38;5;241m>\u001b[39m \u001b[38;5;28;01mNone\u001b[39;00m:\n\u001b[1;32m    274\u001b[0m \u001b[38;5;250m    \u001b[39m\u001b[38;5;124;03m\"\"\"Error handler wrapper that calls the errorhandler method.\u001b[39;00m\n\u001b[1;32m    275\u001b[0m \n\u001b[1;32m    276\u001b[0m \u001b[38;5;124;03m    Args:\u001b[39;00m\n\u001b[0;32m   (...)\u001b[0m\n\u001b[1;32m    287\u001b[0m \u001b[38;5;124;03m        exception to the first handler in that order.\u001b[39;00m\n\u001b[1;32m    288\u001b[0m \u001b[38;5;124;03m    \"\"\"\u001b[39;00m\n\u001b[0;32m--> 290\u001b[0m     handed_over \u001b[38;5;241m=\u001b[39m \u001b[43mError\u001b[49m\u001b[38;5;241;43m.\u001b[39;49m\u001b[43mhand_to_other_handler\u001b[49m\u001b[43m(\u001b[49m\n\u001b[1;32m    291\u001b[0m \u001b[43m        \u001b[49m\u001b[43mconnection\u001b[49m\u001b[43m,\u001b[49m\n\u001b[1;32m    292\u001b[0m \u001b[43m        \u001b[49m\u001b[43mcursor\u001b[49m\u001b[43m,\u001b[49m\n\u001b[1;32m    293\u001b[0m \u001b[43m        \u001b[49m\u001b[43merror_class\u001b[49m\u001b[43m,\u001b[49m\n\u001b[1;32m    294\u001b[0m \u001b[43m        \u001b[49m\u001b[43merror_value\u001b[49m\u001b[43m,\u001b[49m\n\u001b[1;32m    295\u001b[0m \u001b[43m    \u001b[49m\u001b[43m)\u001b[49m\n\u001b[1;32m    296\u001b[0m     \u001b[38;5;28;01mif\u001b[39;00m \u001b[38;5;129;01mnot\u001b[39;00m handed_over:\n\u001b[1;32m    297\u001b[0m         \u001b[38;5;28;01mraise\u001b[39;00m Error\u001b[38;5;241m.\u001b[39merrorhandler_make_exception(\n\u001b[1;32m    298\u001b[0m             error_class,\n\u001b[1;32m    299\u001b[0m             error_value,\n\u001b[1;32m    300\u001b[0m         )\n",
      "File \u001b[0;32m~/miniconda3/envs/gha-eda/lib/python3.9/site-packages/snowflake/connector/errors.py:345\u001b[0m, in \u001b[0;36mError.hand_to_other_handler\u001b[0;34m(connection, cursor, error_class, error_value)\u001b[0m\n\u001b[1;32m    343\u001b[0m \u001b[38;5;28;01mif\u001b[39;00m cursor \u001b[38;5;129;01mis\u001b[39;00m \u001b[38;5;129;01mnot\u001b[39;00m \u001b[38;5;28;01mNone\u001b[39;00m:\n\u001b[1;32m    344\u001b[0m     cursor\u001b[38;5;241m.\u001b[39mmessages\u001b[38;5;241m.\u001b[39mappend((error_class, error_value))\n\u001b[0;32m--> 345\u001b[0m     \u001b[43mcursor\u001b[49m\u001b[38;5;241;43m.\u001b[39;49m\u001b[43merrorhandler\u001b[49m\u001b[43m(\u001b[49m\u001b[43mconnection\u001b[49m\u001b[43m,\u001b[49m\u001b[43m \u001b[49m\u001b[43mcursor\u001b[49m\u001b[43m,\u001b[49m\u001b[43m \u001b[49m\u001b[43merror_class\u001b[49m\u001b[43m,\u001b[49m\u001b[43m \u001b[49m\u001b[43merror_value\u001b[49m\u001b[43m)\u001b[49m\n\u001b[1;32m    346\u001b[0m     \u001b[38;5;28;01mreturn\u001b[39;00m \u001b[38;5;28;01mTrue\u001b[39;00m\n\u001b[1;32m    347\u001b[0m \u001b[38;5;28;01melif\u001b[39;00m connection \u001b[38;5;129;01mis\u001b[39;00m \u001b[38;5;129;01mnot\u001b[39;00m \u001b[38;5;28;01mNone\u001b[39;00m:\n",
      "File \u001b[0;32m~/miniconda3/envs/gha-eda/lib/python3.9/site-packages/snowflake/connector/errors.py:221\u001b[0m, in \u001b[0;36mError.default_errorhandler\u001b[0;34m(connection, cursor, error_class, error_value)\u001b[0m\n\u001b[1;32m    219\u001b[0m errno \u001b[38;5;241m=\u001b[39m error_value\u001b[38;5;241m.\u001b[39mget(\u001b[38;5;124m\"\u001b[39m\u001b[38;5;124merrno\u001b[39m\u001b[38;5;124m\"\u001b[39m)\n\u001b[1;32m    220\u001b[0m done_format_msg \u001b[38;5;241m=\u001b[39m error_value\u001b[38;5;241m.\u001b[39mget(\u001b[38;5;124m\"\u001b[39m\u001b[38;5;124mdone_format_msg\u001b[39m\u001b[38;5;124m\"\u001b[39m)\n\u001b[0;32m--> 221\u001b[0m \u001b[38;5;28;01mraise\u001b[39;00m error_class(\n\u001b[1;32m    222\u001b[0m     msg\u001b[38;5;241m=\u001b[39merror_value\u001b[38;5;241m.\u001b[39mget(\u001b[38;5;124m\"\u001b[39m\u001b[38;5;124mmsg\u001b[39m\u001b[38;5;124m\"\u001b[39m),\n\u001b[1;32m    223\u001b[0m     errno\u001b[38;5;241m=\u001b[39m\u001b[38;5;28;01mNone\u001b[39;00m \u001b[38;5;28;01mif\u001b[39;00m errno \u001b[38;5;129;01mis\u001b[39;00m \u001b[38;5;28;01mNone\u001b[39;00m \u001b[38;5;28;01melse\u001b[39;00m \u001b[38;5;28mint\u001b[39m(errno),\n\u001b[1;32m    224\u001b[0m     sqlstate\u001b[38;5;241m=\u001b[39merror_value\u001b[38;5;241m.\u001b[39mget(\u001b[38;5;124m\"\u001b[39m\u001b[38;5;124msqlstate\u001b[39m\u001b[38;5;124m\"\u001b[39m),\n\u001b[1;32m    225\u001b[0m     sfqid\u001b[38;5;241m=\u001b[39merror_value\u001b[38;5;241m.\u001b[39mget(\u001b[38;5;124m\"\u001b[39m\u001b[38;5;124msfqid\u001b[39m\u001b[38;5;124m\"\u001b[39m),\n\u001b[1;32m    226\u001b[0m     query\u001b[38;5;241m=\u001b[39merror_value\u001b[38;5;241m.\u001b[39mget(\u001b[38;5;124m\"\u001b[39m\u001b[38;5;124mquery\u001b[39m\u001b[38;5;124m\"\u001b[39m),\n\u001b[1;32m    227\u001b[0m     done_format_msg\u001b[38;5;241m=\u001b[39m(\n\u001b[1;32m    228\u001b[0m         \u001b[38;5;28;01mNone\u001b[39;00m \u001b[38;5;28;01mif\u001b[39;00m done_format_msg \u001b[38;5;129;01mis\u001b[39;00m \u001b[38;5;28;01mNone\u001b[39;00m \u001b[38;5;28;01melse\u001b[39;00m \u001b[38;5;28mbool\u001b[39m(done_format_msg)\n\u001b[1;32m    229\u001b[0m     ),\n\u001b[1;32m    230\u001b[0m     connection\u001b[38;5;241m=\u001b[39mconnection,\n\u001b[1;32m    231\u001b[0m     cursor\u001b[38;5;241m=\u001b[39mcursor,\n\u001b[1;32m    232\u001b[0m )\n",
      "\u001b[0;31mSnowparkSQLException\u001b[0m: (1304): 01ae7b4d-0603-7de8-001e-2483015af6b6: 003540 (42501): SQL execution error: Creating table on shared database 'GITHUB_ARCHIVE_EVENTS' is not allowed."
     ]
    }
   ],
   "source": [
    "total_stars_by_repo_year = total_stars_by_repo_year.cache_result()"
   ]
  },
  {
   "cell_type": "code",
   "execution_count": 17,
   "id": "d8f4d2eb",
   "metadata": {},
   "outputs": [
    {
     "ename": "SnowparkSQLException",
     "evalue": "(1304): 01ae7b4d-0603-7dad-001e-2483015ac8ca: 003540 (42501): SQL execution error: Creating table on shared database 'GITHUB_ARCHIVE_EVENTS' is not allowed.",
     "output_type": "error",
     "traceback": [
      "\u001b[0;31m---------------------------------------------------------------------------\u001b[0m",
      "\u001b[0;31mSnowparkSQLException\u001b[0m                      Traceback (most recent call last)",
      "Cell \u001b[0;32mIn[17], line 1\u001b[0m\n\u001b[0;32m----> 1\u001b[0m \u001b[43mtotal_stars_by_repo_year\u001b[49m\u001b[38;5;241;43m.\u001b[39;49m\u001b[43mwrite\u001b[49m\u001b[38;5;241;43m.\u001b[39;49m\u001b[43mmode\u001b[49m\u001b[43m(\u001b[49m\u001b[38;5;124;43m\"\u001b[39;49m\u001b[38;5;124;43moverwrite\u001b[39;49m\u001b[38;5;124;43m\"\u001b[39;49m\u001b[43m)\u001b[49m\u001b[38;5;241;43m.\u001b[39;49m\u001b[43msave_as_table\u001b[49m\u001b[43m(\u001b[49m\u001b[38;5;124;43m\"\u001b[39;49m\u001b[38;5;124;43mtotal_stars_by_repo_year\u001b[39;49m\u001b[38;5;124;43m\"\u001b[39;49m\u001b[43m)\u001b[49m\n",
      "File \u001b[0;32m~/miniconda3/envs/gha-eda/lib/python3.9/site-packages/snowflake/snowpark/_internal/telemetry.py:162\u001b[0m, in \u001b[0;36mdfw_collect_api_telemetry.<locals>.wrap\u001b[0;34m(*args, **kwargs)\u001b[0m\n\u001b[1;32m    159\u001b[0m \u001b[38;5;129m@functools\u001b[39m\u001b[38;5;241m.\u001b[39mwraps(func)\n\u001b[1;32m    160\u001b[0m \u001b[38;5;28;01mdef\u001b[39;00m \u001b[38;5;21mwrap\u001b[39m(\u001b[38;5;241m*\u001b[39margs, \u001b[38;5;241m*\u001b[39m\u001b[38;5;241m*\u001b[39mkwargs):\n\u001b[1;32m    161\u001b[0m     \u001b[38;5;28;01mwith\u001b[39;00m args[\u001b[38;5;241m0\u001b[39m]\u001b[38;5;241m.\u001b[39m_dataframe\u001b[38;5;241m.\u001b[39m_session\u001b[38;5;241m.\u001b[39mquery_history() \u001b[38;5;28;01mas\u001b[39;00m query_history:\n\u001b[0;32m--> 162\u001b[0m         result \u001b[38;5;241m=\u001b[39m \u001b[43mfunc\u001b[49m\u001b[43m(\u001b[49m\u001b[38;5;241;43m*\u001b[39;49m\u001b[43margs\u001b[49m\u001b[43m,\u001b[49m\u001b[43m \u001b[49m\u001b[38;5;241;43m*\u001b[39;49m\u001b[38;5;241;43m*\u001b[39;49m\u001b[43mkwargs\u001b[49m\u001b[43m)\u001b[49m\n\u001b[1;32m    163\u001b[0m     plan \u001b[38;5;241m=\u001b[39m args[\u001b[38;5;241m0\u001b[39m]\u001b[38;5;241m.\u001b[39m_dataframe\u001b[38;5;241m.\u001b[39m_select_statement \u001b[38;5;129;01mor\u001b[39;00m args[\u001b[38;5;241m0\u001b[39m]\u001b[38;5;241m.\u001b[39m_dataframe\u001b[38;5;241m.\u001b[39m_plan\n\u001b[1;32m    164\u001b[0m     api_calls \u001b[38;5;241m=\u001b[39m [\n\u001b[1;32m    165\u001b[0m         \u001b[38;5;241m*\u001b[39mplan\u001b[38;5;241m.\u001b[39mapi_calls,\n\u001b[1;32m    166\u001b[0m         {TelemetryField\u001b[38;5;241m.\u001b[39mNAME\u001b[38;5;241m.\u001b[39mvalue: \u001b[38;5;124mf\u001b[39m\u001b[38;5;124m\"\u001b[39m\u001b[38;5;124mDataFrameWriter.\u001b[39m\u001b[38;5;132;01m{\u001b[39;00mfunc\u001b[38;5;241m.\u001b[39m\u001b[38;5;18m__name__\u001b[39m\u001b[38;5;132;01m}\u001b[39;00m\u001b[38;5;124m\"\u001b[39m},\n\u001b[1;32m    167\u001b[0m     ]\n",
      "File \u001b[0;32m~/miniconda3/envs/gha-eda/lib/python3.9/site-packages/snowflake/snowpark/dataframe_writer.py:202\u001b[0m, in \u001b[0;36mDataFrameWriter.save_as_table\u001b[0;34m(self, table_name, mode, column_order, create_temp_table, table_type, statement_params, block)\u001b[0m\n\u001b[1;32m    200\u001b[0m session \u001b[38;5;241m=\u001b[39m \u001b[38;5;28mself\u001b[39m\u001b[38;5;241m.\u001b[39m_dataframe\u001b[38;5;241m.\u001b[39m_session\n\u001b[1;32m    201\u001b[0m snowflake_plan \u001b[38;5;241m=\u001b[39m session\u001b[38;5;241m.\u001b[39m_analyzer\u001b[38;5;241m.\u001b[39mresolve(create_table_logic_plan)\n\u001b[0;32m--> 202\u001b[0m result \u001b[38;5;241m=\u001b[39m \u001b[43msession\u001b[49m\u001b[38;5;241;43m.\u001b[39;49m\u001b[43m_conn\u001b[49m\u001b[38;5;241;43m.\u001b[39;49m\u001b[43mexecute\u001b[49m\u001b[43m(\u001b[49m\n\u001b[1;32m    203\u001b[0m \u001b[43m    \u001b[49m\u001b[43msnowflake_plan\u001b[49m\u001b[43m,\u001b[49m\n\u001b[1;32m    204\u001b[0m \u001b[43m    \u001b[49m\u001b[43m_statement_params\u001b[49m\u001b[38;5;241;43m=\u001b[39;49m\u001b[43mstatement_params\u001b[49m\u001b[43m \u001b[49m\u001b[38;5;129;43;01mor\u001b[39;49;00m\u001b[43m \u001b[49m\u001b[38;5;28;43mself\u001b[39;49m\u001b[38;5;241;43m.\u001b[39;49m\u001b[43m_dataframe\u001b[49m\u001b[38;5;241;43m.\u001b[39;49m\u001b[43m_statement_params\u001b[49m\u001b[43m,\u001b[49m\n\u001b[1;32m    205\u001b[0m \u001b[43m    \u001b[49m\u001b[43mblock\u001b[49m\u001b[38;5;241;43m=\u001b[39;49m\u001b[43mblock\u001b[49m\u001b[43m,\u001b[49m\n\u001b[1;32m    206\u001b[0m \u001b[43m    \u001b[49m\u001b[43mdata_type\u001b[49m\u001b[38;5;241;43m=\u001b[39;49m\u001b[43m_AsyncResultType\u001b[49m\u001b[38;5;241;43m.\u001b[39;49m\u001b[43mNO_RESULT\u001b[49m\u001b[43m,\u001b[49m\n\u001b[1;32m    207\u001b[0m \u001b[43m\u001b[49m\u001b[43m)\u001b[49m\n\u001b[1;32m    208\u001b[0m \u001b[38;5;28;01mreturn\u001b[39;00m result \u001b[38;5;28;01mif\u001b[39;00m \u001b[38;5;129;01mnot\u001b[39;00m block \u001b[38;5;28;01melse\u001b[39;00m \u001b[38;5;28;01mNone\u001b[39;00m\n",
      "File \u001b[0;32m~/miniconda3/envs/gha-eda/lib/python3.9/site-packages/snowflake/snowpark/_internal/server_connection.py:442\u001b[0m, in \u001b[0;36mServerConnection.execute\u001b[0;34m(self, plan, to_pandas, to_iter, block, data_type, log_on_exception, case_sensitive, **kwargs)\u001b[0m\n\u001b[1;32m    438\u001b[0m \u001b[38;5;28;01mif\u001b[39;00m is_in_stored_procedure() \u001b[38;5;129;01mand\u001b[39;00m \u001b[38;5;129;01mnot\u001b[39;00m block:  \u001b[38;5;66;03m# pragma: no cover\u001b[39;00m\n\u001b[1;32m    439\u001b[0m     \u001b[38;5;28;01mraise\u001b[39;00m \u001b[38;5;167;01mNotImplementedError\u001b[39;00m(\n\u001b[1;32m    440\u001b[0m         \u001b[38;5;124m\"\u001b[39m\u001b[38;5;124mAsync query is not supported in stored procedure yet\u001b[39m\u001b[38;5;124m\"\u001b[39m\n\u001b[1;32m    441\u001b[0m     )\n\u001b[0;32m--> 442\u001b[0m result_set, result_meta \u001b[38;5;241m=\u001b[39m \u001b[38;5;28;43mself\u001b[39;49m\u001b[38;5;241;43m.\u001b[39;49m\u001b[43mget_result_set\u001b[49m\u001b[43m(\u001b[49m\n\u001b[1;32m    443\u001b[0m \u001b[43m    \u001b[49m\u001b[43mplan\u001b[49m\u001b[43m,\u001b[49m\n\u001b[1;32m    444\u001b[0m \u001b[43m    \u001b[49m\u001b[43mto_pandas\u001b[49m\u001b[43m,\u001b[49m\n\u001b[1;32m    445\u001b[0m \u001b[43m    \u001b[49m\u001b[43mto_iter\u001b[49m\u001b[43m,\u001b[49m\n\u001b[1;32m    446\u001b[0m \u001b[43m    \u001b[49m\u001b[38;5;241;43m*\u001b[39;49m\u001b[38;5;241;43m*\u001b[39;49m\u001b[43mkwargs\u001b[49m\u001b[43m,\u001b[49m\n\u001b[1;32m    447\u001b[0m \u001b[43m    \u001b[49m\u001b[43mblock\u001b[49m\u001b[38;5;241;43m=\u001b[39;49m\u001b[43mblock\u001b[49m\u001b[43m,\u001b[49m\n\u001b[1;32m    448\u001b[0m \u001b[43m    \u001b[49m\u001b[43mdata_type\u001b[49m\u001b[38;5;241;43m=\u001b[39;49m\u001b[43mdata_type\u001b[49m\u001b[43m,\u001b[49m\n\u001b[1;32m    449\u001b[0m \u001b[43m    \u001b[49m\u001b[43mlog_on_exception\u001b[49m\u001b[38;5;241;43m=\u001b[39;49m\u001b[43mlog_on_exception\u001b[49m\u001b[43m,\u001b[49m\n\u001b[1;32m    450\u001b[0m \u001b[43m    \u001b[49m\u001b[43mcase_sensitive\u001b[49m\u001b[38;5;241;43m=\u001b[39;49m\u001b[43mcase_sensitive\u001b[49m\u001b[43m,\u001b[49m\n\u001b[1;32m    451\u001b[0m \u001b[43m\u001b[49m\u001b[43m)\u001b[49m\n\u001b[1;32m    452\u001b[0m \u001b[38;5;28;01mif\u001b[39;00m \u001b[38;5;129;01mnot\u001b[39;00m block:\n\u001b[1;32m    453\u001b[0m     \u001b[38;5;28;01mreturn\u001b[39;00m result_set\n",
      "File \u001b[0;32m~/miniconda3/envs/gha-eda/lib/python3.9/site-packages/snowflake/snowpark/_internal/analyzer/snowflake_plan.py:180\u001b[0m, in \u001b[0;36mSnowflakePlan.Decorator.wrap_exception.<locals>.wrap\u001b[0;34m(*args, **kwargs)\u001b[0m\n\u001b[1;32m    176\u001b[0m \u001b[38;5;28;01melse\u001b[39;00m:\n\u001b[1;32m    177\u001b[0m     ne \u001b[38;5;241m=\u001b[39m SnowparkClientExceptionMessages\u001b[38;5;241m.\u001b[39mSQL_EXCEPTION_FROM_PROGRAMMING_ERROR(\n\u001b[1;32m    178\u001b[0m         e\n\u001b[1;32m    179\u001b[0m     )\n\u001b[0;32m--> 180\u001b[0m     \u001b[38;5;28;01mraise\u001b[39;00m ne\u001b[38;5;241m.\u001b[39mwith_traceback(tb) \u001b[38;5;28;01mfrom\u001b[39;00m \u001b[38;5;28;01mNone\u001b[39;00m\n",
      "File \u001b[0;32m~/miniconda3/envs/gha-eda/lib/python3.9/site-packages/snowflake/snowpark/_internal/analyzer/snowflake_plan.py:110\u001b[0m, in \u001b[0;36mSnowflakePlan.Decorator.wrap_exception.<locals>.wrap\u001b[0;34m(*args, **kwargs)\u001b[0m\n\u001b[1;32m    108\u001b[0m \u001b[38;5;28;01mdef\u001b[39;00m \u001b[38;5;21mwrap\u001b[39m(\u001b[38;5;241m*\u001b[39margs, \u001b[38;5;241m*\u001b[39m\u001b[38;5;241m*\u001b[39mkwargs):\n\u001b[1;32m    109\u001b[0m     \u001b[38;5;28;01mtry\u001b[39;00m:\n\u001b[0;32m--> 110\u001b[0m         \u001b[38;5;28;01mreturn\u001b[39;00m \u001b[43mfunc\u001b[49m\u001b[43m(\u001b[49m\u001b[38;5;241;43m*\u001b[39;49m\u001b[43margs\u001b[49m\u001b[43m,\u001b[49m\u001b[43m \u001b[49m\u001b[38;5;241;43m*\u001b[39;49m\u001b[38;5;241;43m*\u001b[39;49m\u001b[43mkwargs\u001b[49m\u001b[43m)\u001b[49m\n\u001b[1;32m    111\u001b[0m     \u001b[38;5;28;01mexcept\u001b[39;00m snowflake\u001b[38;5;241m.\u001b[39mconnector\u001b[38;5;241m.\u001b[39merrors\u001b[38;5;241m.\u001b[39mProgrammingError \u001b[38;5;28;01mas\u001b[39;00m e:\n\u001b[1;32m    112\u001b[0m         query \u001b[38;5;241m=\u001b[39m \u001b[38;5;28;01mNone\u001b[39;00m\n",
      "File \u001b[0;32m~/miniconda3/envs/gha-eda/lib/python3.9/site-packages/snowflake/snowpark/_internal/server_connection.py:550\u001b[0m, in \u001b[0;36mServerConnection.get_result_set\u001b[0;34m(self, plan, to_pandas, to_iter, block, data_type, log_on_exception, case_sensitive, **kwargs)\u001b[0m\n\u001b[1;32m    548\u001b[0m \u001b[38;5;28;01mfor\u001b[39;00m holder, id_ \u001b[38;5;129;01min\u001b[39;00m placeholders\u001b[38;5;241m.\u001b[39mitems():\n\u001b[1;32m    549\u001b[0m     final_query \u001b[38;5;241m=\u001b[39m final_query\u001b[38;5;241m.\u001b[39mreplace(holder, id_)\n\u001b[0;32m--> 550\u001b[0m result \u001b[38;5;241m=\u001b[39m \u001b[38;5;28;43mself\u001b[39;49m\u001b[38;5;241;43m.\u001b[39;49m\u001b[43mrun_query\u001b[49m\u001b[43m(\u001b[49m\n\u001b[1;32m    551\u001b[0m \u001b[43m    \u001b[49m\u001b[43mfinal_query\u001b[49m\u001b[43m,\u001b[49m\n\u001b[1;32m    552\u001b[0m \u001b[43m    \u001b[49m\u001b[43mto_pandas\u001b[49m\u001b[43m,\u001b[49m\n\u001b[1;32m    553\u001b[0m \u001b[43m    \u001b[49m\u001b[43mto_iter\u001b[49m\u001b[43m \u001b[49m\u001b[38;5;129;43;01mand\u001b[39;49;00m\u001b[43m \u001b[49m\u001b[43m(\u001b[49m\u001b[43mi\u001b[49m\u001b[43m \u001b[49m\u001b[38;5;241;43m==\u001b[39;49m\u001b[43m \u001b[49m\u001b[38;5;28;43mlen\u001b[39;49m\u001b[43m(\u001b[49m\u001b[43mplan\u001b[49m\u001b[38;5;241;43m.\u001b[39;49m\u001b[43mqueries\u001b[49m\u001b[43m)\u001b[49m\u001b[43m \u001b[49m\u001b[38;5;241;43m-\u001b[39;49m\u001b[43m \u001b[49m\u001b[38;5;241;43m1\u001b[39;49m\u001b[43m)\u001b[49m\u001b[43m,\u001b[49m\n\u001b[1;32m    554\u001b[0m \u001b[43m    \u001b[49m\u001b[43mis_ddl_on_temp_object\u001b[49m\u001b[38;5;241;43m=\u001b[39;49m\u001b[43mquery\u001b[49m\u001b[38;5;241;43m.\u001b[39;49m\u001b[43mis_ddl_on_temp_object\u001b[49m\u001b[43m,\u001b[49m\n\u001b[1;32m    555\u001b[0m \u001b[43m    \u001b[49m\u001b[43mblock\u001b[49m\u001b[38;5;241;43m=\u001b[39;49m\u001b[38;5;129;43;01mnot\u001b[39;49;00m\u001b[43m \u001b[49m\u001b[43mis_last\u001b[49m\u001b[43m,\u001b[49m\n\u001b[1;32m    556\u001b[0m \u001b[43m    \u001b[49m\u001b[43mdata_type\u001b[49m\u001b[38;5;241;43m=\u001b[39;49m\u001b[43mdata_type\u001b[49m\u001b[43m,\u001b[49m\n\u001b[1;32m    557\u001b[0m \u001b[43m    \u001b[49m\u001b[43masync_job_plan\u001b[49m\u001b[38;5;241;43m=\u001b[39;49m\u001b[43mplan\u001b[49m\u001b[43m,\u001b[49m\n\u001b[1;32m    558\u001b[0m \u001b[43m    \u001b[49m\u001b[43mlog_on_exception\u001b[49m\u001b[38;5;241;43m=\u001b[39;49m\u001b[43mlog_on_exception\u001b[49m\u001b[43m,\u001b[49m\n\u001b[1;32m    559\u001b[0m \u001b[43m    \u001b[49m\u001b[43mcase_sensitive\u001b[49m\u001b[38;5;241;43m=\u001b[39;49m\u001b[43mcase_sensitive\u001b[49m\u001b[43m,\u001b[49m\n\u001b[1;32m    560\u001b[0m \u001b[43m    \u001b[49m\u001b[43mparams\u001b[49m\u001b[38;5;241;43m=\u001b[39;49m\u001b[43mquery\u001b[49m\u001b[38;5;241;43m.\u001b[39;49m\u001b[43mparams\u001b[49m\u001b[43m,\u001b[49m\n\u001b[1;32m    561\u001b[0m \u001b[43m    \u001b[49m\u001b[38;5;241;43m*\u001b[39;49m\u001b[38;5;241;43m*\u001b[39;49m\u001b[43mkwargs\u001b[49m\u001b[43m,\u001b[49m\n\u001b[1;32m    562\u001b[0m \u001b[43m\u001b[49m\u001b[43m)\u001b[49m\n\u001b[1;32m    563\u001b[0m placeholders[query\u001b[38;5;241m.\u001b[39mquery_id_place_holder] \u001b[38;5;241m=\u001b[39m (\n\u001b[1;32m    564\u001b[0m     result[\u001b[38;5;124m\"\u001b[39m\u001b[38;5;124msfqid\u001b[39m\u001b[38;5;124m\"\u001b[39m] \u001b[38;5;28;01mif\u001b[39;00m \u001b[38;5;129;01mnot\u001b[39;00m is_last \u001b[38;5;28;01melse\u001b[39;00m result\u001b[38;5;241m.\u001b[39mquery_id\n\u001b[1;32m    565\u001b[0m )\n\u001b[1;32m    566\u001b[0m result_meta \u001b[38;5;241m=\u001b[39m \u001b[38;5;28mself\u001b[39m\u001b[38;5;241m.\u001b[39m_cursor\u001b[38;5;241m.\u001b[39mdescription\n",
      "File \u001b[0;32m~/miniconda3/envs/gha-eda/lib/python3.9/site-packages/snowflake/snowpark/_internal/server_connection.py:102\u001b[0m, in \u001b[0;36mServerConnection._Decorator.wrap_exception.<locals>.wrap\u001b[0;34m(*args, **kwargs)\u001b[0m\n\u001b[1;32m     98\u001b[0m     \u001b[38;5;28;01mraise\u001b[39;00m SnowparkClientExceptionMessages\u001b[38;5;241m.\u001b[39mSERVER_SESSION_EXPIRED(\n\u001b[1;32m     99\u001b[0m         ex\u001b[38;5;241m.\u001b[39mcause\n\u001b[1;32m    100\u001b[0m     )\n\u001b[1;32m    101\u001b[0m \u001b[38;5;28;01mexcept\u001b[39;00m \u001b[38;5;167;01mException\u001b[39;00m \u001b[38;5;28;01mas\u001b[39;00m ex:\n\u001b[0;32m--> 102\u001b[0m     \u001b[38;5;28;01mraise\u001b[39;00m ex\n",
      "File \u001b[0;32m~/miniconda3/envs/gha-eda/lib/python3.9/site-packages/snowflake/snowpark/_internal/server_connection.py:96\u001b[0m, in \u001b[0;36mServerConnection._Decorator.wrap_exception.<locals>.wrap\u001b[0;34m(*args, **kwargs)\u001b[0m\n\u001b[1;32m     94\u001b[0m     \u001b[38;5;28;01mraise\u001b[39;00m SnowparkClientExceptionMessages\u001b[38;5;241m.\u001b[39mSERVER_SESSION_HAS_BEEN_CLOSED()\n\u001b[1;32m     95\u001b[0m \u001b[38;5;28;01mtry\u001b[39;00m:\n\u001b[0;32m---> 96\u001b[0m     \u001b[38;5;28;01mreturn\u001b[39;00m \u001b[43mfunc\u001b[49m\u001b[43m(\u001b[49m\u001b[38;5;241;43m*\u001b[39;49m\u001b[43margs\u001b[49m\u001b[43m,\u001b[49m\u001b[43m \u001b[49m\u001b[38;5;241;43m*\u001b[39;49m\u001b[38;5;241;43m*\u001b[39;49m\u001b[43mkwargs\u001b[49m\u001b[43m)\u001b[49m\n\u001b[1;32m     97\u001b[0m \u001b[38;5;28;01mexcept\u001b[39;00m ReauthenticationRequest \u001b[38;5;28;01mas\u001b[39;00m ex:\n\u001b[1;32m     98\u001b[0m     \u001b[38;5;28;01mraise\u001b[39;00m SnowparkClientExceptionMessages\u001b[38;5;241m.\u001b[39mSERVER_SESSION_EXPIRED(\n\u001b[1;32m     99\u001b[0m         ex\u001b[38;5;241m.\u001b[39mcause\n\u001b[1;32m    100\u001b[0m     )\n",
      "File \u001b[0;32m~/miniconda3/envs/gha-eda/lib/python3.9/site-packages/snowflake/snowpark/_internal/server_connection.py:365\u001b[0m, in \u001b[0;36mServerConnection.run_query\u001b[0;34m(self, query, to_pandas, to_iter, is_ddl_on_temp_object, block, data_type, async_job_plan, log_on_exception, case_sensitive, params, **kwargs)\u001b[0m\n\u001b[1;32m    363\u001b[0m         query_id_log \u001b[38;5;241m=\u001b[39m \u001b[38;5;124mf\u001b[39m\u001b[38;5;124m\"\u001b[39m\u001b[38;5;124m [queryID: \u001b[39m\u001b[38;5;132;01m{\u001b[39;00mex\u001b[38;5;241m.\u001b[39msfqid\u001b[38;5;132;01m}\u001b[39;00m\u001b[38;5;124m]\u001b[39m\u001b[38;5;124m\"\u001b[39m \u001b[38;5;28;01mif\u001b[39;00m \u001b[38;5;28mhasattr\u001b[39m(ex, \u001b[38;5;124m\"\u001b[39m\u001b[38;5;124msfqid\u001b[39m\u001b[38;5;124m\"\u001b[39m) \u001b[38;5;28;01melse\u001b[39;00m \u001b[38;5;124m\"\u001b[39m\u001b[38;5;124m\"\u001b[39m\n\u001b[1;32m    364\u001b[0m         logger\u001b[38;5;241m.\u001b[39merror(\u001b[38;5;124mf\u001b[39m\u001b[38;5;124m\"\u001b[39m\u001b[38;5;124mFailed to execute query\u001b[39m\u001b[38;5;132;01m{\u001b[39;00mquery_id_log\u001b[38;5;132;01m}\u001b[39;00m\u001b[38;5;124m \u001b[39m\u001b[38;5;132;01m{\u001b[39;00mquery\u001b[38;5;132;01m}\u001b[39;00m\u001b[38;5;130;01m\\n\u001b[39;00m\u001b[38;5;132;01m{\u001b[39;00mex\u001b[38;5;132;01m}\u001b[39;00m\u001b[38;5;124m\"\u001b[39m)\n\u001b[0;32m--> 365\u001b[0m     \u001b[38;5;28;01mraise\u001b[39;00m ex\n\u001b[1;32m    367\u001b[0m \u001b[38;5;66;03m# fetch_pandas_all/batches() only works for SELECT statements\u001b[39;00m\n\u001b[1;32m    368\u001b[0m \u001b[38;5;66;03m# We call fetchall() if fetch_pandas_all/batches() fails,\u001b[39;00m\n\u001b[1;32m    369\u001b[0m \u001b[38;5;66;03m# because when the query plan has multiple queries, it will\u001b[39;00m\n\u001b[1;32m    370\u001b[0m \u001b[38;5;66;03m# have non-select statements, and it shouldn't fail if the user\u001b[39;00m\n\u001b[1;32m    371\u001b[0m \u001b[38;5;66;03m# calls to_pandas() to execute the query.\u001b[39;00m\n\u001b[1;32m    372\u001b[0m \u001b[38;5;28;01mif\u001b[39;00m block:\n",
      "File \u001b[0;32m~/miniconda3/envs/gha-eda/lib/python3.9/site-packages/snowflake/snowpark/_internal/server_connection.py:346\u001b[0m, in \u001b[0;36mServerConnection.run_query\u001b[0;34m(self, query, to_pandas, to_iter, is_ddl_on_temp_object, block, data_type, async_job_plan, log_on_exception, case_sensitive, params, **kwargs)\u001b[0m\n\u001b[1;32m    344\u001b[0m     kwargs[\u001b[38;5;124m\"\u001b[39m\u001b[38;5;124m_statement_params\u001b[39m\u001b[38;5;124m\"\u001b[39m][\u001b[38;5;124m\"\u001b[39m\u001b[38;5;124mSNOWPARK_SKIP_TXN_COMMIT_IN_DDL\u001b[39m\u001b[38;5;124m\"\u001b[39m] \u001b[38;5;241m=\u001b[39m \u001b[38;5;28;01mTrue\u001b[39;00m\n\u001b[1;32m    345\u001b[0m \u001b[38;5;28;01mif\u001b[39;00m block:\n\u001b[0;32m--> 346\u001b[0m     results_cursor \u001b[38;5;241m=\u001b[39m \u001b[38;5;28;43mself\u001b[39;49m\u001b[38;5;241;43m.\u001b[39;49m\u001b[43m_cursor\u001b[49m\u001b[38;5;241;43m.\u001b[39;49m\u001b[43mexecute\u001b[49m\u001b[43m(\u001b[49m\u001b[43mquery\u001b[49m\u001b[43m,\u001b[49m\u001b[43m \u001b[49m\u001b[43mparams\u001b[49m\u001b[38;5;241;43m=\u001b[39;49m\u001b[43mparams\u001b[49m\u001b[43m,\u001b[49m\u001b[43m \u001b[49m\u001b[38;5;241;43m*\u001b[39;49m\u001b[38;5;241;43m*\u001b[39;49m\u001b[43mkwargs\u001b[49m\u001b[43m)\u001b[49m\n\u001b[1;32m    347\u001b[0m     \u001b[38;5;28mself\u001b[39m\u001b[38;5;241m.\u001b[39mnotify_query_listeners(\n\u001b[1;32m    348\u001b[0m         QueryRecord(results_cursor\u001b[38;5;241m.\u001b[39msfqid, results_cursor\u001b[38;5;241m.\u001b[39mquery)\n\u001b[1;32m    349\u001b[0m     )\n\u001b[1;32m    350\u001b[0m     logger\u001b[38;5;241m.\u001b[39mdebug(\u001b[38;5;124mf\u001b[39m\u001b[38;5;124m\"\u001b[39m\u001b[38;5;124mExecute query [queryID: \u001b[39m\u001b[38;5;132;01m{\u001b[39;00mresults_cursor\u001b[38;5;241m.\u001b[39msfqid\u001b[38;5;132;01m}\u001b[39;00m\u001b[38;5;124m] \u001b[39m\u001b[38;5;132;01m{\u001b[39;00mquery\u001b[38;5;132;01m}\u001b[39;00m\u001b[38;5;124m\"\u001b[39m)\n",
      "File \u001b[0;32m~/miniconda3/envs/gha-eda/lib/python3.9/site-packages/snowflake/connector/cursor.py:904\u001b[0m, in \u001b[0;36mSnowflakeCursor.execute\u001b[0;34m(self, command, params, _bind_stage, timeout, _exec_async, _no_retry, _do_reset, _put_callback, _put_azure_callback, _put_callback_output_stream, _get_callback, _get_azure_callback, _get_callback_output_stream, _show_progress_bar, _statement_params, _is_internal, _describe_only, _no_results, _is_put_get, _raise_put_get_error, _force_put_overwrite, _skip_upload_on_content_match, file_stream, num_statements)\u001b[0m\n\u001b[1;32m    900\u001b[0m     is_integrity_error \u001b[38;5;241m=\u001b[39m (\n\u001b[1;32m    901\u001b[0m         code \u001b[38;5;241m==\u001b[39m \u001b[38;5;124m\"\u001b[39m\u001b[38;5;124m100072\u001b[39m\u001b[38;5;124m\"\u001b[39m\n\u001b[1;32m    902\u001b[0m     )  \u001b[38;5;66;03m# NULL result in a non-nullable column\u001b[39;00m\n\u001b[1;32m    903\u001b[0m     error_class \u001b[38;5;241m=\u001b[39m IntegrityError \u001b[38;5;28;01mif\u001b[39;00m is_integrity_error \u001b[38;5;28;01melse\u001b[39;00m ProgrammingError\n\u001b[0;32m--> 904\u001b[0m     \u001b[43mError\u001b[49m\u001b[38;5;241;43m.\u001b[39;49m\u001b[43merrorhandler_wrapper\u001b[49m\u001b[43m(\u001b[49m\u001b[38;5;28;43mself\u001b[39;49m\u001b[38;5;241;43m.\u001b[39;49m\u001b[43mconnection\u001b[49m\u001b[43m,\u001b[49m\u001b[43m \u001b[49m\u001b[38;5;28;43mself\u001b[39;49m\u001b[43m,\u001b[49m\u001b[43m \u001b[49m\u001b[43merror_class\u001b[49m\u001b[43m,\u001b[49m\u001b[43m \u001b[49m\u001b[43merrvalue\u001b[49m\u001b[43m)\u001b[49m\n\u001b[1;32m    905\u001b[0m \u001b[38;5;28;01mreturn\u001b[39;00m \u001b[38;5;28mself\u001b[39m\n",
      "File \u001b[0;32m~/miniconda3/envs/gha-eda/lib/python3.9/site-packages/snowflake/connector/errors.py:290\u001b[0m, in \u001b[0;36mError.errorhandler_wrapper\u001b[0;34m(connection, cursor, error_class, error_value)\u001b[0m\n\u001b[1;32m    267\u001b[0m \u001b[38;5;129m@staticmethod\u001b[39m\n\u001b[1;32m    268\u001b[0m \u001b[38;5;28;01mdef\u001b[39;00m \u001b[38;5;21merrorhandler_wrapper\u001b[39m(\n\u001b[1;32m    269\u001b[0m     connection: SnowflakeConnection \u001b[38;5;241m|\u001b[39m \u001b[38;5;28;01mNone\u001b[39;00m,\n\u001b[0;32m   (...)\u001b[0m\n\u001b[1;32m    272\u001b[0m     error_value: \u001b[38;5;28mdict\u001b[39m[\u001b[38;5;28mstr\u001b[39m, Any],\n\u001b[1;32m    273\u001b[0m ) \u001b[38;5;241m-\u001b[39m\u001b[38;5;241m>\u001b[39m \u001b[38;5;28;01mNone\u001b[39;00m:\n\u001b[1;32m    274\u001b[0m \u001b[38;5;250m    \u001b[39m\u001b[38;5;124;03m\"\"\"Error handler wrapper that calls the errorhandler method.\u001b[39;00m\n\u001b[1;32m    275\u001b[0m \n\u001b[1;32m    276\u001b[0m \u001b[38;5;124;03m    Args:\u001b[39;00m\n\u001b[0;32m   (...)\u001b[0m\n\u001b[1;32m    287\u001b[0m \u001b[38;5;124;03m        exception to the first handler in that order.\u001b[39;00m\n\u001b[1;32m    288\u001b[0m \u001b[38;5;124;03m    \"\"\"\u001b[39;00m\n\u001b[0;32m--> 290\u001b[0m     handed_over \u001b[38;5;241m=\u001b[39m \u001b[43mError\u001b[49m\u001b[38;5;241;43m.\u001b[39;49m\u001b[43mhand_to_other_handler\u001b[49m\u001b[43m(\u001b[49m\n\u001b[1;32m    291\u001b[0m \u001b[43m        \u001b[49m\u001b[43mconnection\u001b[49m\u001b[43m,\u001b[49m\n\u001b[1;32m    292\u001b[0m \u001b[43m        \u001b[49m\u001b[43mcursor\u001b[49m\u001b[43m,\u001b[49m\n\u001b[1;32m    293\u001b[0m \u001b[43m        \u001b[49m\u001b[43merror_class\u001b[49m\u001b[43m,\u001b[49m\n\u001b[1;32m    294\u001b[0m \u001b[43m        \u001b[49m\u001b[43merror_value\u001b[49m\u001b[43m,\u001b[49m\n\u001b[1;32m    295\u001b[0m \u001b[43m    \u001b[49m\u001b[43m)\u001b[49m\n\u001b[1;32m    296\u001b[0m     \u001b[38;5;28;01mif\u001b[39;00m \u001b[38;5;129;01mnot\u001b[39;00m handed_over:\n\u001b[1;32m    297\u001b[0m         \u001b[38;5;28;01mraise\u001b[39;00m Error\u001b[38;5;241m.\u001b[39merrorhandler_make_exception(\n\u001b[1;32m    298\u001b[0m             error_class,\n\u001b[1;32m    299\u001b[0m             error_value,\n\u001b[1;32m    300\u001b[0m         )\n",
      "File \u001b[0;32m~/miniconda3/envs/gha-eda/lib/python3.9/site-packages/snowflake/connector/errors.py:345\u001b[0m, in \u001b[0;36mError.hand_to_other_handler\u001b[0;34m(connection, cursor, error_class, error_value)\u001b[0m\n\u001b[1;32m    343\u001b[0m \u001b[38;5;28;01mif\u001b[39;00m cursor \u001b[38;5;129;01mis\u001b[39;00m \u001b[38;5;129;01mnot\u001b[39;00m \u001b[38;5;28;01mNone\u001b[39;00m:\n\u001b[1;32m    344\u001b[0m     cursor\u001b[38;5;241m.\u001b[39mmessages\u001b[38;5;241m.\u001b[39mappend((error_class, error_value))\n\u001b[0;32m--> 345\u001b[0m     \u001b[43mcursor\u001b[49m\u001b[38;5;241;43m.\u001b[39;49m\u001b[43merrorhandler\u001b[49m\u001b[43m(\u001b[49m\u001b[43mconnection\u001b[49m\u001b[43m,\u001b[49m\u001b[43m \u001b[49m\u001b[43mcursor\u001b[49m\u001b[43m,\u001b[49m\u001b[43m \u001b[49m\u001b[43merror_class\u001b[49m\u001b[43m,\u001b[49m\u001b[43m \u001b[49m\u001b[43merror_value\u001b[49m\u001b[43m)\u001b[49m\n\u001b[1;32m    346\u001b[0m     \u001b[38;5;28;01mreturn\u001b[39;00m \u001b[38;5;28;01mTrue\u001b[39;00m\n\u001b[1;32m    347\u001b[0m \u001b[38;5;28;01melif\u001b[39;00m connection \u001b[38;5;129;01mis\u001b[39;00m \u001b[38;5;129;01mnot\u001b[39;00m \u001b[38;5;28;01mNone\u001b[39;00m:\n",
      "File \u001b[0;32m~/miniconda3/envs/gha-eda/lib/python3.9/site-packages/snowflake/connector/errors.py:221\u001b[0m, in \u001b[0;36mError.default_errorhandler\u001b[0;34m(connection, cursor, error_class, error_value)\u001b[0m\n\u001b[1;32m    219\u001b[0m errno \u001b[38;5;241m=\u001b[39m error_value\u001b[38;5;241m.\u001b[39mget(\u001b[38;5;124m\"\u001b[39m\u001b[38;5;124merrno\u001b[39m\u001b[38;5;124m\"\u001b[39m)\n\u001b[1;32m    220\u001b[0m done_format_msg \u001b[38;5;241m=\u001b[39m error_value\u001b[38;5;241m.\u001b[39mget(\u001b[38;5;124m\"\u001b[39m\u001b[38;5;124mdone_format_msg\u001b[39m\u001b[38;5;124m\"\u001b[39m)\n\u001b[0;32m--> 221\u001b[0m \u001b[38;5;28;01mraise\u001b[39;00m error_class(\n\u001b[1;32m    222\u001b[0m     msg\u001b[38;5;241m=\u001b[39merror_value\u001b[38;5;241m.\u001b[39mget(\u001b[38;5;124m\"\u001b[39m\u001b[38;5;124mmsg\u001b[39m\u001b[38;5;124m\"\u001b[39m),\n\u001b[1;32m    223\u001b[0m     errno\u001b[38;5;241m=\u001b[39m\u001b[38;5;28;01mNone\u001b[39;00m \u001b[38;5;28;01mif\u001b[39;00m errno \u001b[38;5;129;01mis\u001b[39;00m \u001b[38;5;28;01mNone\u001b[39;00m \u001b[38;5;28;01melse\u001b[39;00m \u001b[38;5;28mint\u001b[39m(errno),\n\u001b[1;32m    224\u001b[0m     sqlstate\u001b[38;5;241m=\u001b[39merror_value\u001b[38;5;241m.\u001b[39mget(\u001b[38;5;124m\"\u001b[39m\u001b[38;5;124msqlstate\u001b[39m\u001b[38;5;124m\"\u001b[39m),\n\u001b[1;32m    225\u001b[0m     sfqid\u001b[38;5;241m=\u001b[39merror_value\u001b[38;5;241m.\u001b[39mget(\u001b[38;5;124m\"\u001b[39m\u001b[38;5;124msfqid\u001b[39m\u001b[38;5;124m\"\u001b[39m),\n\u001b[1;32m    226\u001b[0m     query\u001b[38;5;241m=\u001b[39merror_value\u001b[38;5;241m.\u001b[39mget(\u001b[38;5;124m\"\u001b[39m\u001b[38;5;124mquery\u001b[39m\u001b[38;5;124m\"\u001b[39m),\n\u001b[1;32m    227\u001b[0m     done_format_msg\u001b[38;5;241m=\u001b[39m(\n\u001b[1;32m    228\u001b[0m         \u001b[38;5;28;01mNone\u001b[39;00m \u001b[38;5;28;01mif\u001b[39;00m done_format_msg \u001b[38;5;129;01mis\u001b[39;00m \u001b[38;5;28;01mNone\u001b[39;00m \u001b[38;5;28;01melse\u001b[39;00m \u001b[38;5;28mbool\u001b[39m(done_format_msg)\n\u001b[1;32m    229\u001b[0m     ),\n\u001b[1;32m    230\u001b[0m     connection\u001b[38;5;241m=\u001b[39mconnection,\n\u001b[1;32m    231\u001b[0m     cursor\u001b[38;5;241m=\u001b[39mcursor,\n\u001b[1;32m    232\u001b[0m )\n",
      "\u001b[0;31mSnowparkSQLException\u001b[0m: (1304): 01ae7b4d-0603-7dad-001e-2483015ac8ca: 003540 (42501): SQL execution error: Creating table on shared database 'GITHUB_ARCHIVE_EVENTS' is not allowed."
     ]
    }
   ],
   "source": [
    "total_stars_by_repo_year.write.mode(\"overwrite\").save_as_table(\"total_stars_by_repo_year\")"
   ]
  },
  {
   "cell_type": "markdown",
   "id": "396bd575",
   "metadata": {},
   "source": [
    "#### SnowparkSQLException: SQL execution error: \n",
    "Creating table on shared database `GITHUB_ARCHIVE_EVENTS` is not allowed. Let's copy the data into our own tables for faster querying."
   ]
  },
  {
   "cell_type": "markdown",
   "id": "e37d4b6c",
   "metadata": {},
   "source": [
    "## Save the `total_stars_by_repo_year` dataframe into a table in `vino_db` and `vino_schema` for faster query execution."
   ]
  },
  {
   "cell_type": "code",
   "execution_count": 18,
   "id": "79a5f339",
   "metadata": {},
   "outputs": [
    {
     "data": {
      "text/plain": [
       "<snowflake.snowpark.dataframe.DataFrame at 0x147be4ee0>"
      ]
     },
     "execution_count": 18,
     "metadata": {},
     "output_type": "execute_result"
    }
   ],
   "source": [
    "session.sql(\"USE VINO_DB\")"
   ]
  },
  {
   "cell_type": "code",
   "execution_count": 19,
   "id": "a76fc09d",
   "metadata": {},
   "outputs": [],
   "source": [
    "total_stars_by_repo_year.write.mode(\"overwrite\").save_as_table(\"VINO_DB.VINO_SCHEMA.total_stars_by_repo_year\")"
   ]
  },
  {
   "cell_type": "code",
   "execution_count": 20,
   "id": "e634bcc9",
   "metadata": {},
   "outputs": [
    {
     "data": {
      "text/plain": [
       "44712281"
      ]
     },
     "execution_count": 20,
     "metadata": {},
     "output_type": "execute_result"
    }
   ],
   "source": [
    "total_stars_by_repo_year_table = session.table(\"VINO_DB.VINO_SCHEMA.total_stars_by_repo_year\")\n",
    "total_stars_by_repo_year_table.count()"
   ]
  },
  {
   "cell_type": "markdown",
   "id": "20173f00",
   "metadata": {},
   "source": [
    "### Let's peek into the top 5 repos:\n",
    "### 1. using `take()`:"
   ]
  },
  {
   "cell_type": "code",
   "execution_count": 21,
   "id": "881168cb",
   "metadata": {},
   "outputs": [
    {
     "data": {
      "text/plain": [
       "[Row(REPO_ID=177736533, YEAR=2019, SUM_OF_STARS=345750),\n",
       " Row(REPO_ID=28457823, YEAR=2016, SUM_OF_STARS=182175),\n",
       " Row(REPO_ID=614765452, YEAR=2023, SUM_OF_STARS=139979),\n",
       " Row(REPO_ID=28457823, YEAR=2017, SUM_OF_STARS=96359),\n",
       " Row(REPO_ID=211104957, YEAR=2022, SUM_OF_STARS=92884)]"
      ]
     },
     "execution_count": 21,
     "metadata": {},
     "output_type": "execute_result"
    }
   ],
   "source": [
    "# query from the cybersyn github archive \n",
    "total_stars_by_repo_year.take(5)"
   ]
  },
  {
   "cell_type": "code",
   "execution_count": null,
   "id": "e773612d",
   "metadata": {},
   "outputs": [],
   "source": [
    "\"\"\"\n",
    "SELECT  *  \n",
    "FROM ( SELECT \"REPO_ID\", \n",
    "                \"YEAR(DATE)\" AS \"YEAR\", \n",
    "                \"SUM(COUNT)\" AS \"SUM_OF_STARS\" \n",
    "        FROM ( SELECT \"REPO_ID\", \n",
    "                        year(\"DATE\") AS \"YEAR(DATE)\", \n",
    "                        sum(\"COUNT\") AS \"SUM(COUNT)\" \n",
    "                FROM ( SELECT  *  \n",
    "                        FROM github_archive_events.cybersyn.gh_stars\n",
    "                    ) \n",
    "                GROUP BY \"REPO_ID\", year(\"DATE\")\n",
    "            )\n",
    "        ) \n",
    "ORDER BY \"SUM_OF_STARS\" DESC NULLS LAST \n",
    "LIMIT 5\n",
    "\n",
    "\"\"\""
   ]
  },
  {
   "cell_type": "code",
   "execution_count": 24,
   "id": "1444c204",
   "metadata": {},
   "outputs": [
    {
     "data": {
      "text/plain": [
       "[Row(REPO_ID=177736533, YEAR=2019, SUM_OF_STARS=345750),\n",
       " Row(REPO_ID=28457823, YEAR=2016, SUM_OF_STARS=182175),\n",
       " Row(REPO_ID=614765452, YEAR=2023, SUM_OF_STARS=139979),\n",
       " Row(REPO_ID=28457823, YEAR=2017, SUM_OF_STARS=96359),\n",
       " Row(REPO_ID=211104957, YEAR=2022, SUM_OF_STARS=92884)]"
      ]
     },
     "execution_count": 24,
     "metadata": {},
     "output_type": "execute_result"
    }
   ],
   "source": [
    "# query from the locally saved table\n",
    "total_stars_by_repo_year_table.sort(col(\"sum_of_stars\").desc()).take(5)"
   ]
  },
  {
   "cell_type": "code",
   "execution_count": null,
   "id": "faef47ca",
   "metadata": {},
   "outputs": [],
   "source": [
    "\"\"\"\n",
    "SELECT  *  \n",
    "FROM VINO_DB.VINO_SCHEMA.total_stars_by_repo_year \n",
    "ORDER BY \"SUM_OF_STARS\" DESC NULLS LAST \n",
    "LIMIT 5\n",
    "\"\"\""
   ]
  },
  {
   "cell_type": "markdown",
   "id": "b120dd04",
   "metadata": {},
   "source": [
    "### NOTE: \n",
    "Caching or saving intermediate dataframes that will be queried frequently into a separate table improves the query performance.\n",
    "\n",
    "### 2. Using `limit()`: "
   ]
  },
  {
   "cell_type": "code",
   "execution_count": 25,
   "id": "a62ebd7f",
   "metadata": {},
   "outputs": [
    {
     "name": "stdout",
     "output_type": "stream",
     "text": [
      "---------------------------------------\n",
      "|\"REPO_ID\"  |\"YEAR\"  |\"SUM_OF_STARS\"  |\n",
      "---------------------------------------\n",
      "|177736533  |2019    |345750          |\n",
      "|28457823   |2016    |182175          |\n",
      "|614765452  |2023    |139979          |\n",
      "|28457823   |2017    |96359           |\n",
      "|211104957  |2022    |92884           |\n",
      "---------------------------------------\n",
      "\n"
     ]
    }
   ],
   "source": [
    "total_stars_by_repo_year.limit(5).show()"
   ]
  },
  {
   "cell_type": "code",
   "execution_count": null,
   "id": "16f9e53b",
   "metadata": {},
   "outputs": [],
   "source": [
    "\"\"\"\n",
    "SELECT  *  \n",
    "FROM ( SELECT \"REPO_ID\", \n",
    "                \"YEAR(DATE)\" AS \"YEAR\", \n",
    "                \"SUM(COUNT)\" AS \"SUM_OF_STARS\" \n",
    "        FROM ( SELECT \"REPO_ID\", \n",
    "                        year(\"DATE\") AS \"YEAR(DATE)\", \n",
    "                        sum(\"COUNT\") AS \"SUM(COUNT)\" \n",
    "                FROM ( SELECT  *  \n",
    "                        FROM github_archive_events.cybersyn.gh_stars\n",
    "                    ) \n",
    "                GROUP BY \"REPO_ID\", year(\"DATE\")\n",
    "            )\n",
    "        ) \n",
    "ORDER BY \"SUM_OF_STARS\" DESC NULLS LAST \n",
    "LIMIT 5\n",
    "\n",
    "\"\"\""
   ]
  },
  {
   "cell_type": "code",
   "execution_count": 27,
   "id": "7e63f067",
   "metadata": {},
   "outputs": [
    {
     "name": "stdout",
     "output_type": "stream",
     "text": [
      "---------------------------------------\n",
      "|\"REPO_ID\"  |\"YEAR\"  |\"SUM_OF_STARS\"  |\n",
      "---------------------------------------\n",
      "|177736533  |2019    |345750          |\n",
      "|28457823   |2016    |182175          |\n",
      "|614765452  |2023    |139979          |\n",
      "|28457823   |2017    |96359           |\n",
      "|211104957  |2022    |92884           |\n",
      "---------------------------------------\n",
      "\n"
     ]
    }
   ],
   "source": [
    "total_stars_by_repo_year_table.sort(col(\"sum_of_stars\").desc()).limit(5).show()"
   ]
  },
  {
   "cell_type": "code",
   "execution_count": null,
   "id": "d76be3fb",
   "metadata": {},
   "outputs": [],
   "source": [
    "\"\"\"\n",
    "SELECT  *  \n",
    "FROM VINO_DB.VINO_SCHEMA.total_stars_by_repo_year \n",
    "ORDER BY \"SUM_OF_STARS\" DESC NULLS LAST \n",
    "LIMIT 5\n",
    "\"\"\""
   ]
  },
  {
   "cell_type": "markdown",
   "id": "976adf91",
   "metadata": {},
   "source": [
    "### 3. Using `show()`:"
   ]
  },
  {
   "cell_type": "code",
   "execution_count": 28,
   "id": "9c46b6db",
   "metadata": {},
   "outputs": [
    {
     "name": "stdout",
     "output_type": "stream",
     "text": [
      "---------------------------------------\n",
      "|\"REPO_ID\"  |\"YEAR\"  |\"SUM_OF_STARS\"  |\n",
      "---------------------------------------\n",
      "|177736533  |2019    |345750          |\n",
      "|28457823   |2016    |182175          |\n",
      "|614765452  |2023    |139979          |\n",
      "|28457823   |2017    |96359           |\n",
      "|211104957  |2022    |92884           |\n",
      "---------------------------------------\n",
      "\n"
     ]
    }
   ],
   "source": [
    "total_stars_by_repo_year.show(5)"
   ]
  },
  {
   "cell_type": "code",
   "execution_count": null,
   "id": "109b54c3",
   "metadata": {},
   "outputs": [],
   "source": [
    "\"\"\"\n",
    "SELECT  *  \n",
    "FROM ( SELECT \"REPO_ID\", \n",
    "                \"YEAR(DATE)\" AS \"YEAR\", \n",
    "                \"SUM(COUNT)\" AS \"SUM_OF_STARS\" \n",
    "        FROM ( SELECT \"REPO_ID\", \n",
    "                        year(\"DATE\") AS \"YEAR(DATE)\", \n",
    "                        sum(\"COUNT\") AS \"SUM(COUNT)\" \n",
    "                FROM ( SELECT  *  \n",
    "                        FROM github_archive_events.cybersyn.gh_stars\n",
    "                    ) \n",
    "                GROUP BY \"REPO_ID\", year(\"DATE\")\n",
    "            )\n",
    "        ) \n",
    "ORDER BY \"SUM_OF_STARS\" DESC NULLS LAST \n",
    "LIMIT 5\n",
    "\n",
    "\"\"\""
   ]
  },
  {
   "cell_type": "code",
   "execution_count": 29,
   "id": "d82d9026",
   "metadata": {},
   "outputs": [
    {
     "name": "stdout",
     "output_type": "stream",
     "text": [
      "---------------------------------------\n",
      "|\"REPO_ID\"  |\"YEAR\"  |\"SUM_OF_STARS\"  |\n",
      "---------------------------------------\n",
      "|177736533  |2019    |345750          |\n",
      "|28457823   |2016    |182175          |\n",
      "|614765452  |2023    |139979          |\n",
      "|28457823   |2017    |96359           |\n",
      "|211104957  |2022    |92884           |\n",
      "---------------------------------------\n",
      "\n"
     ]
    }
   ],
   "source": [
    "total_stars_by_repo_year_table.sort(col(\"sum_of_stars\").desc()).show(5)"
   ]
  },
  {
   "cell_type": "code",
   "execution_count": null,
   "id": "07f03ebe",
   "metadata": {},
   "outputs": [],
   "source": [
    "\"\"\"\n",
    "SELECT  *  \n",
    "FROM VINO_DB.VINO_SCHEMA.total_stars_by_repo_year \n",
    "ORDER BY \"SUM_OF_STARS\" DESC NULLS LAST \n",
    "LIMIT 5\n",
    "\"\"\""
   ]
  },
  {
   "cell_type": "markdown",
   "id": "70368e72",
   "metadata": {},
   "source": [
    "### NOTE: \n",
    "You can use the functions `limit()`, `take()` interchangeably. `take()` returns a list of Rows. `limit()` and `show()` returns a dataframe."
   ]
  },
  {
   "cell_type": "markdown",
   "id": "e569a025",
   "metadata": {},
   "source": [
    "## The top 5 repositories are: \n",
    "`177736533`, `28457823`, `614765452`, `28457823`, `211104957`. Let's dive deep."
   ]
  },
  {
   "cell_type": "code",
   "execution_count": 30,
   "id": "663583d1",
   "metadata": {},
   "outputs": [
    {
     "name": "stdout",
     "output_type": "stream",
     "text": [
      "---------------------------------------------\n",
      "|\"REPO_ID\"  |\"REPO_NAME\"     |\"FIRST_SEEN\"  |\n",
      "---------------------------------------------\n",
      "|177736533  |997icu/996.ICU  |2019-03-28    |\n",
      "|177736533  |996icu/996.ICU  |2019-03-26    |\n",
      "---------------------------------------------\n",
      "\n"
     ]
    }
   ],
   "source": [
    "repos_df.filter(col(\"repo_id\")==\"177736533\").show()"
   ]
  },
  {
   "cell_type": "code",
   "execution_count": 31,
   "id": "55f01040",
   "metadata": {},
   "outputs": [
    {
     "name": "stdout",
     "output_type": "stream",
     "text": [
      "-----------------------------------------------------------\n",
      "|\"REPO_ID\"  |\"REPO_NAME\"                   |\"FIRST_SEEN\"  |\n",
      "-----------------------------------------------------------\n",
      "|28457823   |FreeCodeCampers/freecodecamp  |2015-04-20    |\n",
      "|28457823   |freeCodeCamp/                 |2018-06-01    |\n",
      "|28457823   |FreeCodeCamp/freeCodeCamp     |2017-01-10    |\n",
      "|28457823   |FreeCodeCamp/FreeCodeCamp     |2015-08-13    |\n",
      "|28457823   |FreeCodeCamp/freecodecamp     |2015-01-01    |\n",
      "|28457823   |freeCodeCamp/freeCodeCamp     |2017-01-11    |\n",
      "-----------------------------------------------------------\n",
      "\n"
     ]
    }
   ],
   "source": [
    "repos_df.filter(col(\"repo_id\")==\"28457823\").show()"
   ]
  },
  {
   "cell_type": "code",
   "execution_count": 32,
   "id": "48bb21af",
   "metadata": {},
   "outputs": [
    {
     "name": "stdout",
     "output_type": "stream",
     "text": [
      "------------------------------------------------------------\n",
      "|\"REPO_ID\"  |\"REPO_NAME\"                    |\"FIRST_SEEN\"  |\n",
      "------------------------------------------------------------\n",
      "|614765452  |Significant-Gravitas/Auto-GPT  |2023-04-15    |\n",
      "|614765452  |Torantulino/auto-gpt           |2023-03-28    |\n",
      "|614765452  |Torantulino/Entrepreneur-GPT   |2023-03-16    |\n",
      "|614765452  |Torantulino/Auto-GPT           |2023-03-24    |\n",
      "|614765452  |Torantulino/entrepreneur-gpt   |2023-03-24    |\n",
      "------------------------------------------------------------\n",
      "\n"
     ]
    }
   ],
   "source": [
    "repos_df.filter(col(\"repo_id\")==\"614765452\").show()"
   ]
  },
  {
   "cell_type": "code",
   "execution_count": 33,
   "id": "d3b49e02",
   "metadata": {},
   "outputs": [
    {
     "name": "stdout",
     "output_type": "stream",
     "text": [
      "-----------------------------------------------------------\n",
      "|\"REPO_ID\"  |\"REPO_NAME\"                   |\"FIRST_SEEN\"  |\n",
      "-----------------------------------------------------------\n",
      "|28457823   |FreeCodeCampers/freecodecamp  |2015-04-20    |\n",
      "|28457823   |freeCodeCamp/                 |2018-06-01    |\n",
      "|28457823   |FreeCodeCamp/freeCodeCamp     |2017-01-10    |\n",
      "|28457823   |FreeCodeCamp/FreeCodeCamp     |2015-08-13    |\n",
      "|28457823   |FreeCodeCamp/freecodecamp     |2015-01-01    |\n",
      "|28457823   |freeCodeCamp/freeCodeCamp     |2017-01-11    |\n",
      "-----------------------------------------------------------\n",
      "\n"
     ]
    }
   ],
   "source": [
    "repos_df.filter(col(\"repo_id\")==\"28457823\").show()"
   ]
  },
  {
   "cell_type": "code",
   "execution_count": 34,
   "id": "f8b99c0c",
   "metadata": {},
   "outputs": [
    {
     "name": "stdout",
     "output_type": "stream",
     "text": [
      "--------------------------------------------------\n",
      "|\"REPO_ID\"  |\"REPO_NAME\"          |\"FIRST_SEEN\"  |\n",
      "--------------------------------------------------\n",
      "|211104957  |natanfelles/app      |2019-09-26    |\n",
      "|211104957  |aplus-framework/app  |2021-07-22    |\n",
      "--------------------------------------------------\n",
      "\n"
     ]
    }
   ],
   "source": [
    "repos_df.filter(col(\"repo_id\")==\"211104957\").show()"
   ]
  },
  {
   "cell_type": "markdown",
   "id": "b44c1c20",
   "metadata": {},
   "source": [
    "## OOPS! Looks like there are duplicate entries in the `repos_df`. Notice that `repo_id` appears in multiple rows in the dataframe."
   ]
  },
  {
   "cell_type": "code",
   "execution_count": null,
   "id": "7119860a",
   "metadata": {},
   "outputs": [],
   "source": [
    "# TODO: Count repo_id, count distinct repo_id. How many duplicates are there? How many distinct repo_id are there?\n",
    "# TODO: How to deal with duplicates? \n",
    "    # drop duplicates?\n",
    "    # drop duplicates by any specific condition?\n",
    "    # keep the latest record based on first_seen column?"
   ]
  },
  {
   "cell_type": "markdown",
   "id": "bf375985",
   "metadata": {},
   "source": [
    "# Dealing with Duplicates"
   ]
  },
  {
   "cell_type": "code",
   "execution_count": 35,
   "id": "08ed04b1",
   "metadata": {},
   "outputs": [
    {
     "data": {
      "text/plain": [
       "191614275"
      ]
     },
     "execution_count": 35,
     "metadata": {},
     "output_type": "execute_result"
    }
   ],
   "source": [
    "stars_df.count()"
   ]
  },
  {
   "cell_type": "code",
   "execution_count": 36,
   "id": "d4c18d5b",
   "metadata": {
    "scrolled": true
   },
   "outputs": [
    {
     "data": {
      "text/plain": [
       "191614275"
      ]
     },
     "execution_count": 36,
     "metadata": {},
     "output_type": "execute_result"
    }
   ],
   "source": [
    "stars_df.distinct().count()"
   ]
  },
  {
   "cell_type": "markdown",
   "id": "78ab5ebb",
   "metadata": {},
   "source": [
    "There are no duplicate rows in `stars_df` dataframe. Let's check the total number of unique `repo_id`"
   ]
  },
  {
   "cell_type": "code",
   "execution_count": 37,
   "id": "b1d1d223",
   "metadata": {},
   "outputs": [
    {
     "data": {
      "text/plain": [
       "30383934"
      ]
     },
     "execution_count": 37,
     "metadata": {},
     "output_type": "execute_result"
    }
   ],
   "source": [
    "# number of unique repo_id in stars_df\n",
    "stars_df.drop_duplicates('repo_id').count()"
   ]
  },
  {
   "cell_type": "markdown",
   "id": "46f9fb51",
   "metadata": {},
   "source": [
    "Let's check `repos_df` now. "
   ]
  },
  {
   "cell_type": "code",
   "execution_count": 38,
   "id": "3befbad9",
   "metadata": {},
   "outputs": [
    {
     "data": {
      "text/plain": [
       "354483346"
      ]
     },
     "execution_count": 38,
     "metadata": {},
     "output_type": "execute_result"
    }
   ],
   "source": [
    "repos_df.count()"
   ]
  },
  {
   "cell_type": "markdown",
   "id": "7e6074be",
   "metadata": {},
   "source": [
    "#### 1. What happens if we drop all the duplicate rows?"
   ]
  },
  {
   "cell_type": "code",
   "execution_count": 39,
   "id": "fc9df320",
   "metadata": {},
   "outputs": [
    {
     "data": {
      "text/plain": [
       "354482846"
      ]
     },
     "execution_count": 39,
     "metadata": {},
     "output_type": "execute_result"
    }
   ],
   "source": [
    "repos_dedup_1 = repos_df.drop_duplicates()\n",
    "repos_dedup_1.count()"
   ]
  },
  {
   "cell_type": "markdown",
   "id": "fe8f8345",
   "metadata": {},
   "source": [
    "#### 2. What is the difference between passing the columns as arguments vs simply calling the `drop_duplicates()` function without arguments?"
   ]
  },
  {
   "cell_type": "code",
   "execution_count": 40,
   "id": "a0a763c1",
   "metadata": {},
   "outputs": [
    {
     "data": {
      "text/plain": [
       "354482846"
      ]
     },
     "execution_count": 40,
     "metadata": {},
     "output_type": "execute_result"
    }
   ],
   "source": [
    "repos_dedup_2 = repos_df.drop_duplicates(\"repo_id\", \"repo_name\", \"first_seen\")\n",
    "repos_dedup_2.count()"
   ]
  },
  {
   "cell_type": "markdown",
   "id": "470f6e15",
   "metadata": {},
   "source": [
    "#### 3. What is the difference between `distinct()` vs `drop_duplicates()` functions?"
   ]
  },
  {
   "cell_type": "code",
   "execution_count": 41,
   "id": "879add16",
   "metadata": {},
   "outputs": [
    {
     "data": {
      "text/plain": [
       "354482846"
      ]
     },
     "execution_count": 41,
     "metadata": {},
     "output_type": "execute_result"
    }
   ],
   "source": [
    "repos_dedup_3 = repos_df.distinct()\n",
    "repos_dedup_3.count()"
   ]
  },
  {
   "cell_type": "markdown",
   "id": "2a6466b7",
   "metadata": {},
   "source": [
    "#### 4. Let's drop all the duplicate rows based on `repo_id`. That is, let's keep only one row per `repo_id`."
   ]
  },
  {
   "cell_type": "code",
   "execution_count": 42,
   "id": "b3df6bd1",
   "metadata": {},
   "outputs": [
    {
     "data": {
      "text/plain": [
       "339596086"
      ]
     },
     "execution_count": 42,
     "metadata": {},
     "output_type": "execute_result"
    }
   ],
   "source": [
    "repos_dedup_4 = repos_df.drop_duplicates(\"repo_id\")\n",
    "repos_dedup_4.count()"
   ]
  },
  {
   "cell_type": "markdown",
   "id": "5cf2efbd",
   "metadata": {},
   "source": [
    "### `repos_dedup_4` is the clean dataframe and we will use this for the rest of the analysis. \n",
    "\n",
    "Note: It has one row for each `repo_id` value."
   ]
  },
  {
   "cell_type": "markdown",
   "id": "f7eb8178",
   "metadata": {},
   "source": [
    "As you can see from the above commands, you can remove duplicates from a dataframe using different functions. But which one is more optimal? Let's dive into the query profile in the Snowsight UI, and understand the SQL query generated by each API."
   ]
  },
  {
   "cell_type": "markdown",
   "id": "b5822034",
   "metadata": {},
   "source": [
    "#### 1. SQL query for `repos_df.drop_duplicates().count()`"
   ]
  },
  {
   "cell_type": "code",
   "execution_count": null,
   "id": "40eb3389",
   "metadata": {},
   "outputs": [],
   "source": [
    "# repos_df.drop_duplicates().count()\n",
    "\"\"\"\n",
    "SELECT count(1) AS \"COUNT(LITERAL())\" \n",
    "FROM ( SELECT \"REPO_ID\", \"REPO_NAME\", \"FIRST_SEEN\" \n",
    "        FROM ( SELECT  *  FROM github_archive_events.cybersyn.gh_repos) \n",
    "        GROUP BY \"REPO_ID\", \"REPO_NAME\", \"FIRST_SEEN\"\n",
    "    ) \n",
    "LIMIT 1\n",
    "\n",
    "\"\"\""
   ]
  },
  {
   "cell_type": "markdown",
   "id": "ebda1407",
   "metadata": {},
   "source": [
    "#### 2. SQL query for `repos_df.drop_duplicates(\"repo_id\", \"repo_name\", \"first_seen\").count()`"
   ]
  },
  {
   "cell_type": "code",
   "execution_count": null,
   "id": "485d7d4c",
   "metadata": {},
   "outputs": [],
   "source": [
    "# repos_df.drop_duplicates(\"repo_id\", \"repo_name\", \"first_seen\").count()\n",
    "\"\"\"\n",
    "SELECT count(1) AS \"COUNT(LITERAL())\" \n",
    "FROM ( SELECT \"REPO_ID\", \"REPO_NAME\", \"FIRST_SEEN\" \n",
    "        FROM ( SELECT \"REPO_ID\", \n",
    "                        \"REPO_NAME\", \n",
    "                        \"FIRST_SEEN\", \n",
    "                        row_number() OVER (PARTITION BY \"REPO_ID\", \n",
    "                                                        \"REPO_NAME\", \n",
    "                                                        \"FIRST_SEEN\"  ORDER BY \"REPO_ID\" ASC NULLS FIRST, \n",
    "                                                        \"REPO_NAME\" ASC NULLS FIRST, \n",
    "                                                        \"FIRST_SEEN\" ASC NULLS FIRST ) AS \"69vt86qrwf\" \n",
    "                FROM github_archive_events.cybersyn.gh_repos\n",
    "            ) \n",
    "        WHERE (\"69vt86qrwf\" = 1 :: INT)\n",
    "        ) \n",
    "LIMIT 1\n",
    "\"\"\""
   ]
  },
  {
   "cell_type": "markdown",
   "id": "b873eff5",
   "metadata": {},
   "source": [
    "#### 3. SQL query for `repos_df.distinct().count()`"
   ]
  },
  {
   "cell_type": "code",
   "execution_count": null,
   "id": "3c7017c9",
   "metadata": {},
   "outputs": [],
   "source": [
    "# repos_df.distinct().count()\n",
    "\"\"\"\n",
    "SELECT count(1) AS \"COUNT(LITERAL())\" \n",
    "FROM ( SELECT \"REPO_ID\", \"REPO_NAME\", \"FIRST_SEEN\" \n",
    "        FROM ( SELECT  *  FROM github_archive_events.cybersyn.gh_repos) \n",
    "        GROUP BY \"REPO_ID\", \"REPO_NAME\", \"FIRST_SEEN\"\n",
    "    ) \n",
    "LIMIT 1\n",
    "\"\"\""
   ]
  },
  {
   "cell_type": "markdown",
   "id": "ca50fa7f",
   "metadata": {},
   "source": [
    "#### 4. SQL query for `repos_df.drop_duplicates(\"repo_id\").count()`"
   ]
  },
  {
   "cell_type": "code",
   "execution_count": null,
   "id": "67c3859c",
   "metadata": {},
   "outputs": [],
   "source": [
    "# repos_df.drop_duplicates(\"repo_id\").count()\n",
    "\"\"\"\n",
    "SELECT count(1) AS \"COUNT(LITERAL())\" \n",
    "FROM ( SELECT \"REPO_ID\", \"REPO_NAME\", \"FIRST_SEEN\" \n",
    "        FROM ( SELECT \"REPO_ID\", \n",
    "                        \"REPO_NAME\", \n",
    "                        \"FIRST_SEEN\", \n",
    "                        row_number() OVER (PARTITION BY \"REPO_ID\"  ORDER BY \"REPO_ID\" ASC NULLS FIRST ) AS \"4zgjpf60dd\" \n",
    "                FROM github_archive_events.cybersyn.gh_repos\n",
    "                ) \n",
    "        WHERE (\"4zgjpf60dd\" = 1 :: INT)\n",
    "    ) \n",
    "LIMIT 1\n",
    "\n",
    "\"\"\""
   ]
  },
  {
   "cell_type": "markdown",
   "id": "9618992d",
   "metadata": {},
   "source": [
    "## Let's verify the top 5 repositories again: \n",
    "`177736533`, `28457823`, `614765452`, `28457823`, `211104957`. "
   ]
  },
  {
   "cell_type": "code",
   "execution_count": 43,
   "id": "d1fe4746",
   "metadata": {},
   "outputs": [
    {
     "name": "stdout",
     "output_type": "stream",
     "text": [
      "---------------------------------------------\n",
      "|\"REPO_ID\"  |\"REPO_NAME\"     |\"FIRST_SEEN\"  |\n",
      "---------------------------------------------\n",
      "|177736533  |997icu/996.ICU  |2019-03-28    |\n",
      "|177736533  |996icu/996.ICU  |2019-03-26    |\n",
      "---------------------------------------------\n",
      "\n",
      "---------------------------------------------\n",
      "|\"REPO_ID\"  |\"REPO_NAME\"     |\"FIRST_SEEN\"  |\n",
      "---------------------------------------------\n",
      "|177736533  |997icu/996.ICU  |2019-03-28    |\n",
      "---------------------------------------------\n",
      "\n"
     ]
    }
   ],
   "source": [
    "repos_df.filter(col(\"repo_id\")==\"177736533\").show(),\n",
    "repos_dedup_4.filter(col(\"repo_id\")==\"177736533\").show()"
   ]
  },
  {
   "cell_type": "code",
   "execution_count": 44,
   "id": "1fa2e415",
   "metadata": {},
   "outputs": [
    {
     "name": "stdout",
     "output_type": "stream",
     "text": [
      "-----------------------------------------------------------\n",
      "|\"REPO_ID\"  |\"REPO_NAME\"                   |\"FIRST_SEEN\"  |\n",
      "-----------------------------------------------------------\n",
      "|28457823   |FreeCodeCampers/freecodecamp  |2015-04-20    |\n",
      "|28457823   |freeCodeCamp/                 |2018-06-01    |\n",
      "|28457823   |FreeCodeCamp/freeCodeCamp     |2017-01-10    |\n",
      "|28457823   |FreeCodeCamp/FreeCodeCamp     |2015-08-13    |\n",
      "|28457823   |FreeCodeCamp/freecodecamp     |2015-01-01    |\n",
      "|28457823   |freeCodeCamp/freeCodeCamp     |2017-01-11    |\n",
      "-----------------------------------------------------------\n",
      "\n",
      "-----------------------------------------------------------\n",
      "|\"REPO_ID\"  |\"REPO_NAME\"                   |\"FIRST_SEEN\"  |\n",
      "-----------------------------------------------------------\n",
      "|28457823   |FreeCodeCampers/freecodecamp  |2015-04-20    |\n",
      "-----------------------------------------------------------\n",
      "\n"
     ]
    }
   ],
   "source": [
    "repos_df.filter(col(\"repo_id\")==\"28457823\").show(),\n",
    "repos_dedup_4.filter(col(\"repo_id\")==\"28457823\").show()"
   ]
  },
  {
   "cell_type": "code",
   "execution_count": 45,
   "id": "8d33a6a9",
   "metadata": {},
   "outputs": [
    {
     "name": "stdout",
     "output_type": "stream",
     "text": [
      "------------------------------------------------------------\n",
      "|\"REPO_ID\"  |\"REPO_NAME\"                    |\"FIRST_SEEN\"  |\n",
      "------------------------------------------------------------\n",
      "|614765452  |Significant-Gravitas/Auto-GPT  |2023-04-15    |\n",
      "|614765452  |Torantulino/auto-gpt           |2023-03-28    |\n",
      "|614765452  |Torantulino/Entrepreneur-GPT   |2023-03-16    |\n",
      "|614765452  |Torantulino/Auto-GPT           |2023-03-24    |\n",
      "|614765452  |Torantulino/entrepreneur-gpt   |2023-03-24    |\n",
      "------------------------------------------------------------\n",
      "\n",
      "---------------------------------------------------\n",
      "|\"REPO_ID\"  |\"REPO_NAME\"           |\"FIRST_SEEN\"  |\n",
      "---------------------------------------------------\n",
      "|614765452  |Torantulino/Auto-GPT  |2023-03-24    |\n",
      "---------------------------------------------------\n",
      "\n"
     ]
    }
   ],
   "source": [
    "repos_df.filter(col(\"repo_id\")==\"614765452\").show(),\n",
    "repos_dedup_4.filter(col(\"repo_id\")==\"614765452\").show()"
   ]
  },
  {
   "cell_type": "code",
   "execution_count": 46,
   "id": "efe5e333",
   "metadata": {},
   "outputs": [
    {
     "name": "stdout",
     "output_type": "stream",
     "text": [
      "--------------------------------------------------\n",
      "|\"REPO_ID\"  |\"REPO_NAME\"          |\"FIRST_SEEN\"  |\n",
      "--------------------------------------------------\n",
      "|211104957  |natanfelles/app      |2019-09-26    |\n",
      "|211104957  |aplus-framework/app  |2021-07-22    |\n",
      "--------------------------------------------------\n",
      "\n",
      "--------------------------------------------------\n",
      "|\"REPO_ID\"  |\"REPO_NAME\"          |\"FIRST_SEEN\"  |\n",
      "--------------------------------------------------\n",
      "|211104957  |aplus-framework/app  |2021-07-22    |\n",
      "--------------------------------------------------\n",
      "\n"
     ]
    }
   ],
   "source": [
    "repos_df.filter(col(\"repo_id\")==\"211104957\").show(),\n",
    "repos_dedup_4.filter(col(\"repo_id\")==\"211104957\").show()"
   ]
  },
  {
   "cell_type": "markdown",
   "id": "1d784a2a",
   "metadata": {},
   "source": [
    "## GREAT!!!! NO MORE DUPLICATES!"
   ]
  },
  {
   "cell_type": "markdown",
   "id": "af2b5204",
   "metadata": {},
   "source": [
    "**BUT....** instead of simply dropping duplicates based on `repo_id`, we want to keep the row with the recent value for `FIRST_SEEN` column. How can we do that? We can use **window functions** for that."
   ]
  },
  {
   "cell_type": "code",
   "execution_count": null,
   "id": "7acf9420",
   "metadata": {},
   "outputs": [],
   "source": [
    "# TODO: Keep the record with latest date for `FIRST_SEEN` column"
   ]
  },
  {
   "cell_type": "code",
   "execution_count": 47,
   "id": "d22351dc",
   "metadata": {},
   "outputs": [],
   "source": [
    "window1 = Window.partition_by(\"repo_id\").order_by(col(\"first_seen\").desc())"
   ]
  },
  {
   "cell_type": "code",
   "execution_count": 48,
   "id": "e7130467",
   "metadata": {},
   "outputs": [
    {
     "data": {
      "text/plain": [
       "339596086"
      ]
     },
     "execution_count": 48,
     "metadata": {},
     "output_type": "execute_result"
    }
   ],
   "source": [
    "repos_dedup_df = repos_df.select(row_number().over(window1).as_(\"rnum\"), \n",
    "                                     \"repo_id\", \n",
    "                                     \"repo_name\", \n",
    "                                     \"first_seen\")\\\n",
    "                         .filter(col(\"rnum\")==\"1\")\n",
    "repos_dedup_df.count()"
   ]
  },
  {
   "cell_type": "markdown",
   "id": "a9f914ae",
   "metadata": {},
   "source": [
    "### SQL query for `repos_dedup_df.count()`"
   ]
  },
  {
   "cell_type": "code",
   "execution_count": null,
   "id": "2e198319",
   "metadata": {},
   "outputs": [],
   "source": [
    "\"\"\"\n",
    "SELECT count(1) AS \"COUNT(LITERAL())\" \n",
    "FROM ( SELECT  *  \n",
    "        FROM ( SELECT row_number() OVER (PARTITION BY \"REPO_ID\"  ORDER BY \"FIRST_SEEN\" ASC NULLS FIRST ) AS \"RNUM\", \n",
    "                    \"REPO_ID\", \n",
    "                    \"REPO_NAME\", \n",
    "                    \"FIRST_SEEN\" \n",
    "                FROM github_archive_events.cybersyn.gh_repos\n",
    "            ) \n",
    "        WHERE (\"RNUM\" = '1')\n",
    "    ) \n",
    "LIMIT 1\n",
    "\"\"\""
   ]
  },
  {
   "cell_type": "markdown",
   "id": "031c094c",
   "metadata": {},
   "source": [
    "## Let's verify the top 5 repositories again: `177736533`, `28457823`, `614765452`, `28457823`, `211104957`. "
   ]
  },
  {
   "cell_type": "code",
   "execution_count": 49,
   "id": "27043575",
   "metadata": {},
   "outputs": [
    {
     "name": "stdout",
     "output_type": "stream",
     "text": [
      "---------------------------------------------\n",
      "|\"REPO_ID\"  |\"REPO_NAME\"     |\"FIRST_SEEN\"  |\n",
      "---------------------------------------------\n",
      "|177736533  |997icu/996.ICU  |2019-03-28    |\n",
      "|177736533  |996icu/996.ICU  |2019-03-26    |\n",
      "---------------------------------------------\n",
      "\n",
      "------------------------------------------------------\n",
      "|\"RNUM\"  |\"REPO_ID\"  |\"REPO_NAME\"     |\"FIRST_SEEN\"  |\n",
      "------------------------------------------------------\n",
      "|1       |177736533  |997icu/996.ICU  |2019-03-28    |\n",
      "------------------------------------------------------\n",
      "\n"
     ]
    }
   ],
   "source": [
    "repos_df.filter(col(\"repo_id\")==\"177736533\").show(),\n",
    "repos_dedup_df.filter(col(\"repo_id\")==\"177736533\").show()"
   ]
  },
  {
   "cell_type": "code",
   "execution_count": 50,
   "id": "0af2597d",
   "metadata": {},
   "outputs": [
    {
     "name": "stdout",
     "output_type": "stream",
     "text": [
      "-----------------------------------------------------------\n",
      "|\"REPO_ID\"  |\"REPO_NAME\"                   |\"FIRST_SEEN\"  |\n",
      "-----------------------------------------------------------\n",
      "|28457823   |FreeCodeCampers/freecodecamp  |2015-04-20    |\n",
      "|28457823   |freeCodeCamp/                 |2018-06-01    |\n",
      "|28457823   |FreeCodeCamp/freeCodeCamp     |2017-01-10    |\n",
      "|28457823   |FreeCodeCamp/FreeCodeCamp     |2015-08-13    |\n",
      "|28457823   |FreeCodeCamp/freecodecamp     |2015-01-01    |\n",
      "|28457823   |freeCodeCamp/freeCodeCamp     |2017-01-11    |\n",
      "-----------------------------------------------------------\n",
      "\n",
      "-----------------------------------------------------\n",
      "|\"RNUM\"  |\"REPO_ID\"  |\"REPO_NAME\"    |\"FIRST_SEEN\"  |\n",
      "-----------------------------------------------------\n",
      "|1       |28457823   |freeCodeCamp/  |2018-06-01    |\n",
      "-----------------------------------------------------\n",
      "\n"
     ]
    }
   ],
   "source": [
    "repos_df.filter(col(\"repo_id\")==\"28457823\").show(),\n",
    "repos_dedup_df.filter(col(\"repo_id\")==\"28457823\").show()"
   ]
  },
  {
   "cell_type": "markdown",
   "id": "1f19a209",
   "metadata": {},
   "source": [
    "## PHEW! Unique records with latest values for `FIRST_SEEN` column are retained."
   ]
  },
  {
   "cell_type": "markdown",
   "id": "de41ebcc",
   "metadata": {},
   "source": [
    "We don't need the `rnum` column, let's delete it."
   ]
  },
  {
   "cell_type": "code",
   "execution_count": 51,
   "id": "bdd19bc4",
   "metadata": {},
   "outputs": [],
   "source": [
    "repos_dedup_df = repos_dedup_df.drop('rnum')"
   ]
  },
  {
   "cell_type": "code",
   "execution_count": 52,
   "id": "1d09cf2c",
   "metadata": {},
   "outputs": [
    {
     "data": {
      "text/plain": [
       "['REPO_ID', 'REPO_NAME', 'FIRST_SEEN']"
      ]
     },
     "execution_count": 52,
     "metadata": {},
     "output_type": "execute_result"
    }
   ],
   "source": [
    "repos_dedup_df.columns"
   ]
  },
  {
   "cell_type": "markdown",
   "id": "f34a8d18",
   "metadata": {},
   "source": [
    "## Let's write this clean `repos_df` to our table."
   ]
  },
  {
   "cell_type": "code",
   "execution_count": 53,
   "id": "d49ab7e0",
   "metadata": {},
   "outputs": [
    {
     "data": {
      "text/plain": [
       "<snowflake.snowpark.dataframe.DataFrame at 0x1688cbee0>"
      ]
     },
     "execution_count": 53,
     "metadata": {},
     "output_type": "execute_result"
    }
   ],
   "source": [
    "session.sql(\"USE VINO_DB\")"
   ]
  },
  {
   "cell_type": "code",
   "execution_count": 54,
   "id": "a0397215",
   "metadata": {},
   "outputs": [],
   "source": [
    "repos_dedup_df.write.mode(\"overwrite\").save_as_table(\"VINO_DB.VINO_SCHEMA.repos_deduped\")"
   ]
  },
  {
   "cell_type": "code",
   "execution_count": 56,
   "id": "83773cb2",
   "metadata": {},
   "outputs": [
    {
     "data": {
      "text/plain": [
       "339596086"
      ]
     },
     "execution_count": 56,
     "metadata": {},
     "output_type": "execute_result"
    }
   ],
   "source": [
    "repos_dedup_table = session.table(\"VINO_DB.VINO_SCHEMA.repos_deduped\")\n",
    "repos_dedup_table.count()"
   ]
  },
  {
   "cell_type": "markdown",
   "id": "2484ece0",
   "metadata": {},
   "source": [
    "### Now calculate the all-time top 50 repositories based on the number of stars. "
   ]
  },
  {
   "cell_type": "code",
   "execution_count": 57,
   "id": "1fe8a892",
   "metadata": {},
   "outputs": [
    {
     "data": {
      "text/plain": [
       "339596086"
      ]
     },
     "execution_count": 57,
     "metadata": {},
     "output_type": "execute_result"
    }
   ],
   "source": [
    "repos_dedup_table.count()"
   ]
  },
  {
   "cell_type": "code",
   "execution_count": 58,
   "id": "e04cfab5",
   "metadata": {},
   "outputs": [
    {
     "data": {
      "text/plain": [
       "44712281"
      ]
     },
     "execution_count": 58,
     "metadata": {},
     "output_type": "execute_result"
    }
   ],
   "source": [
    "total_stars_by_repo_year_table.count()"
   ]
  },
  {
   "cell_type": "code",
   "execution_count": 59,
   "id": "d308fcdd",
   "metadata": {},
   "outputs": [
    {
     "data": {
      "text/plain": [
       "['REPO_ID', 'REPO_NAME', 'FIRST_SEEN']"
      ]
     },
     "execution_count": 59,
     "metadata": {},
     "output_type": "execute_result"
    }
   ],
   "source": [
    "repos_dedup_table.columns"
   ]
  },
  {
   "cell_type": "code",
   "execution_count": 60,
   "id": "9bb124fa",
   "metadata": {},
   "outputs": [
    {
     "data": {
      "text/plain": [
       "['REPO_ID', 'YEAR', 'SUM_OF_STARS']"
      ]
     },
     "execution_count": 60,
     "metadata": {},
     "output_type": "execute_result"
    }
   ],
   "source": [
    "total_stars_by_repo_year_table.columns"
   ]
  },
  {
   "cell_type": "markdown",
   "id": "de27b7ef",
   "metadata": {},
   "source": [
    "#### `repo_id` column is present in both dataframes. If we join two dataframes with the same column name, with the join key being `repo_id`, Snowpark automatically appends a random prefix. \n",
    "\n",
    "See below!"
   ]
  },
  {
   "cell_type": "code",
   "execution_count": 62,
   "id": "d856a02e",
   "metadata": {},
   "outputs": [
    {
     "data": {
      "text/plain": [
       "['\"l_yecd_REPO_ID\"', 'YEAR', 'REPO_NAME', 'SUM_OF_STARS', 'FIRST_SEEN']"
      ]
     },
     "execution_count": 62,
     "metadata": {},
     "output_type": "execute_result"
    }
   ],
   "source": [
    "temp_df = total_stars_by_repo_year_table.join(repos_dedup_table, \n",
    "                                              total_stars_by_repo_year_table['repo_id']==repos_dedup_table['repo_id'])\\\n",
    "                                        .select(total_stars_by_repo_year_table['repo_id'],\n",
    "                                                 \"year\",\n",
    "                                                 \"repo_name\",\n",
    "                                                 \"sum_of_stars\",\n",
    "                                                 \"first_seen\")\n",
    "temp_df.columns"
   ]
  },
  {
   "cell_type": "markdown",
   "id": "8d261889",
   "metadata": {},
   "source": [
    "#### Let us `alias()` one of the columns and then join the dataframes to avoid this. "
   ]
  },
  {
   "cell_type": "code",
   "execution_count": 63,
   "id": "d539a84c",
   "metadata": {},
   "outputs": [
    {
     "data": {
      "text/plain": [
       "['REPO_ID', 'YEAR', 'REPO_NAME', 'SUM_OF_STARS', 'FIRST_SEEN']"
      ]
     },
     "execution_count": 63,
     "metadata": {},
     "output_type": "execute_result"
    }
   ],
   "source": [
    "top_repos = total_stars_by_repo_year_table.join(repos_dedup_table, \n",
    "                                                total_stars_by_repo_year_table['repo_id'] == repos_dedup_table['repo_id'])\\\n",
    "                                          .select(total_stars_by_repo_year_table['repo_id'].as_(\"repo_id\"),\n",
    "                                                 \"year\",\n",
    "                                                 \"repo_name\",\n",
    "                                                 \"sum_of_stars\",\n",
    "                                                 \"first_seen\")\n",
    "top_repos.columns"
   ]
  },
  {
   "cell_type": "code",
   "execution_count": 64,
   "id": "0b3e2951",
   "metadata": {},
   "outputs": [
    {
     "data": {
      "text/plain": [
       "44712281"
      ]
     },
     "execution_count": 64,
     "metadata": {},
     "output_type": "execute_result"
    }
   ],
   "source": [
    "top_repos.count()"
   ]
  },
  {
   "cell_type": "markdown",
   "id": "b2c7cbe0",
   "metadata": {},
   "source": [
    "By default, the join operation is `inner join`. Can we look at the SQL query that runs under the hood?"
   ]
  },
  {
   "cell_type": "code",
   "execution_count": null,
   "id": "6167a800",
   "metadata": {},
   "outputs": [],
   "source": [
    "\"\"\"\n",
    "SELECT count(1) AS \"COUNT(LITERAL())\" \n",
    "FROM ( SELECT \"l_csuo_REPO_ID\" AS \"REPO_ID\", \n",
    "                \"YEAR\", \n",
    "                \"REPO_NAME\", \n",
    "                \"SUM_OF_STARS\", \n",
    "                \"FIRST_SEEN\" \n",
    "        FROM ( \n",
    "                SELECT  *  \n",
    "                FROM (( SELECT \"REPO_ID\" AS \"l_csuo_REPO_ID\", \n",
    "                                \"YEAR\" AS \"YEAR\", \n",
    "                                \"SUM_OF_STARS\" AS \"SUM_OF_STARS\" \n",
    "                        FROM VINO_DB.VINO_SCHEMA.total_stars_by_repo_year\n",
    "                       ) AS SNOWPARK_LEFT \n",
    "                       \n",
    "                       INNER JOIN \n",
    "                       \n",
    "                       ( SELECT \"REPO_ID\" AS \"r_lxll_REPO_ID\", \n",
    "                                   \"REPO_NAME\" AS \"REPO_NAME\", \n",
    "                                   \"FIRST_SEEN\" AS \"FIRST_SEEN\" \n",
    "                         FROM VINO_DB.VINO_SCHEMA.repos_deduped\n",
    "                       ) AS SNOWPARK_RIGHT \n",
    "                       \n",
    "                       ON \n",
    "                       \n",
    "                       (\"l_csuo_REPO_ID\" = \"r_lxll_REPO_ID\")\n",
    "                      )\n",
    "             )\n",
    "    ) \n",
    "LIMIT 1\n",
    "\n",
    "\"\"\""
   ]
  },
  {
   "cell_type": "markdown",
   "id": "7e8005ca",
   "metadata": {},
   "source": [
    "#### In this dataset using two dataframes, `stars_df` is a smaller dataframe and `repos_df` is the larger one.  The output of this join operation will only have the repositories with `total_stars`.\n",
    "\n",
    "That is, the join output will be of the same size as the `stars_df` dataframe. So, can we use a left join instead? `stars_df` on the `left`, and `repos_df` on the `right`."
   ]
  },
  {
   "cell_type": "code",
   "execution_count": 68,
   "id": "1effc315",
   "metadata": {},
   "outputs": [
    {
     "data": {
      "text/plain": [
       "['REPO_ID', 'YEAR', 'REPO_NAME', 'SUM_OF_STARS', 'FIRST_SEEN']"
      ]
     },
     "execution_count": 68,
     "metadata": {},
     "output_type": "execute_result"
    }
   ],
   "source": [
    "top_repos_1 = total_stars_by_repo_year_table.join(repos_dedup_table, \n",
    "                                                    total_stars_by_repo_year_table['repo_id']==repos_dedup_table['repo_id'],\n",
    "                                                    join_type='left')\\\n",
    "                                            .select(total_stars_by_repo_year_table['repo_id'].as_(\"repo_id\"),\n",
    "                                                    \"year\",\n",
    "                                                     \"repo_name\",\n",
    "                                                     \"sum_of_stars\",\n",
    "                                                     \"first_seen\")\n",
    "top_repos_1.columns"
   ]
  },
  {
   "cell_type": "code",
   "execution_count": 69,
   "id": "4eaa5acd",
   "metadata": {},
   "outputs": [
    {
     "data": {
      "text/plain": [
       "44712281"
      ]
     },
     "execution_count": 69,
     "metadata": {},
     "output_type": "execute_result"
    }
   ],
   "source": [
    "top_repos_1.count()"
   ]
  },
  {
   "cell_type": "markdown",
   "id": "2363ef6a",
   "metadata": {},
   "source": [
    "Can we look at the SQL query that runs under the hood for this `left join`?"
   ]
  },
  {
   "cell_type": "code",
   "execution_count": null,
   "id": "5084a396",
   "metadata": {},
   "outputs": [],
   "source": [
    "\"\"\"\n",
    "SELECT count(1) AS \"COUNT(LITERAL())\" \n",
    "FROM ( SELECT \"l_3qvm_REPO_ID\" AS \"REPO_ID\", \n",
    "                \"YEAR\", \n",
    "                \"REPO_NAME\", \n",
    "                \"SUM_OF_STARS\", \n",
    "                \"FIRST_SEEN\" \n",
    "        FROM ( SELECT  *  \n",
    "                FROM (\n",
    "                        ( SELECT \"REPO_ID\" AS \"l_3qvm_REPO_ID\", \n",
    "                                    \"YEAR\" AS \"YEAR\", \n",
    "                                    \"SUM_OF_STARS\" AS \"SUM_OF_STARS\" \n",
    "                           FROM VINO_DB.VINO_SCHEMA.total_stars_by_repo_year\n",
    "                        ) AS SNOWPARK_LEFT \n",
    "                        \n",
    "                        LEFT OUTER JOIN \n",
    "                        \n",
    "                        ( SELECT \"REPO_ID\" AS \"r_zw73_REPO_ID\", \n",
    "                                    \"REPO_NAME\" AS \"REPO_NAME\", \n",
    "                                    \"FIRST_SEEN\" AS \"FIRST_SEEN\" \n",
    "                          FROM VINO_DB.VINO_SCHEMA.repos_deduped\n",
    "                         ) AS SNOWPARK_RIGHT \n",
    "                         \n",
    "                         ON \n",
    "                         \n",
    "                         (\"l_3qvm_REPO_ID\" = \"r_zw73_REPO_ID\")\n",
    "                     )\n",
    "            )\n",
    "    ) \n",
    "LIMIT 1\n",
    " \n",
    "\"\"\""
   ]
  },
  {
   "cell_type": "code",
   "execution_count": null,
   "id": "54c4b0df",
   "metadata": {},
   "outputs": [],
   "source": [
    "# TODO: Which join operation is efficient? How can we verify it?"
   ]
  },
  {
   "cell_type": "markdown",
   "id": "dbd6ff23",
   "metadata": {},
   "source": [
    "### Top 50 repos: "
   ]
  },
  {
   "cell_type": "code",
   "execution_count": 72,
   "id": "e4c54fca",
   "metadata": {},
   "outputs": [
    {
     "name": "stdout",
     "output_type": "stream",
     "text": [
      "-----------------------------------------------------------------------------------------------\n",
      "|\"REPO_ID\"  |\"YEAR\"  |\"REPO_NAME\"                             |\"SUM_OF_STARS\"  |\"FIRST_SEEN\"  |\n",
      "-----------------------------------------------------------------------------------------------\n",
      "|177736533  |2019    |997icu/996.ICU                          |345750          |2019-03-28    |\n",
      "|28457823   |2016    |freeCodeCamp/                           |182175          |2018-06-01    |\n",
      "|614765452  |2023    |Significant-Gravitas/Auto-GPT           |139979          |2023-04-15    |\n",
      "|28457823   |2017    |freeCodeCamp/                           |96359           |2018-06-01    |\n",
      "|211104957  |2022    |aplus-framework/app                     |92884           |2021-07-22    |\n",
      "|241576270  |2020    |labuladong/fucking-algorithm            |81986           |2020-02-19    |\n",
      "|34526884   |2021    |ant-design/                             |79855           |2018-05-02    |\n",
      "|123458551  |2019    |jackfrued/Python-100-Days               |76845           |2018-03-01    |\n",
      "|604826790  |2023    |base-org/chains                         |76626           |2023-02-23    |\n",
      "|574523116  |2023    |f/awesome-chatgpt-prompts               |72424           |2022-12-05    |\n",
      "|157063121  |2019    |M4cs/BabySploit                         |71013           |2018-11-11    |\n",
      "|54346799   |2021    |public-apis/public-apis                 |69692           |2019-06-04    |\n",
      "|527591471  |2023    |AUTOMATIC1111/stable-diffusion-webui    |69028           |2022-08-22    |\n",
      "|596115135  |2023    |base-org/node                           |66117           |2023-02-23    |\n",
      "|60493101   |2020    |jwasham/coding-interview-university     |63227           |2017-02-27    |\n",
      "|619859161  |2023    |twitter/the-algorithm                   |58771           |2023-03-31    |\n",
      "|100060912  |2019    |microsoft/terminal                      |57427           |2019-05-14    |\n",
      "|21737465   |2022    |sindresorhus/awesome                    |56422           |2015-01-01    |\n",
      "|60493101   |2021    |jwasham/coding-interview-university     |56143           |2017-02-27    |\n",
      "|132750724  |2022    |codecrafters-io/build-your-own-x        |56035           |2022-05-05    |\n",
      "|552661142  |2023    |langchain-ai/langchain                  |55116           |2023-07-23    |\n",
      "|85077558   |2020    |kamranahmedse/developer-roadmap         |54311           |2017-03-15    |\n",
      "|210919403  |2022    |aplus-framework/database                |53979           |2021-07-14    |\n",
      "|28457823   |2015    |freeCodeCamp/                           |53802           |2018-06-01    |\n",
      "|132464395  |2019    |Snailclimb/JavaGuide                    |53444           |2018-09-06    |\n",
      "|54346799   |2022    |public-apis/public-apis                 |52931           |2019-06-04    |\n",
      "|83222441   |2022    |donnemartin/                            |52397           |2018-07-17    |\n",
      "|11730342   |2018    |vuejs/vue                               |51515           |2015-10-18    |\n",
      "|13491895   |2021    |EbookFoundation/free-programming-books  |50709           |2017-06-01    |\n",
      "|45717250   |2017    |tensorflow/                             |49278           |2018-05-04    |\n",
      "|243950408  |2022    |Anduin2017/HowToCook                    |49102           |2020-02-29    |\n",
      "|63476337   |2019    |TheAlgorithms/Python-                   |48859           |2016-07-16    |\n",
      "|11730342   |2017    |vuejs/vue                               |48185           |2015-10-18    |\n",
      "|619959033  |2023    |nomic-ai/gpt4all                        |47494           |2023-03-28    |\n",
      "|121395510  |2019    |CyC2018/CyC-Notes                       |46635           |2019-02-28    |\n",
      "|85077558   |2021    |kamranahmedse/developer-roadmap         |45221           |2017-03-15    |\n",
      "|121395510  |2018    |CyC2018/CyC-Notes                       |45116           |2019-02-28    |\n",
      "|13491895   |2022    |EbookFoundation/free-programming-books  |44785           |2017-06-01    |\n",
      "|85077558   |2022    |kamranahmedse/developer-roadmap         |44484           |2017-03-15    |\n",
      "|60493101   |2022    |jwasham/coding-interview-university     |44178           |2017-02-27    |\n",
      "|21289110   |2022    |vinta/awesome-python                    |43713           |2015-01-01    |\n",
      "|620936652  |2023    |xtekky/gpt4free                         |43205           |2023-04-18    |\n",
      "|36633370   |2022    |awesome-selfhosted/awesome-selfhosted   |42363           |2019-10-21    |\n",
      "|83222441   |2021    |donnemartin/                            |41887           |2018-07-17    |\n",
      "|126577260  |2021    |trekhleb/javascript-algorithms          |41729           |2018-03-27    |\n",
      "|160640094  |2019    |MisterBooo/LeetCodeAnimation            |41526           |2018-12-06    |\n",
      "|577116112  |2023    |PlexPt/awesome-chatgpt-prompts-zh       |41086           |2022-12-12    |\n",
      "|468576060  |2023    |openai/openai-cookbook                  |41007           |2022-06-03    |\n",
      "|54346799   |2020    |public-apis/public-apis                 |40672           |2019-06-04    |\n",
      "|83222441   |2020    |donnemartin/                            |40408           |2018-07-17    |\n",
      "-----------------------------------------------------------------------------------------------\n",
      "\n"
     ]
    }
   ],
   "source": [
    "top_repos.sort(col(\"sum_of_stars\").desc()).limit(50).show(50)"
   ]
  },
  {
   "cell_type": "code",
   "execution_count": 73,
   "id": "c07fcb44",
   "metadata": {},
   "outputs": [
    {
     "name": "stdout",
     "output_type": "stream",
     "text": [
      "--------------------------------------------------------------------------------------------------------\n",
      "|\"REPO_ID\"  |\"YEAR\"  |\"REPO_NAME\"                                      |\"SUM_OF_STARS\"  |\"FIRST_SEEN\"  |\n",
      "--------------------------------------------------------------------------------------------------------\n",
      "|490627258  |2022    |Stella2Aurora/Raycity                            |4               |2023-08-21    |\n",
      "|570370576  |2022    |ssbanjo/Keyword-pinger                           |2               |2023-08-21    |\n",
      "|681301245  |2023    |Ratulbaba7/Halfrost-Field                        |1               |2023-08-21    |\n",
      "|681349607  |2023    |beratflixc/Voicemod-Free-Download-2023           |38              |2023-08-21    |\n",
      "|678810547  |2023    |HaryKali/null-js                                 |1               |2023-08-21    |\n",
      "|680996550  |2023    |seanwallawalla/AI2001_API                        |1               |2023-08-21    |\n",
      "|555892056  |2022    |Octoping925/MobileEntropyHelper-ChromeExtension  |2               |2023-08-21    |\n",
      "|681278805  |2023    |neau486/f2f                                      |2               |2023-08-21    |\n",
      "|570370576  |2023    |ssbanjo/Keyword-pinger                           |6               |2023-08-21    |\n",
      "|190150703  |2019    |fuzengyao/webim                                  |1               |2023-08-21    |\n",
      "|681080425  |2023    |ClarkKeyton/SuperDragonBallHeroesLauncher        |1               |2023-08-21    |\n",
      "|490627258  |2023    |Stella2Aurora/Raycity                            |4               |2023-08-21    |\n",
      "|681311892  |2023    |agalloa/CalendarAppBack                          |1               |2023-08-21    |\n",
      "|190150703  |2023    |fuzengyao/webim                                  |1               |2023-08-21    |\n",
      "|681219733  |2023    |G-u-i-l-h-e-r-m-e/WebStandards                   |1               |2023-08-21    |\n",
      "|680964130  |2023    |PawelBudnik002/Truck-Image-Search                |1               |2023-08-21    |\n",
      "|681142690  |2023    |snetyx/gta-5-mod-menu-26937                      |33              |2023-08-21    |\n",
      "|679859447  |2023    |Ideduque/dio-curso-git-github                    |1               |2023-08-21    |\n",
      "|555892056  |2023    |Octoping925/MobileEntropyHelper-ChromeExtension  |1               |2023-08-21    |\n",
      "|681061575  |2023    |liuhenghu/navicat-keygen                         |1               |2023-08-21    |\n",
      "--------------------------------------------------------------------------------------------------------\n",
      "\n"
     ]
    }
   ],
   "source": [
    "top_repos.sort(col(\"first_seen\").desc()).limit(20).show(20)"
   ]
  },
  {
   "cell_type": "markdown",
   "id": "94cbd914",
   "metadata": {},
   "source": [
    "### Top 50 repos in 2023 only"
   ]
  },
  {
   "cell_type": "code",
   "execution_count": 74,
   "id": "16422268",
   "metadata": {},
   "outputs": [
    {
     "data": {
      "text/plain": [
       "8202855"
      ]
     },
     "execution_count": 74,
     "metadata": {},
     "output_type": "execute_result"
    }
   ],
   "source": [
    "# aggregate stars count by repo_id, and year=2023\n",
    "top_repos_2023 = top_repos.filter(col(\"year\")==2023)\n",
    "top_repos_2023.count()"
   ]
  },
  {
   "cell_type": "code",
   "execution_count": 75,
   "id": "2eeb1acc",
   "metadata": {},
   "outputs": [
    {
     "name": "stdout",
     "output_type": "stream",
     "text": [
      "---------------------------------------------------------------------------------------------------\n",
      "|\"REPO_ID\"  |\"YEAR\"  |\"REPO_NAME\"                                 |\"SUM_OF_STARS\"  |\"FIRST_SEEN\"  |\n",
      "---------------------------------------------------------------------------------------------------\n",
      "|614765452  |2023    |Significant-Gravitas/Auto-GPT               |139979          |2023-04-15    |\n",
      "|604826790  |2023    |base-org/chains                             |76626           |2023-02-23    |\n",
      "|574523116  |2023    |f/awesome-chatgpt-prompts                   |72424           |2022-12-05    |\n",
      "|527591471  |2023    |AUTOMATIC1111/stable-diffusion-webui        |69028           |2022-08-22    |\n",
      "|596115135  |2023    |base-org/node                               |66117           |2023-02-23    |\n",
      "|619859161  |2023    |twitter/the-algorithm                       |58771           |2023-03-31    |\n",
      "|552661142  |2023    |langchain-ai/langchain                      |55116           |2023-07-23    |\n",
      "|619959033  |2023    |nomic-ai/gpt4all                            |47494           |2023-03-28    |\n",
      "|620936652  |2023    |xtekky/gpt4free                             |43205           |2023-04-18    |\n",
      "|577116112  |2023    |PlexPt/awesome-chatgpt-prompts-zh           |41086           |2022-12-12    |\n",
      "|468576060  |2023    |openai/openai-cookbook                      |41007           |2022-06-03    |\n",
      "|634224458  |2023    |AntonOsika/gpt-engineer                     |40189           |2023-06-06    |\n",
      "|612344730  |2023    |Yidadaa/ChatGPT-Next-Web                    |39596           |2023-03-22    |\n",
      "|13491895   |2023    |EbookFoundation/free-programming-books      |37726           |2017-06-01    |\n",
      "|21737465   |2023    |sindresorhus/awesome                        |37624           |2015-01-01    |\n",
      "|616372661  |2023    |binary-husky/gpt_academic                   |37552           |2023-04-25    |\n",
      "|575340621  |2023    |lencx/ChatGPT                               |37349           |2022-12-07    |\n",
      "|601538369  |2023    |facebookresearch/llama                      |37304           |2023-02-24    |\n",
      "|612354784  |2023    |ggerganov/llama.cpp                         |36819           |2023-03-10    |\n",
      "|618058471  |2023    |facebookresearch/segment-anything           |35786           |2023-04-05    |\n",
      "|635240594  |2023    |imartinez/privateGPT                        |33834           |2023-05-02    |\n",
      "|132750724  |2023    |codecrafters-io/build-your-own-x            |33049           |2022-05-05    |\n",
      "|155220641  |2023    |huggingface/transformers                    |32992           |2019-09-26    |\n",
      "|608555244  |2023    |microsoft/TaskMatrix                        |32509           |2023-04-19    |\n",
      "|579082810  |2023    |dair-ai/Prompt-Engineering-Guide            |32399           |2022-12-17    |\n",
      "|54346799   |2023    |public-apis/public-apis                     |31960           |2019-06-04    |\n",
      "|613349035  |2023    |THUDM/ChatGLM-6B                            |31884           |2023-03-14    |\n",
      "|36633370   |2023    |awesome-selfhosted/awesome-selfhosted       |31646           |2019-10-21    |\n",
      "|577603990  |2023    |LAION-AI/Open-Assistant                     |31644           |2022-12-17    |\n",
      "|642323624  |2023    |XingangPan/DragGAN                          |31178           |2023-05-18    |\n",
      "|88011908   |2023    |practical-tutorials/project-based-learning  |29628           |2021-08-23    |\n",
      "|21289110   |2023    |vinta/awesome-python                        |28226           |2015-01-01    |\n",
      "|585146387  |2023    |shadcn-ui/ui                                |27379           |2023-07-18    |\n",
      "|608794991  |2023    |metatimeofficial/chainlist                  |27232           |2023-05-24    |\n",
      "|331107018  |2023    |FuelLabs/sway                               |26630           |2022-01-03    |\n",
      "|85077558   |2023    |kamranahmedse/developer-roadmap             |26241           |2017-03-15    |\n",
      "|599394820  |2023    |Chanzhaoyu/chatgpt-web                      |25653           |2023-02-09    |\n",
      "|615882673  |2023    |lm-sys/FastChat                             |25171           |2023-03-30    |\n",
      "|612427246  |2023    |tatsu-lab/stanford_alpaca                   |24725           |2023-03-13    |\n",
      "|624994625  |2023    |suno-ai/bark                                |24333           |2023-04-07    |\n",
      "|624681066  |2023    |reworkd/AgentGPT                            |24125           |2023-04-09    |\n",
      "|422274596  |2023    |hpcaitech/ColossalAI                        |23904           |2021-10-30    |\n",
      "|60493101   |2023    |jwasham/coding-interview-university         |23809           |2017-02-27    |\n",
      "|537603333  |2023    |openai/whisper                              |22573           |2022-09-16    |\n",
      "|582822129  |2023    |karpathy/nanoGPT                            |22321           |2022-12-29    |\n",
      "|595893961  |2023    |lllyasviel/ControlNet                       |21926           |2023-02-10    |\n",
      "|83222441   |2023    |donnemartin/                                |21867           |2018-07-17    |\n",
      "|212639071  |2023    |bregman-arie/devops-exercises               |21506           |2020-01-12    |\n",
      "|660551251  |2023    |geekan/MetaGPT                              |21428           |2023-06-30    |\n",
      "|590669331  |2023    |google-research/tuning_playbook             |21405           |2023-01-19    |\n",
      "---------------------------------------------------------------------------------------------------\n",
      "\n"
     ]
    }
   ],
   "source": [
    "top_repos_2023.sort(col(\"sum_of_stars\").desc()).limit(50).show(50)"
   ]
  },
  {
   "cell_type": "code",
   "execution_count": 76,
   "id": "10f0d9e6",
   "metadata": {
    "scrolled": true
   },
   "outputs": [
    {
     "name": "stdout",
     "output_type": "stream",
     "text": [
      "-----------------------------------------------------------------------------------------------------------\n",
      "|\"REPO_ID\"  |\"YEAR\"  |\"REPO_NAME\"                                         |\"SUM_OF_STARS\"  |\"FIRST_SEEN\"  |\n",
      "-----------------------------------------------------------------------------------------------------------\n",
      "|681242538  |2023    |romoguilhem/los-pimientos                           |1               |2023-08-21    |\n",
      "|680969651  |2023    |smartdev6/marketplace                               |1               |2023-08-21    |\n",
      "|681297664  |2023    |neoimpulse/Match3Game                               |1               |2023-08-21    |\n",
      "|5504383    |2023    |mostlyserious/kadyns                                |1               |2023-08-21    |\n",
      "|600460842  |2023    |Esildo/State_Machine_Project                        |1               |2023-08-21    |\n",
      "|681267131  |2023    |shital0101/Searching                                |2               |2023-08-21    |\n",
      "|680965354  |2023    |codingcore12/SILENT-PDF-EXPLOIT-CLEANpm             |1               |2023-08-21    |\n",
      "|681349531  |2023    |beratflixc/Adobe-Photoshop-Free-Download-2023-3456  |49              |2023-08-21    |\n",
      "|547552827  |2023    |DragonFighter603/Files                              |1               |2023-08-21    |\n",
      "|681110008  |2023    |AneeshRT/build-your-own-x                           |1               |2023-08-21    |\n",
      "|681269863  |2023    |sawmyz/weblog-django                                |1               |2023-08-21    |\n",
      "|681310752  |2023    |kierandotpizza/hackstack                            |1               |2023-08-21    |\n",
      "|681360246  |2023    |cassidoo/generate-stripe-coupons                    |3               |2023-08-21    |\n",
      "|681129129  |2023    |ThomasCain7i/5Stages                                |1               |2023-08-21    |\n",
      "|681095222  |2023    |chriswatia/employee-management-system               |1               |2023-08-21    |\n",
      "|680979866  |2023    |TopWidgets/SwingAnimation                           |250             |2023-08-21    |\n",
      "|287725319  |2023    |yangmingxian/yangmingxian_legacy.github.io          |2               |2023-08-21    |\n",
      "|552438054  |2023    |nnamanx/jane-portfolio                              |2               |2023-08-21    |\n",
      "|681176643  |2023    |myselfakashagarwal/Shell-Scripting                  |1               |2023-08-21    |\n",
      "|681320095  |2023    |renhongli123/Actions-OpenWrt                        |1               |2023-08-21    |\n",
      "-----------------------------------------------------------------------------------------------------------\n",
      "\n"
     ]
    }
   ],
   "source": [
    "top_repos_2023.sort(col(\"first_seen\").desc()).limit(20).show(20)"
   ]
  },
  {
   "cell_type": "code",
   "execution_count": 88,
   "id": "77b82dcc",
   "metadata": {},
   "outputs": [],
   "source": [
    "#END"
   ]
  },
  {
   "cell_type": "code",
   "execution_count": null,
   "id": "b796b26e",
   "metadata": {},
   "outputs": [],
   "source": []
  }
 ],
 "metadata": {
  "kernelspec": {
   "display_name": "Python 3 (ipykernel)",
   "language": "python",
   "name": "python3"
  },
  "language_info": {
   "codemirror_mode": {
    "name": "ipython",
    "version": 3
   },
   "file_extension": ".py",
   "mimetype": "text/x-python",
   "name": "python",
   "nbconvert_exporter": "python",
   "pygments_lexer": "ipython3",
   "version": "3.9.17"
  }
 },
 "nbformat": 4,
 "nbformat_minor": 5
}
