{
 "cells": [
  {
   "cell_type": "code",
   "execution_count": 7,
   "id": "fc20e994",
   "metadata": {},
   "outputs": [],
   "source": [
    "# Snowpark for Python\n",
    "from snowflake.snowpark.session import Session\n",
    "from snowflake.snowpark.functions import month,year,col,sum,row_number\n",
    "from snowflake.snowpark.version import VERSION\n",
    "from snowflake.snowpark import Window\n",
    "\n",
    "# Misc\n",
    "import json\n",
    "import logging \n",
    "logger = logging.getLogger(\"snowflake.snowpark.session\")\n",
    "logger.setLevel(logging.ERROR)"
   ]
  },
  {
   "cell_type": "code",
   "execution_count": 8,
   "id": "c6d2066a",
   "metadata": {},
   "outputs": [
    {
     "name": "stdout",
     "output_type": "stream",
     "text": [
      "User                        : VINOD\n",
      "Role                        : \"ACCOUNTADMIN\"\n",
      "Database                    : \"GITHUB_ARCHIVE_EVENTS\"\n",
      "Schema                      : \"CYBERSYN\"\n",
      "Warehouse                   : \"VINO_L\"\n",
      "Snowflake version           : 7.28.0\n",
      "Snowpark for Python version : 1.5.1\n"
     ]
    }
   ],
   "source": [
    "# Create Snowflake Session object\n",
    "connection_parameters = json.load(open('connection.json'))\n",
    "session = Session.builder.configs(connection_parameters).create()\n",
    "session.sql_simplifier_enabled = True\n",
    "\n",
    "snowflake_environment = session.sql('select current_user(), current_version()').collect()\n",
    "snowpark_version = VERSION\n",
    "\n",
    "# Current Environment Details\n",
    "print('User                        : {}'.format(snowflake_environment[0][0]))\n",
    "print('Role                        : {}'.format(session.get_current_role()))\n",
    "print('Database                    : {}'.format(session.get_current_database()))\n",
    "print('Schema                      : {}'.format(session.get_current_schema()))\n",
    "print('Warehouse                   : {}'.format(session.get_current_warehouse()))\n",
    "print('Snowflake version           : {}'.format(snowflake_environment[0][1]))\n",
    "print('Snowpark for Python version : {}.{}.{}'.format(snowpark_version[0],snowpark_version[1],snowpark_version[2]))"
   ]
  },
  {
   "cell_type": "code",
   "execution_count": 9,
   "id": "aa2c796c",
   "metadata": {},
   "outputs": [],
   "source": [
    "# create dataframe objects from snowflake tables\n",
    "events_df = session.table(\"github_archive_events.cybersyn.gh_events\")\n",
    "repos_df = session.table(\"github_archive_events.cybersyn.gh_repos\")\n",
    "stars_df = session.table(\"github_archive_events.cybersyn.gh_stars\")"
   ]
  },
  {
   "cell_type": "code",
   "execution_count": 10,
   "id": "a370fe20",
   "metadata": {},
   "outputs": [
    {
     "name": "stdout",
     "output_type": "stream",
     "text": [
      "events: 6347782847. That is, 6347M records\n",
      "repos: 352889466. That is, 352M records\n",
      "stars: 190902947. That is, 190M records\n"
     ]
    }
   ],
   "source": [
    "print(f\"events: {events_df.count()}. That is, {events_df.count()//(10**6)}M records\")\n",
    "print(f\"repos: {repos_df.count()}. That is, {repos_df.count()//(10**6)}M records\")\n",
    "print(f\"stars: {stars_df.count()}. That is, {stars_df.count()//(10**6)}M records\")"
   ]
  },
  {
   "cell_type": "code",
   "execution_count": 11,
   "id": "8b2387af",
   "metadata": {},
   "outputs": [
    {
     "data": {
      "text/plain": [
       "StructType([StructField('ID', StringType(16777216), nullable=True), StructField('CREATED_AT', StringType(16777216), nullable=True), StructField('ACTOR_AVATAR_URL', StringType(16777216), nullable=True), StructField('ACTOR_DISPLAY_LOGIN', StringType(16777216), nullable=True), StructField('ACTOR_GRAVATAR_ID', StringType(16777216), nullable=True), StructField('ACTOR_ID', LongType(), nullable=True), StructField('ACTOR_LOGIN', StringType(16777216), nullable=True), StructField('ACTOR_URL', StringType(16777216), nullable=True), StructField('ORG_AVATAR_URL', StringType(16777216), nullable=True), StructField('ORG_GRAVATAR_ID', StringType(16777216), nullable=True), StructField('ORG_ID', LongType(), nullable=True), StructField('ORG_LOGIN', StringType(16777216), nullable=True), StructField('ORG_URL', StringType(16777216), nullable=True), StructField('PAYLOAD', VariantType(), nullable=True), StructField('PAYLOAD_ACTION', StringType(16777216), nullable=True), StructField('PAYLOAD_DESCRIPTION', StringType(16777216), nullable=True), StructField('PAYLOAD_COMMENT', StringType(16777216), nullable=True), StructField('PAYLOAD_MASTER_BRANCH', StringType(16777216), nullable=True), StructField('PAYLOAD_PULL_REQUEST', StringType(16777216), nullable=True), StructField('PAYLOAD_PUSHER_TYPE', StringType(16777216), nullable=True), StructField('PAYLOAD_PUSH_ID', LongType(), nullable=True), StructField('PAYLOAD_HEAD', StringType(16777216), nullable=True), StructField('PAYLOAD_REF', StringType(16777216), nullable=True), StructField('PAYLOAD_REF_TYPE', StringType(16777216), nullable=True), StructField('PAYLOAD_ISSUE_ID', LongType(), nullable=True), StructField('PAYLOAD_ISSUE', VariantType(), nullable=True), StructField('PAYLOAD_BODY', StringType(16777216), nullable=True), StructField('PAYLOAD_COMMIT_ID', StringType(16777216), nullable=True), StructField('PAYLOAD_CREATED_AT', StringType(16777216), nullable=True), StructField('PAYLOAD_USER_ID', LongType(), nullable=True), StructField('PAYLOAD_USER_LOGIN', StringType(16777216), nullable=True), StructField('ISSUE', VariantType(), nullable=True), StructField('ISSUE_ACTIVE_LOCK_REASON', StringType(16777216), nullable=True), StructField('ISSUE_ASSIGNEE', StringType(16777216), nullable=True), StructField('ISSUE_ASSIGNEES', VariantType(), nullable=True), StructField('ISSUE_AUTHOR_ASSOCIATION', StringType(16777216), nullable=True), StructField('ISSUE_BODY', StringType(16777216), nullable=True), StructField('ISSUE_CLOSED_AT', StringType(16777216), nullable=True), StructField('ISSUE_COMMENTS', LongType(), nullable=True), StructField('ISSUE_COMMENTS_URL', StringType(16777216), nullable=True), StructField('ISSUE_CREATED_AT', StringType(16777216), nullable=True), StructField('ISSUE_DRAFT', BooleanType(), nullable=True), StructField('ISSUE_EVENTS_URL', StringType(16777216), nullable=True), StructField('ISSUE_HTML_URL', StringType(16777216), nullable=True), StructField('ISSUE_ID', LongType(), nullable=True), StructField('ISSUE_LABELS', VariantType(), nullable=True), StructField('ISSUE_LABELS_URL', StringType(16777216), nullable=True), StructField('ISSUE_LOCKED', BooleanType(), nullable=True), StructField('ISSUE_MILESTONE', StringType(16777216), nullable=True), StructField('ISSUE_NODE_ID', StringType(16777216), nullable=True), StructField('ISSUE_NUMBER', LongType(), nullable=True), StructField('ISSUE_PERFORMED_VIA_GITHUB_APP', StringType(16777216), nullable=True), StructField('ISSUE_PULL_REQUEST', VariantType(), nullable=True), StructField('ISSUE_REACTIONS', VariantType(), nullable=True), StructField('ISSUE_REPOSITORY_URL', StringType(16777216), nullable=True), StructField('ISSUE_STATE', StringType(16777216), nullable=True), StructField('ISSUE_TIMELINE_URL', StringType(16777216), nullable=True), StructField('ISSUE_TITLE', StringType(16777216), nullable=True), StructField('ISSUE_UPDATED_AT', StringType(16777216), nullable=True), StructField('ISSUE_URL', StringType(16777216), nullable=True), StructField('ISSUE_USER_ID', LongType(), nullable=True), StructField('ISSUE_USER_LOGIN', StringType(16777216), nullable=True), StructField('ISSUE_USER_TYPE', StringType(16777216), nullable=True), StructField('PUBLIC', BooleanType(), nullable=True), StructField('REPO_ID', LongType(), nullable=True), StructField('REPO_NAME', StringType(16777216), nullable=True), StructField('REPO_URL', StringType(16777216), nullable=True), StructField('TYPE', StringType(16777216), nullable=True), StructField('LOAD_DATE', StringType(10), nullable=True), StructField('CREATED_AT_TIMESTAMP', TimestampType(), nullable=True)])"
      ]
     },
     "execution_count": 11,
     "metadata": {},
     "output_type": "execute_result"
    }
   ],
   "source": [
    "# print schema od events_df\n",
    "events_df.schema"
   ]
  },
  {
   "cell_type": "code",
   "execution_count": 12,
   "id": "534d1a55",
   "metadata": {},
   "outputs": [
    {
     "name": "stdout",
     "output_type": "stream",
     "text": [
      "StructField('ID', StringType(16777216), nullable=True)\n",
      "StructField('CREATED_AT', StringType(16777216), nullable=True)\n",
      "StructField('ACTOR_AVATAR_URL', StringType(16777216), nullable=True)\n",
      "StructField('ACTOR_DISPLAY_LOGIN', StringType(16777216), nullable=True)\n",
      "StructField('ACTOR_GRAVATAR_ID', StringType(16777216), nullable=True)\n",
      "StructField('ACTOR_ID', LongType(), nullable=True)\n",
      "StructField('ACTOR_LOGIN', StringType(16777216), nullable=True)\n",
      "StructField('ACTOR_URL', StringType(16777216), nullable=True)\n",
      "StructField('ORG_AVATAR_URL', StringType(16777216), nullable=True)\n",
      "StructField('ORG_GRAVATAR_ID', StringType(16777216), nullable=True)\n",
      "StructField('ORG_ID', LongType(), nullable=True)\n",
      "StructField('ORG_LOGIN', StringType(16777216), nullable=True)\n",
      "StructField('ORG_URL', StringType(16777216), nullable=True)\n",
      "StructField('PAYLOAD', VariantType(), nullable=True)\n",
      "StructField('PAYLOAD_ACTION', StringType(16777216), nullable=True)\n",
      "StructField('PAYLOAD_DESCRIPTION', StringType(16777216), nullable=True)\n",
      "StructField('PAYLOAD_COMMENT', StringType(16777216), nullable=True)\n",
      "StructField('PAYLOAD_MASTER_BRANCH', StringType(16777216), nullable=True)\n",
      "StructField('PAYLOAD_PULL_REQUEST', StringType(16777216), nullable=True)\n",
      "StructField('PAYLOAD_PUSHER_TYPE', StringType(16777216), nullable=True)\n",
      "StructField('PAYLOAD_PUSH_ID', LongType(), nullable=True)\n",
      "StructField('PAYLOAD_HEAD', StringType(16777216), nullable=True)\n",
      "StructField('PAYLOAD_REF', StringType(16777216), nullable=True)\n",
      "StructField('PAYLOAD_REF_TYPE', StringType(16777216), nullable=True)\n",
      "StructField('PAYLOAD_ISSUE_ID', LongType(), nullable=True)\n",
      "StructField('PAYLOAD_ISSUE', VariantType(), nullable=True)\n",
      "StructField('PAYLOAD_BODY', StringType(16777216), nullable=True)\n",
      "StructField('PAYLOAD_COMMIT_ID', StringType(16777216), nullable=True)\n",
      "StructField('PAYLOAD_CREATED_AT', StringType(16777216), nullable=True)\n",
      "StructField('PAYLOAD_USER_ID', LongType(), nullable=True)\n",
      "StructField('PAYLOAD_USER_LOGIN', StringType(16777216), nullable=True)\n",
      "StructField('ISSUE', VariantType(), nullable=True)\n",
      "StructField('ISSUE_ACTIVE_LOCK_REASON', StringType(16777216), nullable=True)\n",
      "StructField('ISSUE_ASSIGNEE', StringType(16777216), nullable=True)\n",
      "StructField('ISSUE_ASSIGNEES', VariantType(), nullable=True)\n",
      "StructField('ISSUE_AUTHOR_ASSOCIATION', StringType(16777216), nullable=True)\n",
      "StructField('ISSUE_BODY', StringType(16777216), nullable=True)\n",
      "StructField('ISSUE_CLOSED_AT', StringType(16777216), nullable=True)\n",
      "StructField('ISSUE_COMMENTS', LongType(), nullable=True)\n",
      "StructField('ISSUE_COMMENTS_URL', StringType(16777216), nullable=True)\n",
      "StructField('ISSUE_CREATED_AT', StringType(16777216), nullable=True)\n",
      "StructField('ISSUE_DRAFT', BooleanType(), nullable=True)\n",
      "StructField('ISSUE_EVENTS_URL', StringType(16777216), nullable=True)\n",
      "StructField('ISSUE_HTML_URL', StringType(16777216), nullable=True)\n",
      "StructField('ISSUE_ID', LongType(), nullable=True)\n",
      "StructField('ISSUE_LABELS', VariantType(), nullable=True)\n",
      "StructField('ISSUE_LABELS_URL', StringType(16777216), nullable=True)\n",
      "StructField('ISSUE_LOCKED', BooleanType(), nullable=True)\n",
      "StructField('ISSUE_MILESTONE', StringType(16777216), nullable=True)\n",
      "StructField('ISSUE_NODE_ID', StringType(16777216), nullable=True)\n",
      "StructField('ISSUE_NUMBER', LongType(), nullable=True)\n",
      "StructField('ISSUE_PERFORMED_VIA_GITHUB_APP', StringType(16777216), nullable=True)\n",
      "StructField('ISSUE_PULL_REQUEST', VariantType(), nullable=True)\n",
      "StructField('ISSUE_REACTIONS', VariantType(), nullable=True)\n",
      "StructField('ISSUE_REPOSITORY_URL', StringType(16777216), nullable=True)\n",
      "StructField('ISSUE_STATE', StringType(16777216), nullable=True)\n",
      "StructField('ISSUE_TIMELINE_URL', StringType(16777216), nullable=True)\n",
      "StructField('ISSUE_TITLE', StringType(16777216), nullable=True)\n",
      "StructField('ISSUE_UPDATED_AT', StringType(16777216), nullable=True)\n",
      "StructField('ISSUE_URL', StringType(16777216), nullable=True)\n",
      "StructField('ISSUE_USER_ID', LongType(), nullable=True)\n",
      "StructField('ISSUE_USER_LOGIN', StringType(16777216), nullable=True)\n",
      "StructField('ISSUE_USER_TYPE', StringType(16777216), nullable=True)\n",
      "StructField('PUBLIC', BooleanType(), nullable=True)\n",
      "StructField('REPO_ID', LongType(), nullable=True)\n",
      "StructField('REPO_NAME', StringType(16777216), nullable=True)\n",
      "StructField('REPO_URL', StringType(16777216), nullable=True)\n",
      "StructField('TYPE', StringType(16777216), nullable=True)\n",
      "StructField('LOAD_DATE', StringType(10), nullable=True)\n",
      "StructField('CREATED_AT_TIMESTAMP', TimestampType(), nullable=True)\n"
     ]
    }
   ],
   "source": [
    "# print schema in a readable format\n",
    "for s in events_df.schema:\n",
    "    print(s)"
   ]
  },
  {
   "cell_type": "code",
   "execution_count": 14,
   "id": "56f5f414",
   "metadata": {},
   "outputs": [
    {
     "data": {
      "text/plain": [
       "StructType([StructField('REPO_ID', LongType(), nullable=True), StructField('REPO_NAME', StringType(16777216), nullable=True), StructField('FIRST_SEEN', DateType(), nullable=True)])"
      ]
     },
     "execution_count": 14,
     "metadata": {},
     "output_type": "execute_result"
    }
   ],
   "source": [
    "repos_df.schema"
   ]
  },
  {
   "cell_type": "code",
   "execution_count": 15,
   "id": "54462208",
   "metadata": {},
   "outputs": [
    {
     "data": {
      "text/plain": [
       "StructType([StructField('REPO_ID', LongType(), nullable=True), StructField('DATE', DateType(), nullable=True), StructField('COUNT', LongType(), nullable=True)])"
      ]
     },
     "execution_count": 15,
     "metadata": {},
     "output_type": "execute_result"
    }
   ],
   "source": [
    "stars_df.schema"
   ]
  },
  {
   "cell_type": "code",
   "execution_count": 18,
   "id": "80f709f6",
   "metadata": {},
   "outputs": [
    {
     "data": {
      "text/plain": [
       "Row(ID='22532153225', CREATED_AT='2022-06-24T21:49:26Z', ACTOR_AVATAR_URL='https://avatars.githubusercontent.com/u/87029524?', ACTOR_DISPLAY_LOGIN='indivp21', ACTOR_GRAVATAR_ID='', ACTOR_ID=87029524, ACTOR_LOGIN='indivp21', ACTOR_URL='https://api.github.com/users/indivp21', ORG_AVATAR_URL=None, ORG_GRAVATAR_ID=None, ORG_ID=None, ORG_LOGIN=None, ORG_URL=None, PAYLOAD='{\\n  \"before\": \"5ef08eb0745d6478ae7f9314efaf5b339e8d44ef\",\\n  \"commits\": [\\n    {\\n      \"author\": {\\n        \"email\": \"87029524+indivp21@users.noreply.github.com\",\\n        \"name\": \"indivp21\"\\n      },\\n      \"distinct\": true,\\n      \"message\": \"20220624\",\\n      \"sha\": \"eb16fc7dac8e64c369921b7f12328b51fd1e9830\",\\n      \"url\": \"https://api.github.com/repos/indivp21/indivp_front/commits/eb16fc7dac8e64c369921b7f12328b51fd1e9830\"\\n    }\\n  ],\\n  \"distinct_size\": 1,\\n  \"head\": \"eb16fc7dac8e64c369921b7f12328b51fd1e9830\",\\n  \"push_id\": 10259675844,\\n  \"ref\": \"refs/heads/main\",\\n  \"size\": 1\\n}', PAYLOAD_ACTION=None, PAYLOAD_DESCRIPTION=None, PAYLOAD_COMMENT=None, PAYLOAD_MASTER_BRANCH=None, PAYLOAD_PULL_REQUEST=None, PAYLOAD_PUSHER_TYPE=None, PAYLOAD_PUSH_ID=10259675844, PAYLOAD_HEAD='eb16fc7dac8e64c369921b7f12328b51fd1e9830', PAYLOAD_REF='refs/heads/main', PAYLOAD_REF_TYPE=None, PAYLOAD_ISSUE_ID=None, PAYLOAD_ISSUE=None, PAYLOAD_BODY=None, PAYLOAD_COMMIT_ID=None, PAYLOAD_CREATED_AT=None, PAYLOAD_USER_ID=None, PAYLOAD_USER_LOGIN=None, ISSUE=None, ISSUE_ACTIVE_LOCK_REASON=None, ISSUE_ASSIGNEE=None, ISSUE_ASSIGNEES=None, ISSUE_AUTHOR_ASSOCIATION=None, ISSUE_BODY=None, ISSUE_CLOSED_AT=None, ISSUE_COMMENTS=None, ISSUE_COMMENTS_URL=None, ISSUE_CREATED_AT=None, ISSUE_DRAFT=None, ISSUE_EVENTS_URL=None, ISSUE_HTML_URL=None, ISSUE_ID=None, ISSUE_LABELS=None, ISSUE_LABELS_URL=None, ISSUE_LOCKED=None, ISSUE_MILESTONE=None, ISSUE_NODE_ID=None, ISSUE_NUMBER=None, ISSUE_PERFORMED_VIA_GITHUB_APP=None, ISSUE_PULL_REQUEST=None, ISSUE_REACTIONS=None, ISSUE_REPOSITORY_URL=None, ISSUE_STATE=None, ISSUE_TIMELINE_URL=None, ISSUE_TITLE=None, ISSUE_UPDATED_AT=None, ISSUE_URL=None, ISSUE_USER_ID=None, ISSUE_USER_LOGIN=None, ISSUE_USER_TYPE=None, PUBLIC=True, REPO_ID=388962054, REPO_NAME='indivp21/indivp_front', REPO_URL='https://api.github.com/repos/indivp21/indivp_front', TYPE='PushEvent', LOAD_DATE=None, CREATED_AT_TIMESTAMP=datetime.datetime(2022, 6, 24, 21, 49, 26, tzinfo=<UTC>))"
      ]
     },
     "execution_count": 18,
     "metadata": {},
     "output_type": "execute_result"
    }
   ],
   "source": [
    "event_sample = events_df.limit(1).take()\n",
    "event_sample"
   ]
  },
  {
   "cell_type": "code",
   "execution_count": 19,
   "id": "2e4b0341",
   "metadata": {},
   "outputs": [
    {
     "name": "stdout",
     "output_type": "stream",
     "text": [
      "-----------------------------------------------------------------\n",
      "|\"REPO_ID\"  |\"REPO_NAME\"                         |\"FIRST_SEEN\"  |\n",
      "-----------------------------------------------------------------\n",
      "|69068314   |dgonzalez/ammo                      |2016-09-23    |\n",
      "|25273737   |ksmyth/webgme-cyphy                 |2015-06-11    |\n",
      "|37967662   |Linosh/liquibase-nochangelogupdate  |2015-06-24    |\n",
      "|30379511   |Linell/grand_padrino                |2015-02-05    |\n",
      "|30379886   |kushkalra/cs925                     |2015-02-05    |\n",
      "-----------------------------------------------------------------\n",
      "\n"
     ]
    }
   ],
   "source": [
    "repos_df.limit(5).show()"
   ]
  },
  {
   "cell_type": "code",
   "execution_count": 20,
   "id": "7be47fa8",
   "metadata": {},
   "outputs": [
    {
     "name": "stdout",
     "output_type": "stream",
     "text": [
      "------------------------------------\n",
      "|\"REPO_ID\"  |\"DATE\"      |\"COUNT\"  |\n",
      "------------------------------------\n",
      "|677577973  |2023-08-13  |1        |\n",
      "|561463664  |2023-08-13  |1        |\n",
      "|677856804  |2023-08-13  |2        |\n",
      "|215804347  |2023-08-13  |1        |\n",
      "|671576165  |2023-08-13  |1        |\n",
      "------------------------------------\n",
      "\n"
     ]
    }
   ],
   "source": [
    "stars_df.limit(5).show()"
   ]
  },
  {
   "cell_type": "markdown",
   "id": "f67d08d9",
   "metadata": {},
   "source": [
    " # Let's analyze the stars dataframe"
   ]
  },
  {
   "cell_type": "markdown",
   "id": "246f42ff",
   "metadata": {},
   "source": [
    "### Let's find the all-time top 10 repositories by total number of stars on each repo:"
   ]
  },
  {
   "cell_type": "code",
   "execution_count": 37,
   "id": "5838ba38",
   "metadata": {},
   "outputs": [],
   "source": [
    "total_stars_per_repo = stars_df.group_by(\"repo_id\")\\\n",
    "                                .agg(sum(\"COUNT\"))\\\n",
    "                                .with_column_renamed('\"SUM(COUNT)\"', \"sum_of_stars\")\\\n",
    "                                .sort(\"sum_of_stars\", ascending=False)"
   ]
  },
  {
   "cell_type": "code",
   "execution_count": 38,
   "id": "e987f64a",
   "metadata": {},
   "outputs": [
    {
     "name": "stdout",
     "output_type": "stream",
     "text": [
      "------------------------------\n",
      "|\"REPO_ID\"  |\"SUM_OF_STARS\"  |\n",
      "------------------------------\n",
      "|28457823   |447314          |\n",
      "|177736533  |380031          |\n",
      "|60493101   |289722          |\n",
      "|21737465   |288695          |\n",
      "|13491895   |287963          |\n",
      "|85077558   |266189          |\n",
      "|54346799   |265323          |\n",
      "|11730342   |244857          |\n",
      "|10270250   |240837          |\n",
      "|83222441   |236998          |\n",
      "------------------------------\n",
      "\n"
     ]
    }
   ],
   "source": [
    "total_stars_per_repo.show(10)"
   ]
  },
  {
   "cell_type": "code",
   "execution_count": 39,
   "id": "3b19d5d7",
   "metadata": {},
   "outputs": [],
   "source": [
    "# TODO: popular repo with names \n",
    "# Join repos with stars to display names alongside the repo_id here."
   ]
  },
  {
   "cell_type": "markdown",
   "id": "841e30d6",
   "metadata": {},
   "source": [
    "### For each repository, for every year, what is the total number of stars added?"
   ]
  },
  {
   "cell_type": "code",
   "execution_count": 40,
   "id": "dc903858",
   "metadata": {},
   "outputs": [],
   "source": [
    "total_stars_repo_year = stars_df.group_by(\"REPO_ID\", year(\"DATE\"))\\\n",
    "                                .agg(sum(\"COUNT\"))\\\n",
    "                                .with_column_renamed('\"SUM(COUNT)\"', \"sum_of_stars\")\\\n",
    "                                .with_column_renamed('\"YEAR(DATE)\"', \"year\")\\\n",
    "                                .sort(\"sum_of_stars\", ascending=False)"
   ]
  },
  {
   "cell_type": "code",
   "execution_count": 41,
   "id": "800dedad",
   "metadata": {},
   "outputs": [
    {
     "name": "stdout",
     "output_type": "stream",
     "text": [
      "---------------------------------------------------------------------------\n",
      "|\"SUMMARY\"  |\"REPO_ID\"          |\"YEAR\"              |\"SUM_OF_STARS\"      |\n",
      "---------------------------------------------------------------------------\n",
      "|max        |678178357.0        |2023.0              |345750.0            |\n",
      "|mean       |240194043.314612   |2020.119233         |8.286336            |\n",
      "|stddev     |187747220.1552129  |2.4269439630943275  |150.43484356690772  |\n",
      "|min        |1.0                |2011.0              |1.0                 |\n",
      "|count      |44560490.0         |44560490.0          |44560490.0          |\n",
      "---------------------------------------------------------------------------\n",
      "\n"
     ]
    }
   ],
   "source": [
    "total_stars_repo_year.describe().show()"
   ]
  },
  {
   "cell_type": "code",
   "execution_count": 42,
   "id": "564e9df3",
   "metadata": {},
   "outputs": [
    {
     "name": "stdout",
     "output_type": "stream",
     "text": [
      "---------------------------------------\n",
      "|\"REPO_ID\"  |\"YEAR\"  |\"SUM_OF_STARS\"  |\n",
      "---------------------------------------\n",
      "|177736533  |2019    |345750          |\n",
      "|28457823   |2016    |182175          |\n",
      "|614765452  |2023    |139325          |\n",
      "|28457823   |2017    |96359           |\n",
      "|211104957  |2022    |92884           |\n",
      "|241576270  |2020    |81986           |\n",
      "|34526884   |2021    |79855           |\n",
      "|123458551  |2019    |76845           |\n",
      "|604826790  |2023    |75869           |\n",
      "|574523116  |2023    |71645           |\n",
      "---------------------------------------\n",
      "\n"
     ]
    }
   ],
   "source": [
    "total_stars_repo_year.show(10)"
   ]
  },
  {
   "cell_type": "markdown",
   "id": "20173f00",
   "metadata": {},
   "source": [
    "### Let's peek into the first 5 repos printed in the previous output:\n",
    "\n",
    "177736533,\n",
    "28457823,\n",
    "614765452,\n",
    "28457823,\n",
    "211104957"
   ]
  },
  {
   "cell_type": "code",
   "execution_count": 43,
   "id": "663583d1",
   "metadata": {},
   "outputs": [
    {
     "name": "stdout",
     "output_type": "stream",
     "text": [
      "---------------------------------------------\n",
      "|\"REPO_ID\"  |\"REPO_NAME\"     |\"FIRST_SEEN\"  |\n",
      "---------------------------------------------\n",
      "|177736533  |996icu/996.ICU  |2019-03-26    |\n",
      "|177736533  |997icu/996.ICU  |2019-03-28    |\n",
      "---------------------------------------------\n",
      "\n"
     ]
    }
   ],
   "source": [
    "repos_df.filter(col(\"repo_id\")==\"177736533\").show()"
   ]
  },
  {
   "cell_type": "code",
   "execution_count": 44,
   "id": "55f01040",
   "metadata": {},
   "outputs": [
    {
     "name": "stdout",
     "output_type": "stream",
     "text": [
      "-----------------------------------------------------------\n",
      "|\"REPO_ID\"  |\"REPO_NAME\"                   |\"FIRST_SEEN\"  |\n",
      "-----------------------------------------------------------\n",
      "|28457823   |freeCodeCamp/                 |2018-06-01    |\n",
      "|28457823   |FreeCodeCamp/FreeCodeCamp     |2015-08-13    |\n",
      "|28457823   |FreeCodeCamp/freecodecamp     |2015-01-01    |\n",
      "|28457823   |FreeCodeCampers/freecodecamp  |2015-04-20    |\n",
      "|28457823   |FreeCodeCamp/freeCodeCamp     |2017-01-10    |\n",
      "|28457823   |freeCodeCamp/freeCodeCamp     |2017-01-11    |\n",
      "-----------------------------------------------------------\n",
      "\n"
     ]
    }
   ],
   "source": [
    "repos_df.filter(col(\"repo_id\")==\"28457823\").show()"
   ]
  },
  {
   "cell_type": "code",
   "execution_count": 45,
   "id": "48bb21af",
   "metadata": {},
   "outputs": [
    {
     "name": "stdout",
     "output_type": "stream",
     "text": [
      "------------------------------------------------------------\n",
      "|\"REPO_ID\"  |\"REPO_NAME\"                    |\"FIRST_SEEN\"  |\n",
      "------------------------------------------------------------\n",
      "|614765452  |Torantulino/entrepreneur-gpt   |2023-03-24    |\n",
      "|614765452  |Torantulino/Entrepreneur-GPT   |2023-03-16    |\n",
      "|614765452  |Significant-Gravitas/Auto-GPT  |2023-04-15    |\n",
      "|614765452  |Torantulino/auto-gpt           |2023-03-28    |\n",
      "|614765452  |Torantulino/Auto-GPT           |2023-03-24    |\n",
      "------------------------------------------------------------\n",
      "\n"
     ]
    }
   ],
   "source": [
    "repos_df.filter(col(\"repo_id\")==\"614765452\").show()"
   ]
  },
  {
   "cell_type": "code",
   "execution_count": 46,
   "id": "d3b49e02",
   "metadata": {},
   "outputs": [
    {
     "name": "stdout",
     "output_type": "stream",
     "text": [
      "-----------------------------------------------------------\n",
      "|\"REPO_ID\"  |\"REPO_NAME\"                   |\"FIRST_SEEN\"  |\n",
      "-----------------------------------------------------------\n",
      "|28457823   |freeCodeCamp/                 |2018-06-01    |\n",
      "|28457823   |FreeCodeCamp/FreeCodeCamp     |2015-08-13    |\n",
      "|28457823   |FreeCodeCamp/freecodecamp     |2015-01-01    |\n",
      "|28457823   |FreeCodeCampers/freecodecamp  |2015-04-20    |\n",
      "|28457823   |FreeCodeCamp/freeCodeCamp     |2017-01-10    |\n",
      "|28457823   |freeCodeCamp/freeCodeCamp     |2017-01-11    |\n",
      "-----------------------------------------------------------\n",
      "\n"
     ]
    }
   ],
   "source": [
    "repos_df.filter(col(\"repo_id\")==\"28457823\").show()"
   ]
  },
  {
   "cell_type": "code",
   "execution_count": 47,
   "id": "f8b99c0c",
   "metadata": {},
   "outputs": [
    {
     "name": "stdout",
     "output_type": "stream",
     "text": [
      "--------------------------------------------------\n",
      "|\"REPO_ID\"  |\"REPO_NAME\"          |\"FIRST_SEEN\"  |\n",
      "--------------------------------------------------\n",
      "|211104957  |aplus-framework/app  |2021-07-22    |\n",
      "|211104957  |natanfelles/app      |2019-09-26    |\n",
      "--------------------------------------------------\n",
      "\n"
     ]
    }
   ],
   "source": [
    "repos_df.filter(col(\"repo_id\")==\"211104957\").show()"
   ]
  },
  {
   "cell_type": "markdown",
   "id": "32edf1fd",
   "metadata": {},
   "source": [
    "### For each repository, in 2023, what is the total number of stars added?"
   ]
  },
  {
   "cell_type": "code",
   "execution_count": 49,
   "id": "942a60bc",
   "metadata": {},
   "outputs": [],
   "source": [
    "repos_2023 = total_stars_repo_year.filter(col(\"year\")==\"2023\")\\\n",
    "                                    .sort(\"sum_of_stars\", ascending=False)"
   ]
  },
  {
   "cell_type": "code",
   "execution_count": 50,
   "id": "b283138c",
   "metadata": {},
   "outputs": [
    {
     "name": "stdout",
     "output_type": "stream",
     "text": [
      "---------------------------------------\n",
      "|\"REPO_ID\"  |\"YEAR\"  |\"SUM_OF_STARS\"  |\n",
      "---------------------------------------\n",
      "|614765452  |2023    |139325          |\n",
      "|604826790  |2023    |75869           |\n",
      "|574523116  |2023    |71645           |\n",
      "|527591471  |2023    |67624           |\n",
      "|596115135  |2023    |65466           |\n",
      "|619859161  |2023    |58624           |\n",
      "|552661142  |2023    |54182           |\n",
      "|619959033  |2023    |47126           |\n",
      "|620936652  |2023    |42897           |\n",
      "|577116112  |2023    |40797           |\n",
      "|468576060  |2023    |39837           |\n",
      "|634224458  |2023    |39361           |\n",
      "|612344730  |2023    |38147           |\n",
      "|616372661  |2023    |37183           |\n",
      "|575340621  |2023    |37098           |\n",
      "|13491895   |2023    |36987           |\n",
      "|21737465   |2023    |36502           |\n",
      "|601538369  |2023    |36392           |\n",
      "|612354784  |2023    |36036           |\n",
      "|618058471  |2023    |35555           |\n",
      "|635240594  |2023    |32935           |\n",
      "|155220641  |2023    |32531           |\n",
      "|608555244  |2023    |32459           |\n",
      "|579082810  |2023    |32139           |\n",
      "|613349035  |2023    |31623           |\n",
      "---------------------------------------\n",
      "\n"
     ]
    }
   ],
   "source": [
    "repos_2023.show(25)"
   ]
  },
  {
   "cell_type": "code",
   "execution_count": 51,
   "id": "7336af6c",
   "metadata": {},
   "outputs": [
    {
     "data": {
      "text/plain": [
       "StructType([StructField('REPO_ID', LongType(), nullable=True), StructField('YEAR', LongType(), nullable=True), StructField('SUM_OF_STARS', LongType(), nullable=True)])"
      ]
     },
     "execution_count": 51,
     "metadata": {},
     "output_type": "execute_result"
    }
   ],
   "source": [
    "repos_2023.schema"
   ]
  },
  {
   "cell_type": "code",
   "execution_count": 54,
   "id": "f0f32777",
   "metadata": {},
   "outputs": [],
   "source": [
    "repos_df = repos_df.with_column_renamed(\"repo_id\", \"id\")"
   ]
  },
  {
   "cell_type": "code",
   "execution_count": 55,
   "id": "b46be2a6",
   "metadata": {},
   "outputs": [],
   "source": [
    "top_repos_2023 = repos_2023.join(repos_df, repos_2023.repo_id==repos_df.id)\\\n",
    "                            .select(repos_df.repo_name, \n",
    "                                    repos_df.id, \n",
    "                                    repos_2023.sum_of_stars)\\\n",
    "                            .sort(\"sum_of_stars\", ascending=False)"
   ]
  },
  {
   "cell_type": "code",
   "execution_count": 56,
   "id": "541ddc7b",
   "metadata": {},
   "outputs": [
    {
     "name": "stdout",
     "output_type": "stream",
     "text": [
      "-----------------------------------------------------------------------\n",
      "|\"REPO_NAME\"                             |\"ID\"       |\"SUM_OF_STARS\"  |\n",
      "-----------------------------------------------------------------------\n",
      "|Torantulino/Entrepreneur-GPT            |614765452  |139325          |\n",
      "|Torantulino/Auto-GPT                    |614765452  |139325          |\n",
      "|Significant-Gravitas/Auto-GPT           |614765452  |139325          |\n",
      "|Torantulino/auto-gpt                    |614765452  |139325          |\n",
      "|Torantulino/entrepreneur-gpt            |614765452  |139325          |\n",
      "|base-org/chains                         |604826790  |75869           |\n",
      "|f/awesome-chatgpt-prompts               |574523116  |71645           |\n",
      "|AUTOMATIC1111/stable-diffusion-webui    |527591471  |67624           |\n",
      "|base-org/node                           |596115135  |65466           |\n",
      "|twitter/the-algorithm                   |619859161  |58624           |\n",
      "|hwchase17/langchain                     |552661142  |54182           |\n",
      "|langchain-ai/langchain                  |552661142  |54182           |\n",
      "|nomic-ai/gpt4all                        |619959033  |47126           |\n",
      "|xtekky/openai-gpt4                      |620936652  |42897           |\n",
      "|xtekky/gpt4free                         |620936652  |42897           |\n",
      "|PlexPt/awesome-chatgpt-prompts-zh       |577116112  |40797           |\n",
      "|openai/openai-cookbook                  |468576060  |39837           |\n",
      "|AntonOsika/gpt-engineer                 |634224458  |39361           |\n",
      "|Yidadaa/ChatGPT-Next-Web                |612344730  |38147           |\n",
      "|binary-husky/chatgpt_academic           |616372661  |37183           |\n",
      "|binary-husky/gpt_academic               |616372661  |37183           |\n",
      "|lencx/ChatGPT                           |575340621  |37098           |\n",
      "|vhf/free-programming-books              |13491895   |36987           |\n",
      "|EbookFoundation/free-programming-books  |13491895   |36987           |\n",
      "|sindresorhus/awesome                    |21737465   |36502           |\n",
      "-----------------------------------------------------------------------\n",
      "\n"
     ]
    }
   ],
   "source": [
    "top_repos_2023.show(25)"
   ]
  },
  {
   "cell_type": "markdown",
   "id": "9d73f306",
   "metadata": {},
   "source": [
    "# Writing SQL queries in Snowpark"
   ]
  },
  {
   "cell_type": "markdown",
   "id": "3b572472",
   "metadata": {},
   "source": [
    "### Now, let's find the top 25 popular repositories in 2023 based on the total number of stars added, but this time using SQL instead."
   ]
  },
  {
   "cell_type": "code",
   "execution_count": 58,
   "id": "bc5bbd84",
   "metadata": {},
   "outputs": [
    {
     "name": "stdout",
     "output_type": "stream",
     "text": [
      "--------------------------------------------------------------------\n",
      "|\"REPO_NAME\"                             |\"REPO_ID\"  |\"SUM_STARS\"  |\n",
      "--------------------------------------------------------------------\n",
      "|Significant-Gravitas/Auto-GPT           |614765452  |139325       |\n",
      "|Torantulino/Entrepreneur-GPT            |614765452  |139325       |\n",
      "|Torantulino/auto-gpt                    |614765452  |139325       |\n",
      "|Torantulino/Auto-GPT                    |614765452  |139325       |\n",
      "|Torantulino/entrepreneur-gpt            |614765452  |139325       |\n",
      "|base-org/chains                         |604826790  |75869        |\n",
      "|f/awesome-chatgpt-prompts               |574523116  |71645        |\n",
      "|AUTOMATIC1111/stable-diffusion-webui    |527591471  |67624        |\n",
      "|base-org/node                           |596115135  |65466        |\n",
      "|twitter/the-algorithm                   |619859161  |58624        |\n",
      "|langchain-ai/langchain                  |552661142  |54182        |\n",
      "|hwchase17/langchain                     |552661142  |54182        |\n",
      "|nomic-ai/gpt4all                        |619959033  |47126        |\n",
      "|xtekky/gpt4free                         |620936652  |42897        |\n",
      "|xtekky/openai-gpt4                      |620936652  |42897        |\n",
      "|PlexPt/awesome-chatgpt-prompts-zh       |577116112  |40797        |\n",
      "|openai/openai-cookbook                  |468576060  |39837        |\n",
      "|AntonOsika/gpt-engineer                 |634224458  |39361        |\n",
      "|Yidadaa/ChatGPT-Next-Web                |612344730  |38147        |\n",
      "|binary-husky/chatgpt_academic           |616372661  |37183        |\n",
      "|binary-husky/gpt_academic               |616372661  |37183        |\n",
      "|lencx/ChatGPT                           |575340621  |37098        |\n",
      "|EbookFoundation/free-programming-books  |13491895   |36987        |\n",
      "|vhf/free-programming-books              |13491895   |36987        |\n",
      "|sindresorhus/awesome                    |21737465   |36502        |\n",
      "--------------------------------------------------------------------\n",
      "\n"
     ]
    }
   ],
   "source": [
    "session.sql(\"\"\"use github_archive_events\"\"\")\n",
    "session.sql(\"\"\"\n",
    "SELECT repo.repo_name,\n",
    "       repo.repo_id,\n",
    "       SUM(stars.count) AS sum_stars\n",
    "FROM cybersyn.gh_stars AS stars\n",
    "JOIN cybersyn.gh_repos AS repo\n",
    "    ON (repo.repo_id = stars.repo_id)\n",
    "WHERE stars.date >= \\'2023-01-01\\'\n",
    "GROUP BY repo.repo_name, repo.repo_id\n",
    "ORDER BY sum_stars DESC NULLS LAST\n",
    "LIMIT 50\"\"\").show(25)"
   ]
  },
  {
   "cell_type": "code",
   "execution_count": 59,
   "id": "40b8fa85",
   "metadata": {},
   "outputs": [],
   "source": [
    "session.close()"
   ]
  },
  {
   "cell_type": "code",
   "execution_count": 60,
   "id": "7798b2fe",
   "metadata": {},
   "outputs": [],
   "source": [
    "# END"
   ]
  }
 ],
 "metadata": {
  "kernelspec": {
   "display_name": "Python 3 (ipykernel)",
   "language": "python",
   "name": "python3"
  },
  "language_info": {
   "codemirror_mode": {
    "name": "ipython",
    "version": 3
   },
   "file_extension": ".py",
   "mimetype": "text/x-python",
   "name": "python",
   "nbconvert_exporter": "python",
   "pygments_lexer": "ipython3",
   "version": "3.9.17"
  }
 },
 "nbformat": 4,
 "nbformat_minor": 5
}
