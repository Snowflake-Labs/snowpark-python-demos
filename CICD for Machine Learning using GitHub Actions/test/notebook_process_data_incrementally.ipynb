{
 "cells": [
  {
   "cell_type": "code",
   "execution_count": 36,
   "id": "508f21e3",
   "metadata": {},
   "outputs": [],
   "source": [
    "import sys\n",
    "import os\n",
    "import json\n",
    "from datetime import datetime\n",
    "import re\n",
    "\n",
    "from snowflake.snowpark.session import Session\n",
    "import snowflake.snowpark.functions as F\n",
    "import snowflake.snowpark.types as T\n",
    "from snowflake.snowpark.functions import col\n",
    "\n",
    "from snowflake.ml.modeling.preprocessing import OneHotEncoder"
   ]
  },
  {
   "cell_type": "code",
   "execution_count": null,
   "id": "c88b6d4f",
   "metadata": {},
   "outputs": [],
   "source": [
    "my_dir = os.getcwd()\n",
    "connection_parameters = json.load(open(f'/{my_dir}/creds.json'))\n",
    "session = Session.builder.configs(connection_parameters).create()"
   ]
  },
  {
   "cell_type": "code",
   "execution_count": null,
   "id": "3f156681",
   "metadata": {},
   "outputs": [],
   "source": [
    "session.use_database('ML_SNOWPARK_CI_CD')\n",
    "session.use_schema('ML_PROCESSING')"
   ]
  },
  {
   "cell_type": "code",
   "execution_count": null,
   "id": "4ca664f1",
   "metadata": {},
   "outputs": [],
   "source": []
  },
  {
   "cell_type": "code",
   "execution_count": null,
   "id": "f13a01ef",
   "metadata": {},
   "outputs": [],
   "source": [
    "def sproc_process_input(session: Session) -> T.Variant:\n",
    "    # Import Libraries\n",
    "    from datetime import datetime\n",
    "    import re\n",
    "\n",
    "    from snowflake.snowpark.session import Session\n",
    "    import snowflake.snowpark.functions as F\n",
    "    from snowflake.snowpark.functions import col\n",
    "\n",
    "    from snowflake.ml.modeling.preprocessing import OneHotEncoder\n",
    "\n",
    "    # Creating a Snowpark DataFrame\n",
    "    application_record_sdf = session.table('ML_SNOWPARK_CI_CD.DATA_PROCESSING.APPLICATION_RECORD_STREAM')\n",
    "    print('Application table size\\t: ',application_record_sdf.count())\n",
    "\n",
    "    if application_record_sdf.count() == 0:\n",
    "        print('\\nAPPLICATION_RECORD_STREAM is empty')\n",
    "        sys.exit()\n",
    "\n",
    "    # Selecting a few columns for modeling\n",
    "    cols_numerical = ['AMT_INCOME_TOTAL', 'DAYS_EMPLOYED', 'FLAG_MOBIL', 'CNT_FAM_MEMBERS']\n",
    "    cols_categorical = ['CODE_GENDER', 'NAME_HOUSING_TYPE', 'OCCUPATION_TYPE']\n",
    "    application_record_sdf = application_record_sdf[cols_numerical+cols_categorical]\n",
    "\n",
    "    # Perform One-Hot-Encoding for categorical columns\n",
    "    my_ohe_encoder = OneHotEncoder(input_cols=cols_categorical, output_cols=cols_categorical, drop_input_cols=True)\n",
    "    prepared_sdf = my_ohe_encoder.fit(application_record_sdf).transform(application_record_sdf)\n",
    "\n",
    "    # Cleaning column names to make it easier for future referencing\n",
    "    cols = prepared_sdf.columns\n",
    "    for old_col in cols:\n",
    "        new_col = re.sub(r'[^a-zA-Z0-9_]', '', old_col)\n",
    "        new_col = new_col.upper()\n",
    "        prepared_sdf = prepared_sdf.rename(col(old_col), new_col)\n",
    "\n",
    "\n",
    "    temp_df = session.table('ML_SNOWPARK_CI_CD.ML_PROCESSING.PROCESSED_INPUT').limit(0)\n",
    "    final_table = temp_df.natural_join(prepared_sdf,\n",
    "                                        how='outer').fillna(0)\n",
    "    final_table = final_table.with_column('TIMESTAMP', F.current_timestamp())\n",
    "\n",
    "    if final_table.count() > 0:\n",
    "        count = final_table.count()\n",
    "        print('\\nRows to be written to ML_SNOWPARK_CI_CD.ML_PROCESSING.PROCESSED_INPUT = ',final_table.count())\n",
    "        final_table.write.mode('append').save_as_table(\"ML_SNOWPARK_CI_CD.ML_PROCESSING.PROCESSED_INPUT\")\n",
    "    else:\n",
    "        print('Final DF Empty')\n",
    "        sys.exit()\n",
    "        \n",
    "    return str(f'{count} rows written to the ML_PROCESSING.PROCESSED_INPUT stream at ' + str(datetime.now()))"
   ]
  },
  {
   "cell_type": "code",
   "execution_count": 56,
   "id": "6ec209b6",
   "metadata": {},
   "outputs": [],
   "source": [
    "sproc_de = session.sproc.register(func=sproc_process_input,\n",
    "                                  name='sproc_process_input',\n",
    "                                  is_permanent=True,\n",
    "                                  replace=True,\n",
    "                                  stage_location='@ML_PROCESSING.ML_MODELS',\n",
    "                                  packages=['snowflake-ml-python',\n",
    "                                            'snowflake-snowpark-python'\n",
    "                                           ])"
   ]
  }
 ],
 "metadata": {
  "kernelspec": {
   "display_name": "Python 3 (ipykernel)",
   "language": "python",
   "name": "python3"
  },
  "language_info": {
   "codemirror_mode": {
    "name": "ipython",
    "version": 3
   },
   "file_extension": ".py",
   "mimetype": "text/x-python",
   "name": "python",
   "nbconvert_exporter": "python",
   "pygments_lexer": "ipython3",
   "version": "3.9.16"
  }
 },
 "nbformat": 4,
 "nbformat_minor": 5
}
