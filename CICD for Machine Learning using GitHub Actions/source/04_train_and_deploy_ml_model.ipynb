{
 "cells": [
  {
   "attachments": {},
   "cell_type": "markdown",
   "id": "a7d72538",
   "metadata": {},
   "source": [
    "## Imports"
   ]
  },
  {
   "cell_type": "code",
   "execution_count": 45,
   "id": "2cb04fd9",
   "metadata": {},
   "outputs": [],
   "source": [
    "from snowflake.snowpark.session import Session\n",
    "import snowflake.snowpark.types as T\n",
    "import snowflake.snowpark.functions as F\n",
    "from snowflake.snowpark.functions import col\n",
    "\n",
    "from snowflake.snowpark.functions import udf\n",
    "from snowflake.snowpark.types import IntegerType, FloatType, StringType,StructType, StructField\n",
    "\n",
    "import pandas as pd\n",
    "\n",
    "import snowflake.ml.modeling.preprocessing as snowml\n",
    "from snowflake.ml.modeling.xgboost import XGBClassifier\n",
    "from snowflake.ml.modeling.preprocessing import KBinsDiscretizer, OrdinalEncoder, OneHotEncoder\n",
    "from snowflake.ml.modeling.impute import SimpleImputer\n",
    "\n",
    "import json\n",
    "\n",
    "import matplotlib.pyplot as plt\n",
    "import seaborn as sns\n",
    "\n",
    "import warnings\n",
    "warnings.filterwarnings(\"ignore\")"
   ]
  },
  {
   "cell_type": "code",
   "execution_count": 46,
   "id": "9cc080c0",
   "metadata": {},
   "outputs": [],
   "source": [
    "my_dir = os.getcwd()\n",
    "connection_parameters = json.load(open(f'/{my_dir}/creds.json'))\n",
    "session = Session.builder.configs(connection_parameters).create()"
   ]
  },
  {
   "attachments": {},
   "cell_type": "markdown",
   "id": "5efba6a2",
   "metadata": {},
   "source": [
    "# Train ML Model"
   ]
  },
  {
   "cell_type": "code",
   "execution_count": 47,
   "id": "9f148313",
   "metadata": {},
   "outputs": [
    {
     "data": {
      "text/plain": [
       "[Row(status='Statement executed successfully.')]"
      ]
     },
     "execution_count": 47,
     "metadata": {},
     "output_type": "execute_result"
    }
   ],
   "source": [
    "session.sql('ALTER WAREHOUSE SSK_RESEARCH SET WAREHOUSE_SIZE = \"MEDIUM\"').collect()"
   ]
  },
  {
   "cell_type": "code",
   "execution_count": 48,
   "id": "a019f8e4",
   "metadata": {},
   "outputs": [],
   "source": [
    "session.use_database('ML_SNOWPARK_CI_CD')\n",
    "session.use_schema('DATA_PROCESSING')"
   ]
  },
  {
   "attachments": {},
   "cell_type": "markdown",
   "id": "24d093ad",
   "metadata": {},
   "source": [
    "# ML Modeling"
   ]
  },
  {
   "cell_type": "code",
   "execution_count": 6,
   "id": "b2d2c3a7",
   "metadata": {},
   "outputs": [],
   "source": [
    "# Prepare Data for modeling\n",
    "snowdf_train = session.table('CREDIT_DEFAULT_TRAIN')\n",
    "feature_cols = snowdf_train.columns\n",
    "feature_cols.remove('TARGET')\n",
    "target_col = 'TARGET'"
   ]
  },
  {
   "cell_type": "code",
   "execution_count": 7,
   "id": "0053ffc1",
   "metadata": {},
   "outputs": [
    {
     "data": {
      "text/plain": [
       "<snowflake.ml.modeling.xgboost.xgb_classifier.XGBClassifier at 0x16bf4c130>"
      ]
     },
     "execution_count": 7,
     "metadata": {},
     "output_type": "execute_result"
    }
   ],
   "source": [
    "# Define the XGBClassifier and fit the model\n",
    "xgbmodel = XGBClassifier(random_state=123, input_cols=feature_cols, label_cols=target_col, output_cols='PREDICTION')\n",
    "xgbmodel.fit(snowdf_train)"
   ]
  },
  {
   "cell_type": "code",
   "execution_count": 8,
   "id": "05bb8667",
   "metadata": {
    "scrolled": true
   },
   "outputs": [],
   "source": [
    "# Score the data using the fitted xgbmodel\n",
    "snowdf_test = session.table('CREDIT_DEFAULT_TEST')\n",
    "scored_sdf = xgbmodel.predict(snowdf_test)"
   ]
  },
  {
   "cell_type": "code",
   "execution_count": 16,
   "id": "8c66d9dd",
   "metadata": {},
   "outputs": [],
   "source": [
    "test_df = scored_sdf.limit(5).to_pandas()"
   ]
  },
  {
   "attachments": {},
   "cell_type": "markdown",
   "id": "8f04484e",
   "metadata": {},
   "source": [
    "# Deploying Model for Future Use\n",
    "\n",
    "Steps to follow-\n",
    "1. Get model in your local environment\n",
    "2. Save the file in your local env. as .joblib file\n",
    "3. Upload the file to Snowflake stage\n",
    "4. Create UDF using model in stage\n",
    "\n",
    "We can use `to_xgboost()` in order to get the actual xgboost model object which gives us access to all its attributes."
   ]
  },
  {
   "cell_type": "code",
   "execution_count": 35,
   "id": "6e92acd7",
   "metadata": {},
   "outputs": [],
   "source": [
    "import joblib\n",
    "import cachetools"
   ]
  },
  {
   "attachments": {},
   "cell_type": "markdown",
   "id": "37fba150",
   "metadata": {},
   "source": [
    "### Step 1 : Get model in your local environment"
   ]
  },
  {
   "cell_type": "code",
   "execution_count": 36,
   "id": "fb31a865",
   "metadata": {
    "scrolled": false
   },
   "outputs": [
    {
     "data": {
      "text/html": [
       "<style>#sk-container-id-1 {color: black;background-color: white;}#sk-container-id-1 pre{padding: 0;}#sk-container-id-1 div.sk-toggleable {background-color: white;}#sk-container-id-1 label.sk-toggleable__label {cursor: pointer;display: block;width: 100%;margin-bottom: 0;padding: 0.3em;box-sizing: border-box;text-align: center;}#sk-container-id-1 label.sk-toggleable__label-arrow:before {content: \"▸\";float: left;margin-right: 0.25em;color: #696969;}#sk-container-id-1 label.sk-toggleable__label-arrow:hover:before {color: black;}#sk-container-id-1 div.sk-estimator:hover label.sk-toggleable__label-arrow:before {color: black;}#sk-container-id-1 div.sk-toggleable__content {max-height: 0;max-width: 0;overflow: hidden;text-align: left;background-color: #f0f8ff;}#sk-container-id-1 div.sk-toggleable__content pre {margin: 0.2em;color: black;border-radius: 0.25em;background-color: #f0f8ff;}#sk-container-id-1 input.sk-toggleable__control:checked~div.sk-toggleable__content {max-height: 200px;max-width: 100%;overflow: auto;}#sk-container-id-1 input.sk-toggleable__control:checked~label.sk-toggleable__label-arrow:before {content: \"▾\";}#sk-container-id-1 div.sk-estimator input.sk-toggleable__control:checked~label.sk-toggleable__label {background-color: #d4ebff;}#sk-container-id-1 div.sk-label input.sk-toggleable__control:checked~label.sk-toggleable__label {background-color: #d4ebff;}#sk-container-id-1 input.sk-hidden--visually {border: 0;clip: rect(1px 1px 1px 1px);clip: rect(1px, 1px, 1px, 1px);height: 1px;margin: -1px;overflow: hidden;padding: 0;position: absolute;width: 1px;}#sk-container-id-1 div.sk-estimator {font-family: monospace;background-color: #f0f8ff;border: 1px dotted black;border-radius: 0.25em;box-sizing: border-box;margin-bottom: 0.5em;}#sk-container-id-1 div.sk-estimator:hover {background-color: #d4ebff;}#sk-container-id-1 div.sk-parallel-item::after {content: \"\";width: 100%;border-bottom: 1px solid gray;flex-grow: 1;}#sk-container-id-1 div.sk-label:hover label.sk-toggleable__label {background-color: #d4ebff;}#sk-container-id-1 div.sk-serial::before {content: \"\";position: absolute;border-left: 1px solid gray;box-sizing: border-box;top: 0;bottom: 0;left: 50%;z-index: 0;}#sk-container-id-1 div.sk-serial {display: flex;flex-direction: column;align-items: center;background-color: white;padding-right: 0.2em;padding-left: 0.2em;position: relative;}#sk-container-id-1 div.sk-item {position: relative;z-index: 1;}#sk-container-id-1 div.sk-parallel {display: flex;align-items: stretch;justify-content: center;background-color: white;position: relative;}#sk-container-id-1 div.sk-item::before, #sk-container-id-1 div.sk-parallel-item::before {content: \"\";position: absolute;border-left: 1px solid gray;box-sizing: border-box;top: 0;bottom: 0;left: 50%;z-index: -1;}#sk-container-id-1 div.sk-parallel-item {display: flex;flex-direction: column;z-index: 1;position: relative;background-color: white;}#sk-container-id-1 div.sk-parallel-item:first-child::after {align-self: flex-end;width: 50%;}#sk-container-id-1 div.sk-parallel-item:last-child::after {align-self: flex-start;width: 50%;}#sk-container-id-1 div.sk-parallel-item:only-child::after {width: 0;}#sk-container-id-1 div.sk-dashed-wrapped {border: 1px dashed gray;margin: 0 0.4em 0.5em 0.4em;box-sizing: border-box;padding-bottom: 0.4em;background-color: white;}#sk-container-id-1 div.sk-label label {font-family: monospace;font-weight: bold;display: inline-block;line-height: 1.2em;}#sk-container-id-1 div.sk-label-container {text-align: center;}#sk-container-id-1 div.sk-container {/* jupyter's `normalize.less` sets `[hidden] { display: none; }` but bootstrap.min.css set `[hidden] { display: none !important; }` so we also need the `!important` here to be able to override the default hidden behavior on the sphinx rendered scikit-learn.org. See: https://github.com/scikit-learn/scikit-learn/issues/21755 */display: inline-block !important;position: relative;}#sk-container-id-1 div.sk-text-repr-fallback {display: none;}</style><div id=\"sk-container-id-1\" class=\"sk-top-container\"><div class=\"sk-text-repr-fallback\"><pre>XGBClassifier(base_score=None, booster=None, callbacks=None,\n",
       "              colsample_bylevel=None, colsample_bynode=None,\n",
       "              colsample_bytree=None, early_stopping_rounds=None,\n",
       "              enable_categorical=False, eval_metric=None, feature_types=None,\n",
       "              gamma=None, gpu_id=None, grow_policy=None, importance_type=None,\n",
       "              interaction_constraints=None, learning_rate=None, max_bin=None,\n",
       "              max_cat_threshold=None, max_cat_to_onehot=None,\n",
       "              max_delta_step=None, max_depth=None, max_leaves=None,\n",
       "              min_child_weight=None, missing=nan, monotone_constraints=None,\n",
       "              n_estimators=100, n_jobs=None, num_parallel_tree=None,\n",
       "              predictor=None, random_state=123, ...)</pre><b>In a Jupyter environment, please rerun this cell to show the HTML representation or trust the notebook. <br />On GitHub, the HTML representation is unable to render, please try loading this page with nbviewer.org.</b></div><div class=\"sk-container\" hidden><div class=\"sk-item\"><div class=\"sk-estimator sk-toggleable\"><input class=\"sk-toggleable__control sk-hidden--visually\" id=\"sk-estimator-id-1\" type=\"checkbox\" checked><label for=\"sk-estimator-id-1\" class=\"sk-toggleable__label sk-toggleable__label-arrow\">XGBClassifier</label><div class=\"sk-toggleable__content\"><pre>XGBClassifier(base_score=None, booster=None, callbacks=None,\n",
       "              colsample_bylevel=None, colsample_bynode=None,\n",
       "              colsample_bytree=None, early_stopping_rounds=None,\n",
       "              enable_categorical=False, eval_metric=None, feature_types=None,\n",
       "              gamma=None, gpu_id=None, grow_policy=None, importance_type=None,\n",
       "              interaction_constraints=None, learning_rate=None, max_bin=None,\n",
       "              max_cat_threshold=None, max_cat_to_onehot=None,\n",
       "              max_delta_step=None, max_depth=None, max_leaves=None,\n",
       "              min_child_weight=None, missing=nan, monotone_constraints=None,\n",
       "              n_estimators=100, n_jobs=None, num_parallel_tree=None,\n",
       "              predictor=None, random_state=123, ...)</pre></div></div></div></div></div>"
      ],
      "text/plain": [
       "XGBClassifier(base_score=None, booster=None, callbacks=None,\n",
       "              colsample_bylevel=None, colsample_bynode=None,\n",
       "              colsample_bytree=None, early_stopping_rounds=None,\n",
       "              enable_categorical=False, eval_metric=None, feature_types=None,\n",
       "              gamma=None, gpu_id=None, grow_policy=None, importance_type=None,\n",
       "              interaction_constraints=None, learning_rate=None, max_bin=None,\n",
       "              max_cat_threshold=None, max_cat_to_onehot=None,\n",
       "              max_delta_step=None, max_depth=None, max_leaves=None,\n",
       "              min_child_weight=None, missing=nan, monotone_constraints=None,\n",
       "              n_estimators=100, n_jobs=None, num_parallel_tree=None,\n",
       "              predictor=None, random_state=123, ...)"
      ]
     },
     "execution_count": 36,
     "metadata": {},
     "output_type": "execute_result"
    }
   ],
   "source": [
    "# We can use to_xgboost() in order to get the actual xgboost model object which gives us access to all its attributes.\n",
    "xgb_file = xgbmodel.to_xgboost()\n",
    "xgb_file"
   ]
  },
  {
   "attachments": {},
   "cell_type": "markdown",
   "id": "7b73137b",
   "metadata": {},
   "source": [
    "### Step 2 : Save the file in your local env. as .joblib file"
   ]
  },
  {
   "cell_type": "code",
   "execution_count": 37,
   "id": "30d89b1a",
   "metadata": {},
   "outputs": [
    {
     "data": {
      "text/plain": [
       "['model.joblib.gz']"
      ]
     },
     "execution_count": 37,
     "metadata": {},
     "output_type": "execute_result"
    }
   ],
   "source": [
    "MODEL_FILE = 'model.joblib.gz'\n",
    "joblib.dump(xgb_file, MODEL_FILE) # we are just pickling it locally first"
   ]
  },
  {
   "attachments": {},
   "cell_type": "markdown",
   "id": "37e84f7c",
   "metadata": {},
   "source": [
    "### Step 3 : Upload the file to Snowflake stage"
   ]
  },
  {
   "cell_type": "code",
   "execution_count": 39,
   "id": "6ba22349",
   "metadata": {},
   "outputs": [
    {
     "data": {
      "text/plain": [
       "[Row(status='Stage area ML_MODELS successfully created.')]"
      ]
     },
     "execution_count": 39,
     "metadata": {},
     "output_type": "execute_result"
    }
   ],
   "source": [
    "session.sql('CREATE STAGE IF NOT EXISTS ML_SNOWPARK_CI_CD.ML_PROCESSING.ML_MODELS').collect()"
   ]
  },
  {
   "cell_type": "code",
   "execution_count": 41,
   "id": "84f5c2ce",
   "metadata": {},
   "outputs": [
    {
     "data": {
      "text/plain": [
       "[PutResult(source='model.joblib.gz', target='model.joblib.gz', source_size=82544, target_size=82560, source_compression='GZIP', target_compression='GZIP', status='UPLOADED', message='')]"
      ]
     },
     "execution_count": 41,
     "metadata": {},
     "output_type": "execute_result"
    }
   ],
   "source": [
    "session.file.put(MODEL_FILE, \"@ML_PROCESSING.ML_MODELS\", auto_compress=False, overwrite=True)"
   ]
  },
  {
   "attachments": {},
   "cell_type": "markdown",
   "id": "7ca04de3",
   "metadata": {},
   "source": [
    "### Step 4 : Create UDF using model in stage"
   ]
  },
  {
   "cell_type": "code",
   "execution_count": 42,
   "id": "0e4ddc4a",
   "metadata": {},
   "outputs": [
    {
     "data": {
      "text/plain": [
       "[Row(status='Statement executed successfully.')]"
      ]
     },
     "execution_count": 42,
     "metadata": {},
     "output_type": "execute_result"
    }
   ],
   "source": [
    "session.sql('USE SCHEMA ML_SNOWPARK_CI_CD.ML_PROCESSING').collect()"
   ]
  },
  {
   "cell_type": "code",
   "execution_count": 43,
   "id": "450fdeb4",
   "metadata": {},
   "outputs": [],
   "source": [
    "# Define a simple scoring function\n",
    "from cachetools import cached\n",
    "\n",
    "@cached(cache={})\n",
    "def load_model(model_path: str) -> object:\n",
    "    from joblib import load\n",
    "    model = load(model_path)\n",
    "    return model\n",
    "\n",
    "def udf_score_xgboost_model_vec_cached(df: pd.DataFrame) -> pd.Series:\n",
    "    import os\n",
    "    import sys\n",
    "    # file-dependencies of UDFs are available in snowflake_import_directory\n",
    "    IMPORT_DIRECTORY_NAME = \"snowflake_import_directory\"\n",
    "    import_dir = sys._xoptions[IMPORT_DIRECTORY_NAME]\n",
    "    model_name = 'model.joblib.gz'\n",
    "    model = load_model(import_dir+model_name)\n",
    "    df.columns = feature_cols\n",
    "    scored_data = pd.Series(model.predict(df))\n",
    "    return scored_data"
   ]
  },
  {
   "cell_type": "code",
   "execution_count": 44,
   "id": "85242a02",
   "metadata": {},
   "outputs": [],
   "source": [
    "# Register UDF\n",
    "udf_clv = session.udf.register(func=udf_score_xgboost_model_vec_cached, \n",
    "                               name=\"PREDICT_DEFAULT\", \n",
    "                               stage_location='@ML_MODELS',\n",
    "                               input_types=[T.FloatType()]*len(feature_cols),\n",
    "                               return_type = T.FloatType(),\n",
    "                               replace=True, \n",
    "                               is_permanent=True, \n",
    "                               imports=['@ML_MODELS/model.joblib.gz'],\n",
    "                               packages=['pandas',\n",
    "                                         'xgboost',\n",
    "                                         'joblib',\n",
    "                                         'cachetools'], \n",
    "                               session=session)"
   ]
  },
  {
   "attachments": {},
   "cell_type": "markdown",
   "id": "fef3777c",
   "metadata": {},
   "source": [
    "# Wrap-up"
   ]
  },
  {
   "cell_type": "code",
   "execution_count": 55,
   "id": "d2ca3915",
   "metadata": {},
   "outputs": [],
   "source": [
    "!pip freeze > requirements.txt"
   ]
  },
  {
   "cell_type": "code",
   "execution_count": null,
   "id": "4a8cf97d",
   "metadata": {},
   "outputs": [],
   "source": [
    "session.close()"
   ]
  }
 ],
 "metadata": {
  "kernelspec": {
   "display_name": "Python 3 (ipykernel)",
   "language": "python",
   "name": "python3"
  },
  "language_info": {
   "codemirror_mode": {
    "name": "ipython",
    "version": 3
   },
   "file_extension": ".py",
   "mimetype": "text/x-python",
   "name": "python",
   "nbconvert_exporter": "python",
   "pygments_lexer": "ipython3",
   "version": "3.9.16"
  }
 },
 "nbformat": 4,
 "nbformat_minor": 5
}
